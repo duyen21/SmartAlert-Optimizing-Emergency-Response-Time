{
 "cells": [
  {
   "cell_type": "code",
   "execution_count": 1,
   "id": "8fd358e9",
   "metadata": {},
   "outputs": [],
   "source": [
    "import pandas as pd\n",
    "from sklearn.model_selection import train_test_split\n",
    "import contractions\n",
    "import string\n",
    "import nltk\n",
    "from nltk.corpus import stopwords\n",
    "# nltk.download('stopwords')\n",
    "import numpy as np\n",
    "from sklearn.metrics import accuracy_score\n",
    "from sklearn.ensemble import RandomForestClassifier\n",
    "import warnings\n",
    "warnings.filterwarnings(\"ignore\")\n",
    "import matplotlib.pyplot as plt\n",
    "import seaborn as sns\n",
    "import random\n",
    "from datetime import datetime, timedelta"
   ]
  },
  {
   "cell_type": "code",
   "execution_count": 3,
   "id": "4a4c6bf0",
   "metadata": {},
   "outputs": [],
   "source": [
    "def read_data1(path, location, event_type, start_date, end_date):\n",
    "    #df_train\n",
    "    df_train = pd.read_csv(path + 'train.tsv', delimiter='\\t')\n",
    "    df_train['location'] = location\n",
    "    df_train['type'] = event_type\n",
    "    df_train.drop('tweet_id', axis=1, inplace = True)\n",
    "    df_train['target'] = 0\n",
    "    df_train.loc[df_train['class_label'].isin(['displaced_people_and_evacuations','caution_and_advice','infrastructure_and_utility_damage','requests_or_urgent_needs']), 'target'] = 1\n",
    "    df_train.drop('class_label', axis=1, inplace = True)\n",
    "    time_frame = end_date - start_date # total time frame in days\n",
    "\n",
    "    random_datetimes = [start_date + timedelta(days=random.randrange(time_frame.days), \n",
    "                                                 hours=random.randint(0, 23),\n",
    "                                                 minutes=random.randint(0, 59),\n",
    "                                                 seconds=random.randint(0, 59)) for i in range(len(df_train))]\n",
    "    df_train['datetime'] = random_datetimes\n",
    "    df_train['year'] = [d.year for d in df_train['datetime']]\n",
    "    df_train['date'] = [d.date() for d in df_train['datetime']]\n",
    "    df_train['time'] = [d.time() for d in df_train['datetime']]\n",
    "\n",
    "    #df_test\n",
    "    df_test = pd.read_csv(path + 'test.tsv', delimiter='\\t')\n",
    "    df_test['location'] = location\n",
    "    df_test['type'] = event_type\n",
    "    df_test.drop('tweet_id', axis=1, inplace = True)\n",
    "    df_test['target'] = 0\n",
    "    df_test.loc[df_test['class_label'].isin(['displaced_people_and_evacuations','caution_and_advice','infrastructure_and_utility_damage','requests_or_urgent_needs']), 'target'] = 1\n",
    "    df_test.drop('class_label', axis=1, inplace = True)\n",
    "    time_frame = end_date - start_date # total time frame in days\n",
    "\n",
    "    random_datetimes = [start_date + timedelta(days=random.randrange(time_frame.days), \n",
    "                                                 hours=random.randint(0, 23),\n",
    "                                                 minutes=random.randint(0, 59),\n",
    "                                                 seconds=random.randint(0, 59)) for i in range(len(df_test))]\n",
    "    df_test['datetime'] = random_datetimes\n",
    "    df_test['year'] = [d.year for d in df_test['datetime']]\n",
    "    df_test['date'] = [d.date() for d in df_test['datetime']]\n",
    "    df_test['time'] = [d.time() for d in df_test['datetime']]\n",
    "\n",
    "    #df_dev\n",
    "    df_dev = pd.read_csv(path + 'dev.tsv', delimiter='\\t')\n",
    "    df_dev['location'] = location\n",
    "    df_dev['type'] = event_type\n",
    "    df_dev.drop('tweet_id', axis=1, inplace = True)\n",
    "    df_dev['target'] = 0\n",
    "    df_dev.loc[df_dev['class_label'].isin(['displaced_people_and_evacuations','caution_and_advice','infrastructure_and_utility_damage','requests_or_urgent_needs']), 'target'] = 1\n",
    "    df_dev.drop('class_label', axis=1, inplace = True)\n",
    "    time_frame = end_date - start_date # total time frame in days\n",
    "\n",
    "    random_datetimes = [start_date + timedelta(days=random.randrange(time_frame.days), \n",
    "                                                 hours=random.randint(0, 23),\n",
    "                                                 minutes=random.randint(0, 59),\n",
    "                                                 seconds=random.randint(0, 59)) for i in range(len(df_dev))]\n",
    "    df_dev['datetime'] = random_datetimes\n",
    "    df_dev['year'] = [d.year for d in df_dev['datetime']]\n",
    "    df_dev['date'] = [d.date() for d in df_dev['datetime']]\n",
    "    df_dev['time'] = [d.time() for d in df_dev['datetime']]\n",
    "    return df_train, df_test, df_dev"
   ]
  },
  {
   "cell_type": "code",
   "execution_count": 4,
   "id": "a9dd8a98",
   "metadata": {},
   "outputs": [],
   "source": [
    "events = [{'path': '/DSCI560/project/events_set1/canada_wildfires_2016/canada_wildfires_2016_', 'location': 'Canada', 'event_type': 'wildfire', 'start_date': datetime(2016, 4, 30), 'end_date': datetime(2016, 6, 1)},\n",
    "          {'path': '/DSCI560/project/events_set1/cyclone_idai_2019/cyclone_idai_2019_', 'location': 'Zimbabwe', 'event_type': 'cyclone', 'start_date': datetime(2019, 3, 4), 'end_date': datetime(2019, 3, 21)},\n",
    "          {'path': '/DSCI560/project/events_set1/ecuador_earthquake_2016/ecuador_earthquake_2016_', 'location': 'Ecuador', 'event_type': 'earthquake', 'start_date': datetime(2016, 4, 16), 'end_date': datetime(2016, 4, 17)},\n",
    "          {'path': '/DSCI560/project/events_set1/greece_wildfires_2018/greece_wildfires_2018_', 'location': 'Greece', 'event_type': 'wildfire', 'start_date': datetime(2018, 7, 23), 'end_date': datetime(2018, 7, 26)},\n",
    "          {'path': '/DSCI560/project/events_set1/hurricane_harvey_2017/hurricane_harvey_2017_', 'location': 'Texas, USA', 'event_type': 'hurricane', 'start_date': datetime(2017, 8, 17), 'end_date': datetime(2017, 9, 3)},\n",
    "          {'path': '/DSCI560/project/events_set1/hurricane_irma_2017/hurricane_irma_2017_', 'location': 'Florida, USA', 'event_type': 'hurricane', 'start_date': datetime(2017, 8, 30), 'end_date': datetime(2017, 9, 13)},\n",
    "          {'path': '/DSCI560/project/events_set1/hurricane_maria_2017/hurricane_maria_2017_', 'location': 'Puerto Rico', 'event_type': 'hurricane', 'start_date': datetime(2017, 9, 16), 'end_date': datetime(2017, 10, 2)},\n",
    "          {'path': '/DSCI560/project/events_set1/hurricane_matthew_2016/hurricane_matthew_2016_', 'location': 'Haiti', 'event_type': 'hurricane', 'start_date': datetime(2016, 9, 28), 'end_date': datetime(2016, 10, 10)},\n",
    "          {'path': '/DSCI560/project/events_set1/italy_earthquake_aug_2016/italy_earthquake_aug_2016_', 'location': 'Italy', 'event_type': 'earthquake', 'start_date': datetime(2016, 8, 24), 'end_date': datetime(2016, 10, 30)},\n",
    "          {'path': '/DSCI560/project/events_set1/kaikoura_earthquake_2016/kaikoura_earthquake_2016_', 'location': 'New Zealand', 'event_type': 'earthquake', 'start_date': datetime(2016, 11, 14), 'end_date': datetime(2016, 11, 15)},\n",
    "          {'path': '/DSCI560/project/events_set1/maryland_floods_2018/maryland_floods_2018_', 'location': 'Maryland, USA', 'event_type': 'flood', 'start_date': datetime(2018, 5, 27), 'end_date': datetime(2018, 5, 28)},         \n",
    "          {'path': '/DSCI560/project/events_set1/puebla_mexico_earthquake_2017/puebla_mexico_earthquake_2017_', 'location': 'Mexico', 'event_type': 'earthquake', 'start_date': datetime(2017, 9, 19), 'end_date': datetime(2017, 9, 20)},\n",
    "          {'path': '/DSCI560/project/events_set1/srilanka_floods_2017/srilanka_floods_2017_', 'location': 'Srilanka', 'event_type': 'flood', 'start_date': datetime(2017, 5, 28), 'end_date': datetime(2017, 6, 1)}]\n",
    "\n",
    "dfs_train1 = []\n",
    "dfs_test1 = []\n",
    "dfs_dev1 = []\n",
    "\n",
    "for event in events:\n",
    "    path = event['path']\n",
    "    location = event['location']\n",
    "    event_type = event['event_type']\n",
    "    start_date = event['start_date']\n",
    "    end_date = event['end_date']\n",
    "    \n",
    "    df_train1, df_test1, df_dev1 = read_data1(path, location, event_type, start_date, end_date)\n",
    "    \n",
    "    dfs_train1.append(df_train1)\n",
    "    dfs_test1.append(df_test1)\n",
    "    dfs_dev1.append(df_dev1)\n",
    "\n",
    "df_train1 = pd.concat(dfs_train1)\n",
    "df_test1 = pd.concat(dfs_test1)\n",
    "df_dev1 = pd.concat(dfs_dev1)"
   ]
  },
  {
   "cell_type": "code",
   "execution_count": 5,
   "id": "f014d854",
   "metadata": {},
   "outputs": [
    {
     "data": {
      "text/html": [
       "<div>\n",
       "<style scoped>\n",
       "    .dataframe tbody tr th:only-of-type {\n",
       "        vertical-align: middle;\n",
       "    }\n",
       "\n",
       "    .dataframe tbody tr th {\n",
       "        vertical-align: top;\n",
       "    }\n",
       "\n",
       "    .dataframe thead th {\n",
       "        text-align: right;\n",
       "    }\n",
       "</style>\n",
       "<table border=\"1\" class=\"dataframe\">\n",
       "  <thead>\n",
       "    <tr style=\"text-align: right;\">\n",
       "      <th></th>\n",
       "      <th>tweet_text</th>\n",
       "      <th>location</th>\n",
       "      <th>type</th>\n",
       "      <th>target</th>\n",
       "      <th>datetime</th>\n",
       "      <th>year</th>\n",
       "      <th>date</th>\n",
       "      <th>time</th>\n",
       "    </tr>\n",
       "  </thead>\n",
       "  <tbody>\n",
       "    <tr>\n",
       "      <th>0</th>\n",
       "      <td>RT @DonBradshawNTV: How @MarshallAmpsUK came t...</td>\n",
       "      <td>Canada</td>\n",
       "      <td>wildfire</td>\n",
       "      <td>0</td>\n",
       "      <td>2016-05-06 16:54:00</td>\n",
       "      <td>2016</td>\n",
       "      <td>2016-05-06</td>\n",
       "      <td>16:54:00</td>\n",
       "    </tr>\n",
       "    <tr>\n",
       "      <th>1</th>\n",
       "      <td>Red Cross distributes $30M to Fort McMurray wi...</td>\n",
       "      <td>Canada</td>\n",
       "      <td>wildfire</td>\n",
       "      <td>1</td>\n",
       "      <td>2016-05-30 17:30:57</td>\n",
       "      <td>2016</td>\n",
       "      <td>2016-05-30</td>\n",
       "      <td>17:30:57</td>\n",
       "    </tr>\n",
       "    <tr>\n",
       "      <th>2</th>\n",
       "      <td>Interesting insights on the shifting communica...</td>\n",
       "      <td>Canada</td>\n",
       "      <td>wildfire</td>\n",
       "      <td>0</td>\n",
       "      <td>2016-04-30 23:18:34</td>\n",
       "      <td>2016</td>\n",
       "      <td>2016-04-30</td>\n",
       "      <td>23:18:34</td>\n",
       "    </tr>\n",
       "    <tr>\n",
       "      <th>3</th>\n",
       "      <td>RT @globeandmail: Oil sands producers helping ...</td>\n",
       "      <td>Canada</td>\n",
       "      <td>wildfire</td>\n",
       "      <td>0</td>\n",
       "      <td>2016-05-30 08:00:05</td>\n",
       "      <td>2016</td>\n",
       "      <td>2016-05-30</td>\n",
       "      <td>08:00:05</td>\n",
       "    </tr>\n",
       "    <tr>\n",
       "      <th>4</th>\n",
       "      <td>Ottawa to match Red Cross donations for Fort M...</td>\n",
       "      <td>Canada</td>\n",
       "      <td>wildfire</td>\n",
       "      <td>0</td>\n",
       "      <td>2016-05-06 21:06:11</td>\n",
       "      <td>2016</td>\n",
       "      <td>2016-05-06</td>\n",
       "      <td>21:06:11</td>\n",
       "    </tr>\n",
       "    <tr>\n",
       "      <th>...</th>\n",
       "      <td>...</td>\n",
       "      <td>...</td>\n",
       "      <td>...</td>\n",
       "      <td>...</td>\n",
       "      <td>...</td>\n",
       "      <td>...</td>\n",
       "      <td>...</td>\n",
       "      <td>...</td>\n",
       "    </tr>\n",
       "    <tr>\n",
       "      <th>387</th>\n",
       "      <td>South Korean Actress Lee Young-ae, ‘Changumi’ ...</td>\n",
       "      <td>Srilanka</td>\n",
       "      <td>flood</td>\n",
       "      <td>0</td>\n",
       "      <td>2017-05-29 01:03:57</td>\n",
       "      <td>2017</td>\n",
       "      <td>2017-05-29</td>\n",
       "      <td>01:03:57</td>\n",
       "    </tr>\n",
       "    <tr>\n",
       "      <th>388</th>\n",
       "      <td>Flood donations granted under North-South Brot...</td>\n",
       "      <td>Srilanka</td>\n",
       "      <td>flood</td>\n",
       "      <td>0</td>\n",
       "      <td>2017-05-28 10:56:28</td>\n",
       "      <td>2017</td>\n",
       "      <td>2017-05-28</td>\n",
       "      <td>10:56:28</td>\n",
       "    </tr>\n",
       "    <tr>\n",
       "      <th>389</th>\n",
       "      <td>#Inspiring Naval diving teams rescue a dog whi...</td>\n",
       "      <td>Srilanka</td>\n",
       "      <td>flood</td>\n",
       "      <td>0</td>\n",
       "      <td>2017-05-31 13:36:42</td>\n",
       "      <td>2017</td>\n",
       "      <td>2017-05-31</td>\n",
       "      <td>13:36:42</td>\n",
       "    </tr>\n",
       "    <tr>\n",
       "      <th>390</th>\n",
       "      <td>Norway to provide US$ 1.2 million to Sri Lanka...</td>\n",
       "      <td>Srilanka</td>\n",
       "      <td>flood</td>\n",
       "      <td>0</td>\n",
       "      <td>2017-05-30 16:05:12</td>\n",
       "      <td>2017</td>\n",
       "      <td>2017-05-30</td>\n",
       "      <td>16:05:12</td>\n",
       "    </tr>\n",
       "    <tr>\n",
       "      <th>391</th>\n",
       "      <td>RT @NewsArmageddon: Sri Lanka deploys more tro...</td>\n",
       "      <td>Srilanka</td>\n",
       "      <td>flood</td>\n",
       "      <td>0</td>\n",
       "      <td>2017-05-28 03:40:51</td>\n",
       "      <td>2017</td>\n",
       "      <td>2017-05-28</td>\n",
       "      <td>03:40:51</td>\n",
       "    </tr>\n",
       "  </tbody>\n",
       "</table>\n",
       "<p>30381 rows × 8 columns</p>\n",
       "</div>"
      ],
      "text/plain": [
       "                                            tweet_text  location      type  \\\n",
       "0    RT @DonBradshawNTV: How @MarshallAmpsUK came t...    Canada  wildfire   \n",
       "1    Red Cross distributes $30M to Fort McMurray wi...    Canada  wildfire   \n",
       "2    Interesting insights on the shifting communica...    Canada  wildfire   \n",
       "3    RT @globeandmail: Oil sands producers helping ...    Canada  wildfire   \n",
       "4    Ottawa to match Red Cross donations for Fort M...    Canada  wildfire   \n",
       "..                                                 ...       ...       ...   \n",
       "387  South Korean Actress Lee Young-ae, ‘Changumi’ ...  Srilanka     flood   \n",
       "388  Flood donations granted under North-South Brot...  Srilanka     flood   \n",
       "389  #Inspiring Naval diving teams rescue a dog whi...  Srilanka     flood   \n",
       "390  Norway to provide US$ 1.2 million to Sri Lanka...  Srilanka     flood   \n",
       "391  RT @NewsArmageddon: Sri Lanka deploys more tro...  Srilanka     flood   \n",
       "\n",
       "     target            datetime  year        date      time  \n",
       "0         0 2016-05-06 16:54:00  2016  2016-05-06  16:54:00  \n",
       "1         1 2016-05-30 17:30:57  2016  2016-05-30  17:30:57  \n",
       "2         0 2016-04-30 23:18:34  2016  2016-04-30  23:18:34  \n",
       "3         0 2016-05-30 08:00:05  2016  2016-05-30  08:00:05  \n",
       "4         0 2016-05-06 21:06:11  2016  2016-05-06  21:06:11  \n",
       "..      ...                 ...   ...         ...       ...  \n",
       "387       0 2017-05-29 01:03:57  2017  2017-05-29  01:03:57  \n",
       "388       0 2017-05-28 10:56:28  2017  2017-05-28  10:56:28  \n",
       "389       0 2017-05-31 13:36:42  2017  2017-05-31  13:36:42  \n",
       "390       0 2017-05-30 16:05:12  2017  2017-05-30  16:05:12  \n",
       "391       0 2017-05-28 03:40:51  2017  2017-05-28  03:40:51  \n",
       "\n",
       "[30381 rows x 8 columns]"
      ]
     },
     "execution_count": 5,
     "metadata": {},
     "output_type": "execute_result"
    }
   ],
   "source": [
    "df_train1"
   ]
  },
  {
   "cell_type": "code",
   "execution_count": 6,
   "id": "22e8a13e",
   "metadata": {},
   "outputs": [],
   "source": [
    "def read_data2(df, event_type):\n",
    "    df = pd.read_csv(df, delimiter='\\t')\n",
    "#     df = df.dropna()\n",
    "    df['type'] = event_type\n",
    "    df['tweet_text'] = df['text']\n",
    "    df['datetime'] = pd.to_datetime(df['created_at'])\n",
    "    df['date'] = df['datetime'].dt.date\n",
    "    df['year'] = df['datetime'].dt.year.fillna(0).astype(int)\n",
    "    df['time'] = df['datetime'].dt.time\n",
    "    df['target'] = 0\n",
    "    df.loc[df['label'].isin(['direct-eyewitness','indirect-eyewitness']), 'target'] = 1\n",
    "    df = df[['tweet_text', 'location', 'type','target', 'datetime','year','date','time']].dropna()\n",
    "\n",
    "    return df"
   ]
  },
  {
   "cell_type": "code",
   "execution_count": 7,
   "id": "535b81e6",
   "metadata": {},
   "outputs": [],
   "source": [
    "events = [{'path': '/DSCI560/project/eyewitness_tweets_annotations_14k_public/labeled_by_authors/earthquakes_eyewitness_annotations_2000.tsv','event_type': 'earthquake'},\n",
    "          {'path': '/DSCI560/project/eyewitness_tweets_annotations_14k_public/labeled_by_authors/floods_eyewitness_annotations_2000.tsv','event_type': 'flood'},\n",
    "          {'path': '/DSCI560/project/eyewitness_tweets_annotations_14k_public/labeled_by_authors/hurricanes_eyewitness_annotations_2004.tsv', 'event_type': 'hurricane'}]\n",
    "          \n",
    "dfs2 = []\n",
    "\n",
    "for event in events:\n",
    "    path = event['path']\n",
    "    event_type = event['event_type']\n",
    "    \n",
    "    df2 = read_data2(path, event_type)\n",
    "    \n",
    "    dfs2.append(df2)\n",
    "\n",
    "df2 = pd.concat(dfs2)"
   ]
  },
  {
   "cell_type": "code",
   "execution_count": 8,
   "id": "4037b54a",
   "metadata": {},
   "outputs": [
    {
     "data": {
      "text/html": [
       "<div>\n",
       "<style scoped>\n",
       "    .dataframe tbody tr th:only-of-type {\n",
       "        vertical-align: middle;\n",
       "    }\n",
       "\n",
       "    .dataframe tbody tr th {\n",
       "        vertical-align: top;\n",
       "    }\n",
       "\n",
       "    .dataframe thead th {\n",
       "        text-align: right;\n",
       "    }\n",
       "</style>\n",
       "<table border=\"1\" class=\"dataframe\">\n",
       "  <thead>\n",
       "    <tr style=\"text-align: right;\">\n",
       "      <th></th>\n",
       "      <th>tweet_text</th>\n",
       "      <th>location</th>\n",
       "      <th>type</th>\n",
       "      <th>target</th>\n",
       "      <th>datetime</th>\n",
       "      <th>year</th>\n",
       "      <th>date</th>\n",
       "      <th>time</th>\n",
       "    </tr>\n",
       "  </thead>\n",
       "  <tbody>\n",
       "    <tr>\n",
       "      <th>0</th>\n",
       "      <td>#earthquake Magnitude 2.1 occurred 159km NE of...</td>\n",
       "      <td>Italia</td>\n",
       "      <td>earthquake</td>\n",
       "      <td>0</td>\n",
       "      <td>2017-08-01 08:12:42+00:00</td>\n",
       "      <td>2017</td>\n",
       "      <td>2017-08-01</td>\n",
       "      <td>08:12:42</td>\n",
       "    </tr>\n",
       "    <tr>\n",
       "      <th>1</th>\n",
       "      <td>Retweeted Earthquakes Tsunamis (@NewEarthquake...</td>\n",
       "      <td>Malaysia</td>\n",
       "      <td>earthquake</td>\n",
       "      <td>0</td>\n",
       "      <td>2017-08-01 08:13:08+00:00</td>\n",
       "      <td>2017</td>\n",
       "      <td>2017-08-01</td>\n",
       "      <td>08:13:08</td>\n",
       "    </tr>\n",
       "    <tr>\n",
       "      <th>2</th>\n",
       "      <td>I always know I need to go shopping when I've ...</td>\n",
       "      <td>Hollywood, California, USA..... planet earth</td>\n",
       "      <td>earthquake</td>\n",
       "      <td>0</td>\n",
       "      <td>2017-08-01 08:13:15+00:00</td>\n",
       "      <td>2017</td>\n",
       "      <td>2017-08-01</td>\n",
       "      <td>08:13:15</td>\n",
       "    </tr>\n",
       "    <tr>\n",
       "      <th>3</th>\n",
       "      <td>Update: M2.0 #earthquake (#sismo) strikes 1 km...</td>\n",
       "      <td>BruyÃ¨res-Le-Chatel, France</td>\n",
       "      <td>earthquake</td>\n",
       "      <td>0</td>\n",
       "      <td>2017-08-01 08:13:48+00:00</td>\n",
       "      <td>2017</td>\n",
       "      <td>2017-08-01</td>\n",
       "      <td>08:13:48</td>\n",
       "    </tr>\n",
       "    <tr>\n",
       "      <th>4</th>\n",
       "      <td>ã€</td>\n",
       "      <td>With everyone</td>\n",
       "      <td>earthquake</td>\n",
       "      <td>0</td>\n",
       "      <td>2017-08-01 08:14:58+00:00</td>\n",
       "      <td>2017</td>\n",
       "      <td>2017-08-01</td>\n",
       "      <td>08:14:58</td>\n",
       "    </tr>\n",
       "    <tr>\n",
       "      <th>...</th>\n",
       "      <td>...</td>\n",
       "      <td>...</td>\n",
       "      <td>...</td>\n",
       "      <td>...</td>\n",
       "      <td>...</td>\n",
       "      <td>...</td>\n",
       "      <td>...</td>\n",
       "      <td>...</td>\n",
       "    </tr>\n",
       "    <tr>\n",
       "      <th>1991</th>\n",
       "      <td>Prayers going up all the way from TN for all t...</td>\n",
       "      <td>Clarksville, TN</td>\n",
       "      <td>hurricane</td>\n",
       "      <td>0</td>\n",
       "      <td>2017-08-26 12:41:08+00:00</td>\n",
       "      <td>2017</td>\n",
       "      <td>2017-08-26</td>\n",
       "      <td>12:41:08</td>\n",
       "    </tr>\n",
       "    <tr>\n",
       "      <th>1992</th>\n",
       "      <td>If the Flash Flood Warning sound was a person ...</td>\n",
       "      <td>Houston, TX</td>\n",
       "      <td>hurricane</td>\n",
       "      <td>0</td>\n",
       "      <td>2017-08-26 12:45:50+00:00</td>\n",
       "      <td>2017</td>\n",
       "      <td>2017-08-26</td>\n",
       "      <td>12:45:50</td>\n",
       "    </tr>\n",
       "    <tr>\n",
       "      <th>1993</th>\n",
       "      <td>Dear Texans: don't drive into flood waters #hu...</td>\n",
       "      <td>Northeast US, Earth</td>\n",
       "      <td>hurricane</td>\n",
       "      <td>0</td>\n",
       "      <td>2017-08-26 12:48:39+00:00</td>\n",
       "      <td>2017</td>\n",
       "      <td>2017-08-26</td>\n",
       "      <td>12:48:39</td>\n",
       "    </tr>\n",
       "    <tr>\n",
       "      <th>1994</th>\n",
       "      <td>Story featuring hurricane expert Hal Needham. ...</td>\n",
       "      <td>Columbia, SC</td>\n",
       "      <td>hurricane</td>\n",
       "      <td>0</td>\n",
       "      <td>2017-08-26 12:53:57+00:00</td>\n",
       "      <td>2017</td>\n",
       "      <td>2017-08-26</td>\n",
       "      <td>12:53:57</td>\n",
       "    </tr>\n",
       "    <tr>\n",
       "      <th>1998</th>\n",
       "      <td>In the nuclear era and petrolithic era every h...</td>\n",
       "      <td>Sacramento, CA</td>\n",
       "      <td>hurricane</td>\n",
       "      <td>0</td>\n",
       "      <td>2017-08-26 13:44:34+00:00</td>\n",
       "      <td>2017</td>\n",
       "      <td>2017-08-26</td>\n",
       "      <td>13:44:34</td>\n",
       "    </tr>\n",
       "  </tbody>\n",
       "</table>\n",
       "<p>4384 rows × 8 columns</p>\n",
       "</div>"
      ],
      "text/plain": [
       "                                             tweet_text  \\\n",
       "0     #earthquake Magnitude 2.1 occurred 159km NE of...   \n",
       "1     Retweeted Earthquakes Tsunamis (@NewEarthquake...   \n",
       "2     I always know I need to go shopping when I've ...   \n",
       "3     Update: M2.0 #earthquake (#sismo) strikes 1 km...   \n",
       "4                                                    ã€   \n",
       "...                                                 ...   \n",
       "1991  Prayers going up all the way from TN for all t...   \n",
       "1992  If the Flash Flood Warning sound was a person ...   \n",
       "1993  Dear Texans: don't drive into flood waters #hu...   \n",
       "1994  Story featuring hurricane expert Hal Needham. ...   \n",
       "1998  In the nuclear era and petrolithic era every h...   \n",
       "\n",
       "                                          location        type  target  \\\n",
       "0                                           Italia  earthquake       0   \n",
       "1                                         Malaysia  earthquake       0   \n",
       "2     Hollywood, California, USA..... planet earth  earthquake       0   \n",
       "3                      BruyÃ¨res-Le-Chatel, France  earthquake       0   \n",
       "4                                    With everyone  earthquake       0   \n",
       "...                                            ...         ...     ...   \n",
       "1991                               Clarksville, TN   hurricane       0   \n",
       "1992                                   Houston, TX   hurricane       0   \n",
       "1993                           Northeast US, Earth   hurricane       0   \n",
       "1994                                  Columbia, SC   hurricane       0   \n",
       "1998                                Sacramento, CA   hurricane       0   \n",
       "\n",
       "                      datetime  year        date      time  \n",
       "0    2017-08-01 08:12:42+00:00  2017  2017-08-01  08:12:42  \n",
       "1    2017-08-01 08:13:08+00:00  2017  2017-08-01  08:13:08  \n",
       "2    2017-08-01 08:13:15+00:00  2017  2017-08-01  08:13:15  \n",
       "3    2017-08-01 08:13:48+00:00  2017  2017-08-01  08:13:48  \n",
       "4    2017-08-01 08:14:58+00:00  2017  2017-08-01  08:14:58  \n",
       "...                        ...   ...         ...       ...  \n",
       "1991 2017-08-26 12:41:08+00:00  2017  2017-08-26  12:41:08  \n",
       "1992 2017-08-26 12:45:50+00:00  2017  2017-08-26  12:45:50  \n",
       "1993 2017-08-26 12:48:39+00:00  2017  2017-08-26  12:48:39  \n",
       "1994 2017-08-26 12:53:57+00:00  2017  2017-08-26  12:53:57  \n",
       "1998 2017-08-26 13:44:34+00:00  2017  2017-08-26  13:44:34  \n",
       "\n",
       "[4384 rows x 8 columns]"
      ]
     },
     "execution_count": 8,
     "metadata": {},
     "output_type": "execute_result"
    }
   ],
   "source": [
    "df2"
   ]
  },
  {
   "cell_type": "code",
   "execution_count": 9,
   "id": "2d398e32",
   "metadata": {},
   "outputs": [],
   "source": [
    "df_train2, df_test2 = train_test_split(df2, test_size=0.2, shuffle=True, random_state=42)"
   ]
  },
  {
   "cell_type": "code",
   "execution_count": 10,
   "id": "19a48819",
   "metadata": {},
   "outputs": [],
   "source": [
    "df_train2, df_dev2 = train_test_split(df_train2, test_size=0.1, shuffle=True, random_state=42)"
   ]
  },
  {
   "cell_type": "code",
   "execution_count": 11,
   "id": "479fb4cb",
   "metadata": {},
   "outputs": [],
   "source": [
    "df_train = pd.concat([df_train1, df_train2])\n",
    "df_test = pd.concat([df_test1, df_test2])\n",
    "df_dev = pd.concat([df_dev1, df_dev2])"
   ]
  },
  {
   "cell_type": "code",
   "execution_count": 12,
   "id": "08d6eb41",
   "metadata": {},
   "outputs": [
    {
     "data": {
      "text/plain": [
       "(33537, 8)"
      ]
     },
     "execution_count": 12,
     "metadata": {},
     "output_type": "execute_result"
    }
   ],
   "source": [
    "df_train.shape"
   ]
  },
  {
   "cell_type": "code",
   "execution_count": 13,
   "id": "f02c8241",
   "metadata": {},
   "outputs": [
    {
     "data": {
      "text/plain": [
       "(9483, 8)"
      ]
     },
     "execution_count": 13,
     "metadata": {},
     "output_type": "execute_result"
    }
   ],
   "source": [
    "df_test.shape"
   ]
  },
  {
   "cell_type": "code",
   "execution_count": 14,
   "id": "0144e011",
   "metadata": {},
   "outputs": [
    {
     "data": {
      "text/plain": [
       "(4773, 8)"
      ]
     },
     "execution_count": 14,
     "metadata": {},
     "output_type": "execute_result"
    }
   ],
   "source": [
    "df_dev.shape"
   ]
  },
  {
   "cell_type": "code",
   "execution_count": 15,
   "id": "2a03fa73",
   "metadata": {},
   "outputs": [],
   "source": [
    "df_all = pd.concat([df_train, df_test, df_dev])"
   ]
  },
  {
   "cell_type": "code",
   "execution_count": 16,
   "id": "5e4cb59a",
   "metadata": {},
   "outputs": [
    {
     "data": {
      "text/plain": [
       "(47793, 8)"
      ]
     },
     "execution_count": 16,
     "metadata": {},
     "output_type": "execute_result"
    }
   ],
   "source": [
    "df_all.shape"
   ]
  },
  {
   "cell_type": "code",
   "execution_count": 17,
   "id": "6de8bac7",
   "metadata": {},
   "outputs": [
    {
     "name": "stdout",
     "output_type": "stream",
     "text": [
      "tweet_text    0\n",
      "location      0\n",
      "type          0\n",
      "target        0\n",
      "datetime      0\n",
      "year          0\n",
      "date          0\n",
      "time          0\n",
      "dtype: int64\n"
     ]
    }
   ],
   "source": [
    "# check if there is any NaN value\n",
    "print(df_all.isna().sum())"
   ]
  },
  {
   "cell_type": "code",
   "execution_count": 18,
   "id": "7c22c443",
   "metadata": {},
   "outputs": [
    {
     "data": {
      "text/plain": [
       "(44499, 8)"
      ]
     },
     "execution_count": 18,
     "metadata": {},
     "output_type": "execute_result"
    }
   ],
   "source": [
    "df_all = df_all.groupby('location').filter(lambda x: len(x) >= 8)\n",
    "df_all.shape"
   ]
  },
  {
   "cell_type": "code",
   "execution_count": 19,
   "id": "e759a362",
   "metadata": {},
   "outputs": [
    {
     "name": "stdout",
     "output_type": "stream",
     "text": [
      "72\n"
     ]
    }
   ],
   "source": [
    "count = len(df_all[df_all['location'] == 'United States'])\n",
    "print(count)"
   ]
  },
  {
   "cell_type": "code",
   "execution_count": 20,
   "id": "5467e8b0",
   "metadata": {},
   "outputs": [
    {
     "name": "stdout",
     "output_type": "stream",
     "text": [
      "Florida, USA\n"
     ]
    }
   ],
   "source": [
    "most_common_location = df_all['location'].value_counts().idxmax()\n",
    "print(most_common_location)\n",
    "# Replace NaN values with the most common location\n",
    "# df['location'] = df_all['location'].fillna(most_common_location)"
   ]
  },
  {
   "cell_type": "code",
   "execution_count": 21,
   "id": "9edb8a59",
   "metadata": {},
   "outputs": [
    {
     "name": "stdout",
     "output_type": "stream",
     "text": [
      "70\n"
     ]
    }
   ],
   "source": [
    "unique_locations = df_all['location'].unique()\n",
    "print(len(unique_locations))"
   ]
  },
  {
   "cell_type": "code",
   "execution_count": 22,
   "id": "fafa3175",
   "metadata": {},
   "outputs": [],
   "source": [
    "# import csv\n",
    "# with open('unique_locations.csv', 'w', newline='') as f:\n",
    "#     writer = csv.writer(f)\n",
    "#     for item in unique_locations:\n",
    "#         writer.writerow([item])"
   ]
  },
  {
   "cell_type": "code",
   "execution_count": 23,
   "id": "f083eaff",
   "metadata": {},
   "outputs": [
    {
     "data": {
      "text/html": [
       "<div>\n",
       "<style scoped>\n",
       "    .dataframe tbody tr th:only-of-type {\n",
       "        vertical-align: middle;\n",
       "    }\n",
       "\n",
       "    .dataframe tbody tr th {\n",
       "        vertical-align: top;\n",
       "    }\n",
       "\n",
       "    .dataframe thead th {\n",
       "        text-align: right;\n",
       "    }\n",
       "</style>\n",
       "<table border=\"1\" class=\"dataframe\">\n",
       "  <thead>\n",
       "    <tr style=\"text-align: right;\">\n",
       "      <th></th>\n",
       "      <th>name</th>\n",
       "      <th>correction</th>\n",
       "    </tr>\n",
       "  </thead>\n",
       "  <tbody>\n",
       "    <tr>\n",
       "      <th>0</th>\n",
       "      <td>Canada</td>\n",
       "      <td>Canada</td>\n",
       "    </tr>\n",
       "    <tr>\n",
       "      <th>1</th>\n",
       "      <td>Zimbabwe</td>\n",
       "      <td>Zimbabwe</td>\n",
       "    </tr>\n",
       "    <tr>\n",
       "      <th>2</th>\n",
       "      <td>Ecuador</td>\n",
       "      <td>Ecuador</td>\n",
       "    </tr>\n",
       "    <tr>\n",
       "      <th>3</th>\n",
       "      <td>Greece</td>\n",
       "      <td>Greece</td>\n",
       "    </tr>\n",
       "    <tr>\n",
       "      <th>4</th>\n",
       "      <td>Texas, USA</td>\n",
       "      <td>Texas, USA</td>\n",
       "    </tr>\n",
       "    <tr>\n",
       "      <th>...</th>\n",
       "      <td>...</td>\n",
       "      <td>...</td>\n",
       "    </tr>\n",
       "    <tr>\n",
       "      <th>65</th>\n",
       "      <td>New York, USA</td>\n",
       "      <td>New York, USA</td>\n",
       "    </tr>\n",
       "    <tr>\n",
       "      <th>66</th>\n",
       "      <td>Republic of the Philippines</td>\n",
       "      <td>Republic of the Philippines</td>\n",
       "    </tr>\n",
       "    <tr>\n",
       "      <th>67</th>\n",
       "      <td>England, United Kingdom</td>\n",
       "      <td>United Kingdom</td>\n",
       "    </tr>\n",
       "    <tr>\n",
       "      <th>68</th>\n",
       "      <td>United Kingdom</td>\n",
       "      <td>United Kingdom</td>\n",
       "    </tr>\n",
       "    <tr>\n",
       "      <th>69</th>\n",
       "      <td>Kathmandu</td>\n",
       "      <td>Nepal</td>\n",
       "    </tr>\n",
       "  </tbody>\n",
       "</table>\n",
       "<p>70 rows × 2 columns</p>\n",
       "</div>"
      ],
      "text/plain": [
       "                           name                   correction\n",
       "0                        Canada                       Canada\n",
       "1                      Zimbabwe                     Zimbabwe\n",
       "2                       Ecuador                      Ecuador\n",
       "3                        Greece                       Greece\n",
       "4                    Texas, USA                   Texas, USA\n",
       "..                          ...                          ...\n",
       "65                New York, USA                New York, USA\n",
       "66  Republic of the Philippines  Republic of the Philippines\n",
       "67      England, United Kingdom               United Kingdom\n",
       "68               United Kingdom               United Kingdom\n",
       "69                    Kathmandu                        Nepal\n",
       "\n",
       "[70 rows x 2 columns]"
      ]
     },
     "execution_count": 23,
     "metadata": {},
     "output_type": "execute_result"
    }
   ],
   "source": [
    "path = \"/DSCI560/unique_locations0.csv\"\n",
    "\n",
    "# read the file into a pandas dataframe\n",
    "df_name = pd.read_csv(path,names=['name', 'correction'])\n",
    "df_name.astype(str)"
   ]
  },
  {
   "cell_type": "code",
   "execution_count": 24,
   "id": "dfcbdf45",
   "metadata": {},
   "outputs": [],
   "source": [
    "df_all['location'] = df_all['location'].astype(str)"
   ]
  },
  {
   "cell_type": "code",
   "execution_count": 25,
   "id": "6fd4bf4a",
   "metadata": {},
   "outputs": [
    {
     "data": {
      "text/plain": [
       "tweet_text    object\n",
       "location      object\n",
       "type          object\n",
       "target         int64\n",
       "datetime      object\n",
       "year           int64\n",
       "date          object\n",
       "time          object\n",
       "dtype: object"
      ]
     },
     "execution_count": 25,
     "metadata": {},
     "output_type": "execute_result"
    }
   ],
   "source": [
    "df_all.dtypes"
   ]
  },
  {
   "cell_type": "code",
   "execution_count": 26,
   "id": "97008468",
   "metadata": {},
   "outputs": [
    {
     "data": {
      "text/plain": [
       "(44499, 8)"
      ]
     },
     "execution_count": 26,
     "metadata": {},
     "output_type": "execute_result"
    }
   ],
   "source": [
    "df_all.shape"
   ]
  },
  {
   "cell_type": "code",
   "execution_count": 27,
   "id": "0c28cd39",
   "metadata": {},
   "outputs": [
    {
     "data": {
      "text/plain": [
       "(33537, 8)"
      ]
     },
     "execution_count": 27,
     "metadata": {},
     "output_type": "execute_result"
    }
   ],
   "source": [
    "df_train.shape"
   ]
  },
  {
   "cell_type": "code",
   "execution_count": 28,
   "id": "c806383f",
   "metadata": {},
   "outputs": [
    {
     "data": {
      "text/plain": [
       "(9483, 8)"
      ]
     },
     "execution_count": 28,
     "metadata": {},
     "output_type": "execute_result"
    }
   ],
   "source": [
    "df_test.shape"
   ]
  },
  {
   "cell_type": "code",
   "execution_count": 29,
   "id": "d6e12b45",
   "metadata": {},
   "outputs": [
    {
     "data": {
      "text/plain": [
       "(4773, 8)"
      ]
     },
     "execution_count": 29,
     "metadata": {},
     "output_type": "execute_result"
    }
   ],
   "source": [
    "df_dev.shape"
   ]
  },
  {
   "cell_type": "code",
   "execution_count": 30,
   "id": "403c11e9",
   "metadata": {},
   "outputs": [
    {
     "data": {
      "text/plain": [
       "(44499, 8)"
      ]
     },
     "execution_count": 30,
     "metadata": {},
     "output_type": "execute_result"
    }
   ],
   "source": [
    "df_all_final = df_all.merge(df_name, left_on='location', right_on='name', how='left')\n",
    "df_all_final.dropna(inplace=True)\n",
    "df_all_final.drop(['name', 'correction'], axis=1, inplace= True)\n",
    "df_all_final.shape"
   ]
  },
  {
   "cell_type": "code",
   "execution_count": 31,
   "id": "dfe7a829",
   "metadata": {},
   "outputs": [
    {
     "data": {
      "text/plain": [
       "(31186, 8)"
      ]
     },
     "execution_count": 31,
     "metadata": {},
     "output_type": "execute_result"
    }
   ],
   "source": [
    "df_train_final = df_train.merge(df_name, left_on='location', right_on='name', how='left')\n",
    "df_train_final.dropna(inplace=True)\n",
    "df_train_final.drop(['name', 'correction'], axis=1, inplace= True)\n",
    "df_train_final.shape"
   ]
  },
  {
   "cell_type": "code",
   "execution_count": 32,
   "id": "4a4ddc9c",
   "metadata": {},
   "outputs": [
    {
     "data": {
      "text/plain": [
       "(8810, 8)"
      ]
     },
     "execution_count": 32,
     "metadata": {},
     "output_type": "execute_result"
    }
   ],
   "source": [
    "df_test_final = df_test.merge(df_name, left_on='location', right_on='name', how='left')\n",
    "df_test_final.dropna(inplace=True)\n",
    "df_test_final.drop(['name', 'correction'], axis=1, inplace= True)\n",
    "df_test_final.shape"
   ]
  },
  {
   "cell_type": "code",
   "execution_count": 33,
   "id": "55ce86c3",
   "metadata": {},
   "outputs": [
    {
     "data": {
      "text/plain": [
       "(4503, 8)"
      ]
     },
     "execution_count": 33,
     "metadata": {},
     "output_type": "execute_result"
    }
   ],
   "source": [
    "df_dev_final = df_dev.merge(df_name, left_on='location', right_on='name', how='left')\n",
    "df_dev_final.dropna(inplace=True)\n",
    "df_dev_final.drop(['name', 'correction'], axis=1, inplace= True)\n",
    "df_dev_final.shape"
   ]
  },
  {
   "cell_type": "code",
   "execution_count": 34,
   "id": "d4b806dd",
   "metadata": {},
   "outputs": [
    {
     "name": "stdout",
     "output_type": "stream",
     "text": [
      "Top 10 most common words in all tweets:\n",
      "to: 23587\n",
      "the: 21450\n",
      "in: 18173\n",
      "of: 15184\n",
      "and: 12449\n",
      "for: 9746\n",
      "Hurricane: 8288\n",
      "RT: 8035\n",
      "a: 7707\n",
      "is: 6608\n"
     ]
    },
    {
     "data": {
      "image/png": "[encoded data removed]",
      "text/plain": [
       "<Figure size 1000x500 with 1 Axes>"
      ]
     },
     "metadata": {},
     "output_type": "display_data"
    }
   ],
   "source": [
    "from collections import Counter\n",
    "\n",
    "all_tweets = ' '.join(df_all_final['tweet_text'])\n",
    "words = all_tweets.split()\n",
    "# Count the frequency of each word\n",
    "word_counts = Counter(words)\n",
    "\n",
    "# Get the top 10 most common words\n",
    "top_words = word_counts.most_common(10)\n",
    "\n",
    "# Print the top 10 most common words\n",
    "print(\"Top 10 most common words in all tweets:\")\n",
    "for word, count in top_words:\n",
    "    print(f\"{word}: {count}\")\n",
    "\n",
    "# Extract the top words and their frequencies\n",
    "top_word_freqs = [count for word, count in top_words]\n",
    "top_words = [word for word, count in top_words]\n",
    "\n",
    "# Create a bar plot of the top 10 most common words\n",
    "fig, ax = plt.subplots(figsize=(10, 5))\n",
    "ax.bar(top_words, top_word_freqs, width=0.5)\n",
    "ax.set_xlabel('Word')\n",
    "ax.set_ylabel('Frequency')\n",
    "ax.set_title('Top 10 most common words in all tweets')\n",
    "plt.show()"
   ]
  },
  {
   "cell_type": "code",
   "execution_count": 35,
   "id": "c2424663",
   "metadata": {},
   "outputs": [
    {
     "data": {
      "image/png": "[encoded data removed]",
      "text/plain": [
       "<Figure size 1000x500 with 2 Axes>"
      ]
     },
     "metadata": {},
     "output_type": "display_data"
    }
   ],
   "source": [
    "# Number of characters in tweets\n",
    "fig, (ax1, ax2) = plt.subplots(1, 2, figsize=(10, 5), gridspec_kw={'wspace': 0.4, 'hspace': 0.4})\n",
    "tweet_len = df_all_final[df_all_final['target']==1]['tweet_text'].str.len()\n",
    "ax1.hist(tweet_len, color='red')\n",
    "ax1.set_title('Natural disaster tweets')\n",
    "ax1.set_ylabel('# of tweets')\n",
    "ax1.set_xlabel('# of characters')\n",
    "\n",
    "ax1.set_xlim([0, 400])\n",
    "\n",
    "tweet_len = df_all_final[df_all_final['target']==0]['tweet_text'].str.len()\n",
    "ax2.hist(tweet_len, color='green')\n",
    "ax2.set_title('Not natural disaster tweets')\n",
    "ax2.set_ylabel('# of tweets')\n",
    "ax2.set_xlim([0, 400])\n",
    "ax2.set_xlabel('# of characters')\n",
    "\n",
    "\n",
    "fig.suptitle('Number of characters between 2 tweet sets')\n",
    "plt.show()\n"
   ]
  },
  {
   "cell_type": "markdown",
   "id": "784735cd",
   "metadata": {},
   "source": [
    "## Data cleaning & Preprocessing"
   ]
  },
  {
   "cell_type": "code",
   "execution_count": 36,
   "id": "eeaeb335",
   "metadata": {},
   "outputs": [],
   "source": [
    "dataframes_list = [df_all_final, df_train_final, df_test_final, df_dev_final]\n",
    "stopwords_english = stopwords.words('english')\n",
    "\n",
    "for df in dataframes_list:\n",
    "    # convert to lower case\n",
    "    df['tweet_text'] = df['tweet_text'].str.lower()\n",
    "    \n",
    "    # remove the HTML and URLs from the reviews (ref: https://stackoverflow.com/questions/45999415/removing-html-tags-in-pandas)\n",
    "    df['tweet_text'] = df['tweet_text'].str.replace(r'<[^<>]*>', '', regex=True)\n",
    "    \n",
    "    # remove non-alphabetical characters and punctuations from all tweets.\n",
    "    # print(string.punctuation)\n",
    "    df['tweet_text'] = df['tweet_text'].str.replace('[^a-zA-Z]', ' ').replace('[{}]'.format(string.punctuation), '')\n",
    "    \n",
    "    # remove extra spaces from all reviews.\n",
    "    df['tweet_text'] = df['tweet_text'].str.strip()\n",
    "\n",
    "    # perform contractions on the reviews by using the package contractions (ref: https://www.dataquest.io/blog/how-to-clean-and-prepare-your-data-for-analysis/).\n",
    "    df['tweet_text'] = df['tweet_text'].astype(str).apply(lambda x: contractions.fix(x))\n",
    "    \n",
    "    #remove the stop words (ref: https://stackoverflow.com/questions/29523254/python-remove-stop-words-from-pandas-dataframe)\n",
    "    df['tweet_text'] = df['tweet_text'].apply(lambda x: ' '.join([word for word in x.split() if word not in (stopwords_english)]))"
   ]
  },
  {
   "cell_type": "code",
   "execution_count": 44,
   "id": "254b9afe",
   "metadata": {},
   "outputs": [
    {
     "data": {
      "image/png": "[encoded data removed]",
      "text/plain": [
       "<Figure size 1000x500 with 2 Axes>"
      ]
     },
     "metadata": {},
     "output_type": "display_data"
    }
   ],
   "source": [
    "# Number of characters in tweets\n",
    "fig, (ax1, ax2) = plt.subplots(1, 2, figsize=(10, 5), gridspec_kw={'wspace': 0.4, 'hspace': 0.4})\n",
    "tweet_len = df_all_final[df_all_final['target']==1]['tweet_text'].str.len()\n",
    "ax1.hist(tweet_len, color='red')\n",
    "ax1.set_title('Natural disaster tweets')\n",
    "ax1.set_ylabel('# of tweets')\n",
    "ax1.set_xlabel('# of characters')\n",
    "\n",
    "ax1.set_xlim([0, 400])\n",
    "\n",
    "tweet_len = df_all_final[df_all_final['target']==0]['tweet_text'].str.len()\n",
    "ax2.hist(tweet_len, color='green')\n",
    "ax2.set_title('Not natural disaster tweets')\n",
    "ax2.set_ylabel('# of tweets')\n",
    "ax2.set_xlim([0, 400])\n",
    "ax2.set_xlabel('# of characters')\n",
    "\n",
    "\n",
    "fig.suptitle('Number of characters between 2 tweet sets')\n",
    "plt.show()"
   ]
  },
  {
   "cell_type": "code",
   "execution_count": 45,
   "id": "121e1b96",
   "metadata": {},
   "outputs": [
    {
     "name": "stdout",
     "output_type": "stream",
     "text": [
      "Top 10 most common words in all tweets:\n",
      "hurricane: 10708\n",
      "harvey: 6527\n",
      "help: 6183\n",
      "irma: 5706\n",
      "amp: 4596\n",
      "people: 4387\n",
      "relief: 3883\n",
      "damage: 3616\n",
      "victims: 3611\n",
      "affected: 3405\n"
     ]
    },
    {
     "data": {
      "image/png": "[encoded data removed]",
      "text/plain": [
       "<Figure size 1000x500 with 1 Axes>"
      ]
     },
     "metadata": {},
     "output_type": "display_data"
    }
   ],
   "source": [
    "from collections import Counter\n",
    "\n",
    "all_tweets = ' '.join(df_all_final['tweet_text'])\n",
    "words = all_tweets.split()\n",
    "# Count the frequency of each word\n",
    "word_counts = Counter(words)\n",
    "\n",
    "# Get the top 10 most common words\n",
    "top_words = word_counts.most_common(10)\n",
    "\n",
    "# Print the top 10 most common words\n",
    "print(\"Top 10 most common words in all tweets:\")\n",
    "for word, count in top_words:\n",
    "    print(f\"{word}: {count}\")\n",
    "\n",
    "# Extract the top words and their frequencies\n",
    "top_word_freqs = [count for word, count in top_words]\n",
    "top_words = [word for word, count in top_words]\n",
    "\n",
    "# Create a bar plot of the top 10 most common words\n",
    "fig, ax = plt.subplots(figsize=(10, 5))\n",
    "ax.bar(top_words, top_word_freqs, width=0.5)\n",
    "ax.set_xlabel('Word')\n",
    "ax.set_ylabel('Frequency')\n",
    "ax.set_title('Top 10 most common words in all tweets')\n",
    "plt.show()"
   ]
  },
  {
   "cell_type": "code",
   "execution_count": 46,
   "id": "05a117c3",
   "metadata": {},
   "outputs": [
    {
     "data": {
      "image/png": "[encoded data removed]",
      "text/plain": [
       "<Figure size 640x480 with 1 Axes>"
      ]
     },
     "metadata": {},
     "output_type": "display_data"
    }
   ],
   "source": [
    "x=df_all['target'].value_counts()\n",
    "ax = sns.barplot(x=x.index, y=x)\n",
    "ax.set_xlabel('Target')\n",
    "ax.set_ylabel('Samples')\n",
    "ax.set_title('Class Distribution Among Tweets')\n",
    "ax.set_xticklabels(['0: non-natural-disaster', '1: natural disaster'])\n",
    "plt.show()"
   ]
  },
  {
   "cell_type": "code",
   "execution_count": 47,
   "id": "3dd2df4e",
   "metadata": {},
   "outputs": [
    {
     "data": {
      "image/png": "[encoded data removed]",
      "text/plain": [
       "<Figure size 640x480 with 1 Axes>"
      ]
     },
     "metadata": {},
     "output_type": "display_data"
    }
   ],
   "source": [
    "x=df_all['type'].value_counts()\n",
    "ax = sns.barplot(x=x.index, y=x)\n",
    "# ax.set_xlabel('Event Type')\n",
    "ax.set_ylabel('Number of samples')\n",
    "ax.set_title('Event Type Distribution')\n",
    "# ax.set_xticklabels(['Not Natural Disaster', 'Natural Disaster'])\n",
    "plt.show()"
   ]
  },
  {
   "cell_type": "code",
   "execution_count": 49,
   "id": "52d1e78d",
   "metadata": {},
   "outputs": [],
   "source": [
    "df_all_final.to_csv('all.csv', index=False)\n",
    "df_train_final.to_csv('train.csv', index=False)\n",
    "df_test_final.to_csv('test.csv', index=False)\n",
    "df_dev_final.to_csv('val.csv', index=False)"
   ]
  },
  {
   "cell_type": "code",
   "execution_count": null,
   "id": "9e711d94",
   "metadata": {},
   "outputs": [],
   "source": []
  },
  {
   "cell_type": "code",
   "execution_count": null,
   "id": "5f65d6bd",
   "metadata": {},
   "outputs": [],
   "source": []
  },
  {
   "cell_type": "code",
   "execution_count": null,
   "id": "29c8cdba",
   "metadata": {},
   "outputs": [],
   "source": []
  },
  {
   "cell_type": "code",
   "execution_count": null,
   "id": "fcff10a6",
   "metadata": {},
   "outputs": [],
   "source": []
  }
 ],
 "metadata": {
  "kernelspec": {
   "display_name": "Python 3 (ipykernel)",
   "language": "python",
   "name": "python3"
  },
  "language_info": {
   "codemirror_mode": {
    "name": "ipython",
    "version": 3
   },
   "file_extension": ".py",
   "mimetype": "text/x-python",
   "name": "python",
   "nbconvert_exporter": "python",
   "pygments_lexer": "ipython3",
   "version": "3.7.11"
  }
 },
 "nbformat": 4,
 "nbformat_minor": 5
}
