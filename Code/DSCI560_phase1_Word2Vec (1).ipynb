{
 "cells": [
  {
   "cell_type": "code",
   "execution_count": 3,
   "metadata": {
    "colab": {
     "base_uri": "https://localhost:8080/"
    },
    "id": "p2zQf03E4y1C",
    "outputId": "2ee92917-356e-4176-c6f0-8d19c630b28c"
   },
   "outputs": [
    {
     "name": "stderr",
     "output_type": "stream",
     "text": [
      "[nltk_data] Downloading package wordnet to\n",
      "[nltk_data]     /Users/allupraveen/nltk_data...\n",
      "[nltk_data]   Package wordnet is already up-to-date!\n",
      "[nltk_data] Downloading package stopwords to\n",
      "[nltk_data]     /Users/allupraveen/nltk_data...\n",
      "[nltk_data]   Package stopwords is already up-to-date!\n"
     ]
    }
   ],
   "source": [
    "import pandas as pd\n",
    "from imblearn.over_sampling import SMOTE\n",
    "from sklearn.model_selection import train_test_split\n",
    "import contractions\n",
    "import string\n",
    "import nltk\n",
    "import re\n",
    "from nltk.corpus import stopwords\n",
    "import gensim\n",
    "import numpy as np\n",
    "from sklearn.metrics import accuracy_score\n",
    "from sklearn.ensemble import RandomForestClassifier\n",
    "from sklearn.metrics import classification_report\n",
    "from sklearn.metrics import precision_score, recall_score, f1_score\n",
    "from sklearn.metrics import roc_auc_score\n",
    "from sklearn.svm import LinearSVC\n",
    "from sklearn.pipeline import make_pipeline\n",
    "from sklearn.model_selection import GridSearchCV\n",
    "from sklearn.cluster import KMeans\n",
    "from textblob import TextBlob\n",
    "import matplotlib.pyplot as plt\n",
    "from keras.models import Sequential\n",
    "from keras.layers import SimpleRNN, GRU, LSTM, Dense, Activation\n",
    "from sklearn.feature_extraction.text import TfidfVectorizer\n",
    "import gensim.downloader as api\n",
    "from collections import Counter\n",
    "import seaborn as sns\n",
    "\n",
    "from gensim.models import CoherenceModel\n",
    "import pyLDAvis.gensim_models\n",
    "import warnings\n",
    "\n",
    "nltk.download('wordnet')\n",
    "nltk.download('stopwords')\n",
    "wv = api.load('word2vec-google-news-300')\n",
    "\n",
    "warnings.filterwarnings(\"ignore\")"
   ]
  },
  {
   "cell_type": "code",
   "execution_count": 2,
   "metadata": {
    "id": "7i-hYG3_CnmT"
   },
   "outputs": [],
   "source": [
    "with open('ggvec.npy', 'wb') as f:\n",
    "    np.save(f,wv)"
   ]
  },
  {
   "cell_type": "code",
   "execution_count": 3,
   "metadata": {
    "id": "lbyelqnCQZdB"
   },
   "outputs": [],
   "source": [
    "df_train = pd.read_csv('../data/cleaned/train.csv')\n",
    "df_test = pd.read_csv('../data/cleaned/test.csv')\n",
    "df_val = pd.read_csv('../data/cleaned/val.csv')\n"
   ]
  },
  {
   "cell_type": "code",
   "execution_count": 4,
   "metadata": {
    "colab": {
     "base_uri": "https://localhost:8080/",
     "height": 424
    },
    "id": "gJfk4i6iRzt4",
    "outputId": "91d92e58-7cc1-48c9-f3c2-cd7796c0b5b9"
   },
   "outputs": [
    {
     "data": {
      "text/html": [
       "<div>\n",
       "<style scoped>\n",
       "    .dataframe tbody tr th:only-of-type {\n",
       "        vertical-align: middle;\n",
       "    }\n",
       "\n",
       "    .dataframe tbody tr th {\n",
       "        vertical-align: top;\n",
       "    }\n",
       "\n",
       "    .dataframe thead th {\n",
       "        text-align: right;\n",
       "    }\n",
       "</style>\n",
       "<table border=\"1\" class=\"dataframe\">\n",
       "  <thead>\n",
       "    <tr style=\"text-align: right;\">\n",
       "      <th></th>\n",
       "      <th>tweet_text</th>\n",
       "      <th>location</th>\n",
       "      <th>type</th>\n",
       "      <th>target</th>\n",
       "      <th>datetime</th>\n",
       "      <th>year</th>\n",
       "      <th>date</th>\n",
       "      <th>time</th>\n",
       "    </tr>\n",
       "  </thead>\n",
       "  <tbody>\n",
       "    <tr>\n",
       "      <th>0</th>\n",
       "      <td>donbradshawntv marshallampsuk came assistance ...</td>\n",
       "      <td>Canada</td>\n",
       "      <td>wildfire</td>\n",
       "      <td>0</td>\n",
       "      <td>2016-05-06 16:54:00</td>\n",
       "      <td>2016</td>\n",
       "      <td>2016-05-06</td>\n",
       "      <td>16:54:00</td>\n",
       "    </tr>\n",
       "    <tr>\n",
       "      <th>1</th>\n",
       "      <td>red cross distributes fo mcmurray wildfire eva...</td>\n",
       "      <td>Canada</td>\n",
       "      <td>wildfire</td>\n",
       "      <td>1</td>\n",
       "      <td>2016-05-30 17:30:57</td>\n",
       "      <td>2016</td>\n",
       "      <td>2016-05-30</td>\n",
       "      <td>17:30:57</td>\n",
       "    </tr>\n",
       "    <tr>\n",
       "      <th>2</th>\n",
       "      <td>interesting insights shifting communications l...</td>\n",
       "      <td>Canada</td>\n",
       "      <td>wildfire</td>\n",
       "      <td>0</td>\n",
       "      <td>2016-04-30 23:18:34</td>\n",
       "      <td>2016</td>\n",
       "      <td>2016-04-30</td>\n",
       "      <td>23:18:34</td>\n",
       "    </tr>\n",
       "    <tr>\n",
       "      <th>3</th>\n",
       "      <td>globeandmail oil sands producers helping worke...</td>\n",
       "      <td>Canada</td>\n",
       "      <td>wildfire</td>\n",
       "      <td>0</td>\n",
       "      <td>2016-05-30 08:00:05</td>\n",
       "      <td>2016</td>\n",
       "      <td>2016-05-30</td>\n",
       "      <td>08:00:05</td>\n",
       "    </tr>\n",
       "    <tr>\n",
       "      <th>4</th>\n",
       "      <td>ottawa match red cross donations fo mcmurray w...</td>\n",
       "      <td>Canada</td>\n",
       "      <td>wildfire</td>\n",
       "      <td>0</td>\n",
       "      <td>2016-05-06 21:06:11</td>\n",
       "      <td>2016</td>\n",
       "      <td>2016-05-06</td>\n",
       "      <td>21:06:11</td>\n",
       "    </tr>\n",
       "    <tr>\n",
       "      <th>...</th>\n",
       "      <td>...</td>\n",
       "      <td>...</td>\n",
       "      <td>...</td>\n",
       "      <td>...</td>\n",
       "      <td>...</td>\n",
       "      <td>...</td>\n",
       "      <td>...</td>\n",
       "      <td>...</td>\n",
       "    </tr>\n",
       "    <tr>\n",
       "      <th>31181</th>\n",
       "      <td>https co mzh h uqh nepal cloud burst death tol...</td>\n",
       "      <td>Earth</td>\n",
       "      <td>hurricane</td>\n",
       "      <td>0</td>\n",
       "      <td>2017-08-14 03:32:29+00:00</td>\n",
       "      <td>2017</td>\n",
       "      <td>2017-08-14</td>\n",
       "      <td>03:32:29</td>\n",
       "    </tr>\n",
       "    <tr>\n",
       "      <th>31182</th>\n",
       "      <td>wear uniform days year rain shine flood draugh...</td>\n",
       "      <td>Hopes Peak</td>\n",
       "      <td>hurricane</td>\n",
       "      <td>0</td>\n",
       "      <td>2017-08-11 09:27:36+00:00</td>\n",
       "      <td>2017</td>\n",
       "      <td>2017-08-11</td>\n",
       "      <td>09:27:36</td>\n",
       "    </tr>\n",
       "    <tr>\n",
       "      <th>31183</th>\n",
       "      <td>flash flood town dad still wants water plants</td>\n",
       "      <td>Boston, MA</td>\n",
       "      <td>flood</td>\n",
       "      <td>0</td>\n",
       "      <td>2017-08-02 20:44:29+00:00</td>\n",
       "      <td>2017</td>\n",
       "      <td>2017-08-02</td>\n",
       "      <td>20:44:29</td>\n",
       "    </tr>\n",
       "    <tr>\n",
       "      <th>31184</th>\n",
       "      <td>brahmaputra water level recedes assam flood to...</td>\n",
       "      <td>India</td>\n",
       "      <td>flood</td>\n",
       "      <td>0</td>\n",
       "      <td>2017-08-19 03:20:57+00:00</td>\n",
       "      <td>2017</td>\n",
       "      <td>2017-08-19</td>\n",
       "      <td>03:20:57</td>\n",
       "    </tr>\n",
       "    <tr>\n",
       "      <th>31185</th>\n",
       "      <td>timguinee maybe people live hurricane prone ar...</td>\n",
       "      <td>Atlanta, GA</td>\n",
       "      <td>hurricane</td>\n",
       "      <td>0</td>\n",
       "      <td>2017-08-25 21:23:55+00:00</td>\n",
       "      <td>2017</td>\n",
       "      <td>2017-08-25</td>\n",
       "      <td>21:23:55</td>\n",
       "    </tr>\n",
       "  </tbody>\n",
       "</table>\n",
       "<p>31186 rows × 8 columns</p>\n",
       "</div>"
      ],
      "text/plain": [
       "                                              tweet_text     location  \\\n",
       "0      donbradshawntv marshallampsuk came assistance ...       Canada   \n",
       "1      red cross distributes fo mcmurray wildfire eva...       Canada   \n",
       "2      interesting insights shifting communications l...       Canada   \n",
       "3      globeandmail oil sands producers helping worke...       Canada   \n",
       "4      ottawa match red cross donations fo mcmurray w...       Canada   \n",
       "...                                                  ...          ...   \n",
       "31181  https co mzh h uqh nepal cloud burst death tol...        Earth   \n",
       "31182  wear uniform days year rain shine flood draugh...   Hopes Peak   \n",
       "31183      flash flood town dad still wants water plants   Boston, MA   \n",
       "31184  brahmaputra water level recedes assam flood to...        India   \n",
       "31185  timguinee maybe people live hurricane prone ar...  Atlanta, GA   \n",
       "\n",
       "            type  target                   datetime  year        date  \\\n",
       "0       wildfire       0        2016-05-06 16:54:00  2016  2016-05-06   \n",
       "1       wildfire       1        2016-05-30 17:30:57  2016  2016-05-30   \n",
       "2       wildfire       0        2016-04-30 23:18:34  2016  2016-04-30   \n",
       "3       wildfire       0        2016-05-30 08:00:05  2016  2016-05-30   \n",
       "4       wildfire       0        2016-05-06 21:06:11  2016  2016-05-06   \n",
       "...          ...     ...                        ...   ...         ...   \n",
       "31181  hurricane       0  2017-08-14 03:32:29+00:00  2017  2017-08-14   \n",
       "31182  hurricane       0  2017-08-11 09:27:36+00:00  2017  2017-08-11   \n",
       "31183      flood       0  2017-08-02 20:44:29+00:00  2017  2017-08-02   \n",
       "31184      flood       0  2017-08-19 03:20:57+00:00  2017  2017-08-19   \n",
       "31185  hurricane       0  2017-08-25 21:23:55+00:00  2017  2017-08-25   \n",
       "\n",
       "           time  \n",
       "0      16:54:00  \n",
       "1      17:30:57  \n",
       "2      23:18:34  \n",
       "3      08:00:05  \n",
       "4      21:06:11  \n",
       "...         ...  \n",
       "31181  03:32:29  \n",
       "31182  09:27:36  \n",
       "31183  20:44:29  \n",
       "31184  03:20:57  \n",
       "31185  21:23:55  \n",
       "\n",
       "[31186 rows x 8 columns]"
      ]
     },
     "execution_count": 4,
     "metadata": {},
     "output_type": "execute_result"
    }
   ],
   "source": [
    "df_train"
   ]
  },
  {
   "cell_type": "code",
   "execution_count": 5,
   "metadata": {
    "id": "yYr8xUh7naze"
   },
   "outputs": [],
   "source": [
    "df_train['text_split'] = df_train['tweet_text'].str.split()\n",
    "df_train = df_train.dropna()\n",
    "\n",
    "df_test['text_split'] = df_test['tweet_text'].str.split()\n",
    "df_test = df_test.dropna()\n",
    "\n",
    "df_val['text_split'] = df_val['tweet_text'].str.split()\n",
    "df_val = df_val.dropna()"
   ]
  },
  {
   "cell_type": "code",
   "execution_count": 6,
   "metadata": {
    "colab": {
     "base_uri": "https://localhost:8080/"
    },
    "id": "TG4tH5W5otog",
    "outputId": "fd076677-1280-41c0-a5d3-0eb057f59a95"
   },
   "outputs": [
    {
     "data": {
      "text/plain": [
       "tweet_text    0\n",
       "location      0\n",
       "type          0\n",
       "target        0\n",
       "datetime      0\n",
       "year          0\n",
       "date          0\n",
       "time          0\n",
       "text_split    0\n",
       "dtype: int64"
      ]
     },
     "execution_count": 6,
     "metadata": {},
     "output_type": "execute_result"
    }
   ],
   "source": [
    "df_train.isnull().sum()"
   ]
  },
  {
   "cell_type": "code",
   "execution_count": null,
   "metadata": {},
   "outputs": [],
   "source": [
    "# Create an empty list to store the mean vectors\n",
    "mean_vectors = []\n",
    "\n",
    "# Iterate over each row of the DataFrame\n",
    "for index, row in df_train.iterrows():\n",
    "    # Convert each list of words into a numpy array of word embeddings\n",
    "    word_embeddings = []\n",
    "    for word in row['text_split']:\n",
    "        try:\n",
    "            word_embeddings.append(wv[word])\n",
    "        except KeyError:\n",
    "            pass\n",
    "    if word_embeddings == []:\n",
    "      mean_vector = np.array(wv['unk'])\n",
    "    else:\n",
    "      # Calculate the mean vector of the word embeddings along the first axis\n",
    "      mean_vector = np.array(np.mean(np.array(word_embeddings), axis=0))\n",
    "    # Append the mean vector to the list\n",
    "    mean_vectors.append(mean_vector)"
   ]
  },
  {
   "cell_type": "code",
   "execution_count": 7,
   "metadata": {
    "id": "Zjai50XU4pMg"
   },
   "outputs": [],
   "source": [
    "# Create an empty list to store the mean vectors\n",
    "mean_vectors = []\n",
    "\n",
    "# Iterate over each row of the DataFrame\n",
    "for index, row in df_train.iterrows():\n",
    "    # Convert each list of words into a numpy array of word embeddings\n",
    "    word_embeddings = []\n",
    "    for word in row['text_split']:\n",
    "        try:\n",
    "            word_embeddings.append(wv[word])\n",
    "        except KeyError:\n",
    "            pass\n",
    "    if word_embeddings == []:\n",
    "      mean_vector = np.array(wv['unk'])\n",
    "    else:\n",
    "      # Calculate the mean vector of the word embeddings along the first axis\n",
    "      mean_vector = np.array(np.mean(np.array(word_embeddings), axis=0))\n",
    "    # Append the mean vector to the list\n",
    "    mean_vectors.append(mean_vector)"
   ]
  },
  {
   "cell_type": "code",
   "execution_count": 8,
   "metadata": {
    "id": "pL_S93W9EetY"
   },
   "outputs": [],
   "source": [
    "# Create an empty list to store the mean vectors test set\n",
    "mean_vectors_test = []\n",
    "\n",
    "# Iterate over each row of the DataFrame\n",
    "for index, row in df_test.iterrows():\n",
    "    # Convert each list of words into a numpy array of word embeddings\n",
    "    word_embeddings_test = []\n",
    "    for word in row['text_split']:\n",
    "        try:\n",
    "            word_embeddings_test.append(wv[word])\n",
    "        except KeyError:\n",
    "            pass\n",
    "    if word_embeddings_test == []:\n",
    "      mean_vector_test = np.array(wv['unk'])\n",
    "    else:\n",
    "      # Calculate the mean vector of the word embeddings along the first axis\n",
    "      mean_vector_test = np.array(np.mean(np.array(word_embeddings_test), axis=0))\n",
    "    # Append the mean vector to the list\n",
    "    mean_vectors_test.append(mean_vector_test)"
   ]
  },
  {
   "cell_type": "code",
   "execution_count": 9,
   "metadata": {
    "id": "A_LMxW9QLAeg"
   },
   "outputs": [],
   "source": [
    "# Create an empty list to store the mean vectors test set\n",
    "mean_vectors_val = []\n",
    "\n",
    "# Iterate over each row of the DataFrame\n",
    "for index, row in df_val.iterrows():\n",
    "    # Convert each list of words into a numpy array of word embeddings\n",
    "    word_embeddings_val = []\n",
    "    for word in row['text_split']:\n",
    "        try:\n",
    "            word_embeddings_val.append(wv[word])\n",
    "        except KeyError:\n",
    "            pass\n",
    "    if word_embeddings_val == []:\n",
    "      word_embeddings_val = np.array(wv['unk'])\n",
    "    else:\n",
    "      # Calculate the mean vector of the word embeddings along the first axis\n",
    "      mean_vector_val = np.array(np.mean(np.array(word_embeddings_val), axis=0))\n",
    "    # Append the mean vector to the list\n",
    "    mean_vectors_val.append(mean_vectors_val)"
   ]
  },
  {
   "cell_type": "code",
   "execution_count": 10,
   "metadata": {
    "id": "x75dLapdjU_8"
   },
   "outputs": [],
   "source": [
    "X_train = mean_vectors\n",
    "y_train = df_train['target']\n",
    "X_test = mean_vectors_test\n",
    "y_test = df_test['target']\n",
    "\n",
    "# Use SMOTE to oversample the minority class\n",
    "smote = SMOTE(random_state=42)\n",
    "X_train_resampled, y_train_resampled = smote.fit_resample(X_train, y_train)"
   ]
  },
  {
   "cell_type": "code",
   "execution_count": 11,
   "metadata": {
    "id": "8-3vfd0AEJvz"
   },
   "outputs": [],
   "source": [
    "#Random Forest\n",
    "clf = RandomForestClassifier(n_estimators=100, random_state=42)\n",
    "clf.fit(X_train_resampled, y_train_resampled)\n",
    "\n",
    "# Make predictions on validation set\n",
    "y_pred_rf = clf.predict(X_test)\n",
    "\n",
    "precision_rf = precision_score(y_test, y_pred_rf)\n",
    "recall_rf = recall_score(y_test, y_pred_rf)\n",
    "f1_rf = f1_score(y_test, y_pred_rf)\n",
    "roc_auc_rf = roc_auc_score(y_test, y_pred_rf)"
   ]
  },
  {
   "cell_type": "code",
   "execution_count": 12,
   "metadata": {
    "id": "sMw2Ame3VM9E"
   },
   "outputs": [],
   "source": [
    "# SVM\n",
    "clf_svm = make_pipeline(LinearSVC(random_state=0, tol=1e-5))\n",
    "clf_svm.fit(X_train_resampled, y_train_resampled)\n",
    "\n",
    "y_pred_svm = clf_svm.predict(X_test)\n",
    "\n",
    "precision_svm = precision_score(y_test, y_pred_svm)\n",
    "recall_svm = recall_score(y_test, y_pred_svm)\n",
    "f1_svm = f1_score(y_test, y_pred_svm)\n",
    "roc_auc_svm = roc_auc_score(y_test, y_pred_svm)"
   ]
  },
  {
   "cell_type": "code",
   "execution_count": 13,
   "metadata": {
    "colab": {
     "base_uri": "https://localhost:8080/"
    },
    "id": "NS1VZUhV6TPk",
    "outputId": "2108742d-6bef-4c78-f2bb-053c40d27272"
   },
   "outputs": [
    {
     "name": "stdout",
     "output_type": "stream",
     "text": [
      "Epoch 1/20\n"
     ]
    },
    {
     "name": "stderr",
     "output_type": "stream",
     "text": [
      "2023-03-26 16:01:10.485930: I tensorflow/core/platform/cpu_feature_guard.cc:151] This TensorFlow binary is optimized with oneAPI Deep Neural Network Library (oneDNN) to use the following CPU instructions in performance-critical operations:  AVX2 FMA\n",
      "To enable them in other operations, rebuild TensorFlow with the appropriate compiler flags.\n"
     ]
    },
    {
     "name": "stdout",
     "output_type": "stream",
     "text": [
      "1274/1274 [==============================] - 2s 2ms/step - loss: 0.3766 - accuracy: 0.8328 - val_loss: 0.3222 - val_accuracy: 0.8790\n",
      "Epoch 2/20\n",
      "1274/1274 [==============================] - 2s 1ms/step - loss: 0.3078 - accuracy: 0.8690 - val_loss: 0.3396 - val_accuracy: 0.8591\n",
      "Epoch 3/20\n",
      "1274/1274 [==============================] - 2s 1ms/step - loss: 0.2792 - accuracy: 0.8839 - val_loss: 0.3191 - val_accuracy: 0.8697\n",
      "Epoch 4/20\n",
      "1274/1274 [==============================] - 2s 1ms/step - loss: 0.2561 - accuracy: 0.8949 - val_loss: 0.2549 - val_accuracy: 0.9042\n",
      "Epoch 5/20\n",
      "1274/1274 [==============================] - 1s 1ms/step - loss: 0.2378 - accuracy: 0.9033 - val_loss: 0.1988 - val_accuracy: 0.9309\n",
      "Epoch 6/20\n",
      "1274/1274 [==============================] - 2s 1ms/step - loss: 0.2193 - accuracy: 0.9133 - val_loss: 0.2105 - val_accuracy: 0.9245\n",
      "Epoch 7/20\n",
      "1274/1274 [==============================] - 1s 1ms/step - loss: 0.2043 - accuracy: 0.9192 - val_loss: 0.1225 - val_accuracy: 0.9686\n",
      "Epoch 8/20\n",
      "1274/1274 [==============================] - 1s 1ms/step - loss: 0.1905 - accuracy: 0.9259 - val_loss: 0.1526 - val_accuracy: 0.9486\n",
      "Epoch 9/20\n",
      "1274/1274 [==============================] - 2s 1ms/step - loss: 0.1730 - accuracy: 0.9344 - val_loss: 0.1350 - val_accuracy: 0.9583\n",
      "Epoch 10/20\n",
      "1274/1274 [==============================] - 2s 1ms/step - loss: 0.1610 - accuracy: 0.9375 - val_loss: 0.1358 - val_accuracy: 0.9556\n",
      "Epoch 11/20\n",
      "1274/1274 [==============================] - 2s 1ms/step - loss: 0.1496 - accuracy: 0.9421 - val_loss: 0.0662 - val_accuracy: 0.9830\n",
      "Epoch 12/20\n",
      "1274/1274 [==============================] - 2s 2ms/step - loss: 0.1352 - accuracy: 0.9489 - val_loss: 0.0702 - val_accuracy: 0.9808\n",
      "Epoch 13/20\n",
      "1274/1274 [==============================] - 2s 1ms/step - loss: 0.1245 - accuracy: 0.9530 - val_loss: 0.1007 - val_accuracy: 0.9660\n",
      "Epoch 14/20\n",
      "1274/1274 [==============================] - 2s 1ms/step - loss: 0.1134 - accuracy: 0.9578 - val_loss: 0.0829 - val_accuracy: 0.9773\n",
      "Epoch 15/20\n",
      "1274/1274 [==============================] - 2s 1ms/step - loss: 0.1028 - accuracy: 0.9619 - val_loss: 0.0457 - val_accuracy: 0.9909\n",
      "Epoch 16/20\n",
      "1274/1274 [==============================] - 2s 1ms/step - loss: 0.0957 - accuracy: 0.9648 - val_loss: 0.0681 - val_accuracy: 0.9786\n",
      "Epoch 17/20\n",
      "1274/1274 [==============================] - 2s 2ms/step - loss: 0.0877 - accuracy: 0.9685 - val_loss: 0.0929 - val_accuracy: 0.9675\n",
      "Epoch 18/20\n",
      "1274/1274 [==============================] - 6s 5ms/step - loss: 0.0802 - accuracy: 0.9703 - val_loss: 0.0548 - val_accuracy: 0.9845\n",
      "Epoch 19/20\n",
      "1274/1274 [==============================] - 4s 3ms/step - loss: 0.0750 - accuracy: 0.9729 - val_loss: 0.0278 - val_accuracy: 0.9940\n",
      "Epoch 20/20\n",
      "1274/1274 [==============================] - 3s 3ms/step - loss: 0.0653 - accuracy: 0.9759 - val_loss: 0.0474 - val_accuracy: 0.9876\n"
     ]
    }
   ],
   "source": [
    "\n",
    "# convert input data from list to numpy array\n",
    "X_train_resampled = np.array(X_train_resampled)\n",
    "y_train_resampled = np.array(y_train_resampled)\n",
    "X_test = np.array(X_test)\n",
    "\n",
    "model = Sequential()\n",
    "model.add(Dense(100, activation='relu', input_dim=X_train_resampled.shape[1]))\n",
    "model.add(Dense(10, activation='relu'))\n",
    "model.add(Dense(1, activation='sigmoid'))\n",
    "\n",
    "# Compile the model\n",
    "model.compile(loss='binary_crossentropy', optimizer='adam', metrics=['accuracy'])\n",
    "\n",
    "# Train the model\n",
    "history = model.fit(X_train_resampled, y_train_resampled, epochs=20, batch_size=32, validation_split=0.1)\n",
    "\n",
    "# Evaluate the model\n",
    "y_pred_fnn = model.predict(X_test)\n",
    "# y_pred_fnn = np.argmax(y_pred_fnn, axis=1)"
   ]
  },
  {
   "cell_type": "code",
   "execution_count": 45,
   "metadata": {},
   "outputs": [
    {
     "name": "stdout",
     "output_type": "stream",
     "text": [
      "Epoch 1/20\n",
      "1274/1274 [==============================] - 4s 2ms/step - loss: 0.3722 - accuracy: 0.8345 - val_loss: 0.3267 - val_accuracy: 0.8764\n",
      "Epoch 2/20\n",
      "1274/1274 [==============================] - 2s 2ms/step - loss: 0.2937 - accuracy: 0.8780 - val_loss: 0.2101 - val_accuracy: 0.9373\n",
      "Epoch 3/20\n",
      "1274/1274 [==============================] - 2s 1ms/step - loss: 0.2614 - accuracy: 0.8948 - val_loss: 0.2427 - val_accuracy: 0.9104\n",
      "Epoch 4/20\n",
      "1274/1274 [==============================] - 2s 2ms/step - loss: 0.2362 - accuracy: 0.9074 - val_loss: 0.1838 - val_accuracy: 0.9461\n",
      "Epoch 5/20\n",
      "1274/1274 [==============================] - 2s 1ms/step - loss: 0.2149 - accuracy: 0.9157 - val_loss: 0.1507 - val_accuracy: 0.9574\n",
      "Epoch 6/20\n",
      "1274/1274 [==============================] - 2s 1ms/step - loss: 0.1979 - accuracy: 0.9219 - val_loss: 0.1353 - val_accuracy: 0.9583\n",
      "Epoch 7/20\n",
      "1274/1274 [==============================] - 2s 1ms/step - loss: 0.1767 - accuracy: 0.9317 - val_loss: 0.0893 - val_accuracy: 0.9815\n",
      "Epoch 8/20\n",
      "1274/1274 [==============================] - 2s 1ms/step - loss: 0.1597 - accuracy: 0.9384 - val_loss: 0.1327 - val_accuracy: 0.9550\n",
      "Epoch 9/20\n",
      "1274/1274 [==============================] - 2s 2ms/step - loss: 0.1445 - accuracy: 0.9456 - val_loss: 0.0673 - val_accuracy: 0.9859\n",
      "Epoch 10/20\n",
      "1274/1274 [==============================] - 2s 2ms/step - loss: 0.1302 - accuracy: 0.9512 - val_loss: 0.0682 - val_accuracy: 0.9839\n",
      "Epoch 11/20\n",
      "1274/1274 [==============================] - 2s 2ms/step - loss: 0.1202 - accuracy: 0.9540 - val_loss: 0.0858 - val_accuracy: 0.9737\n",
      "Epoch 12/20\n",
      "1274/1274 [==============================] - 2s 2ms/step - loss: 0.1070 - accuracy: 0.9607 - val_loss: 0.1294 - val_accuracy: 0.9545\n",
      "Epoch 13/20\n",
      "1274/1274 [==============================] - 2s 1ms/step - loss: 0.0942 - accuracy: 0.9658 - val_loss: 0.0371 - val_accuracy: 0.9945\n",
      "Epoch 14/20\n",
      "1274/1274 [==============================] - 3s 2ms/step - loss: 0.0912 - accuracy: 0.9663 - val_loss: 0.0721 - val_accuracy: 0.9788\n",
      "Epoch 15/20\n",
      "1274/1274 [==============================] - 2s 2ms/step - loss: 0.0806 - accuracy: 0.9711 - val_loss: 0.0474 - val_accuracy: 0.9850\n",
      "Epoch 16/20\n",
      "1274/1274 [==============================] - 2s 2ms/step - loss: 0.0750 - accuracy: 0.9735 - val_loss: 0.0508 - val_accuracy: 0.9843\n",
      "Epoch 17/20\n",
      "1274/1274 [==============================] - 2s 1ms/step - loss: 0.0687 - accuracy: 0.9755 - val_loss: 0.0510 - val_accuracy: 0.9841\n",
      "Epoch 18/20\n",
      "1274/1274 [==============================] - 2s 1ms/step - loss: 0.0660 - accuracy: 0.9767 - val_loss: 0.0538 - val_accuracy: 0.9848\n",
      "Epoch 19/20\n",
      "1274/1274 [==============================] - 2s 1ms/step - loss: 0.0622 - accuracy: 0.9775 - val_loss: 0.0864 - val_accuracy: 0.9673\n",
      "Epoch 20/20\n",
      "1274/1274 [==============================] - 2s 1ms/step - loss: 0.0557 - accuracy: 0.9810 - val_loss: 0.0176 - val_accuracy: 0.9947\n"
     ]
    }
   ],
   "source": [
    "\n",
    "# convert input data from list to numpy array\n",
    "X_train_resampled = np.array(X_train_resampled)\n",
    "y_train_resampled = np.array(y_train_resampled)\n",
    "X_test = np.array(X_test)\n",
    "\n",
    "model = Sequential()\n",
    "model.add(Dense(100, activation='relu', input_dim=X_train_resampled.shape[1]))\n",
    "model.add(Dense(50, activation='relu'))\n",
    "model.add(Dense(25, activation='relu'))\n",
    "model.add(Dense(10, activation='relu'))\n",
    "model.add(Dense(1, activation='sigmoid'))\n",
    "\n",
    "# Compile the model\n",
    "model.compile(loss='binary_crossentropy', optimizer='adam', metrics=['accuracy'])\n",
    "\n",
    "# Train the model\n",
    "history = model.fit(X_train_resampled, y_train_resampled, epochs=20, batch_size=32, validation_split=0.1)\n",
    "\n",
    "# Evaluate the model\n",
    "y_pred_fnn_dense = model.predict(X_test)\n"
   ]
  },
  {
   "cell_type": "code",
   "execution_count": 49,
   "metadata": {
    "id": "Bje3tvvLiELQ"
   },
   "outputs": [],
   "source": [
    "y_pred_binary = (y_pred_fnn > 0.5).astype(int)\n",
    "y_pred_binary_dense = (y_pred_fnn_dense > 0.5).astype(int)\n",
    "# y_pred_binary"
   ]
  },
  {
   "cell_type": "code",
   "execution_count": 50,
   "metadata": {
    "id": "nQqy-zJ9hDnt"
   },
   "outputs": [],
   "source": [
    "precision_fnn = precision_score(y_test, y_pred_binary)\n",
    "recall_fnn = recall_score(y_test, y_pred_binary)\n",
    "f1_fnn = f1_score(y_test, y_pred_binary)\n",
    "roc_auc_fnn = roc_auc_score(y_test, y_pred_binary)\n",
    "\n",
    "precision_fnn_dense = precision_score(y_test, y_pred_binary_dense)\n",
    "recall_fnn_dense = recall_score(y_test, y_pred_binary_dense)\n",
    "f1_fnn_dense = f1_score(y_test, y_pred_binary_dense)\n",
    "roc_auc_fnn_dense = roc_auc_score(y_test, y_pred_binary_dense)"
   ]
  },
  {
   "cell_type": "code",
   "execution_count": 51,
   "metadata": {
    "colab": {
     "base_uri": "https://localhost:8080/"
    },
    "id": "M72kuCcwiq4H",
    "outputId": "36ffe7fd-ab8b-489b-9e5d-ab511c7d106e"
   },
   "outputs": [
    {
     "name": "stdout",
     "output_type": "stream",
     "text": [
      "                                  Precision    Recall        F1   ROC-AUC\n",
      "Model                                                                    \n",
      "Random Forest                      0.730233  0.647156  0.686189  0.778145\n",
      "Support Vector Machine             0.652018  0.825639  0.728629  0.829081\n",
      "Feedforward Neural Network         0.732846  0.744023  0.738392  0.820468\n",
      "Dense Feedforward Neural Network   0.698238  0.784007  0.738641  0.827614\n"
     ]
    }
   ],
   "source": [
    "data = {'Model': ['Random Forest', 'Support Vector Machine', 'Feedforward Neural Network','Dense Feedforward Neural Network'],\n",
    "        'Precision': [precision_rf, precision_svm, precision_fnn,precision_fnn_dense],\n",
    "        'Recall': [recall_rf, recall_svm, recall_fnn,recall_fnn_dense],\n",
    "        'F1': [f1_rf, f1_svm, f1_fnn,f1_fnn_dense],\n",
    "        'ROC-AUC': [roc_auc_rf, roc_auc_svm, roc_auc_fnn,roc_auc_fnn_dense]}\n",
    "\n",
    "df = pd.DataFrame(data)\n",
    "df = df.set_index('Model')\n",
    "\n",
    "print(df)\n"
   ]
  },
  {
   "cell_type": "markdown",
   "metadata": {},
   "source": [
    "## Clustering analysis on tweets"
   ]
  },
  {
   "cell_type": "code",
   "execution_count": 25,
   "metadata": {},
   "outputs": [
    {
     "data": {
      "image/png": "[encoded data removed]",
      "text/plain": [
       "<Figure size 432x288 with 1 Axes>"
      ]
     },
     "metadata": {
      "needs_background": "light"
     },
     "output_type": "display_data"
    }
   ],
   "source": [
    "wcss = []\n",
    "for i in range(1, 30):\n",
    "    kmeans = KMeans(n_clusters=i, init='k-means++', n_init=10, max_iter=300, random_state=42)\n",
    "    kmeans.fit(X_train)\n",
    "    wcss.append(kmeans.inertia_)\n",
    "plt.plot(range(1,30), wcss)\n",
    "plt.title('Elbow Method')\n",
    "plt.xlabel('Number of Clusters')\n",
    "plt.ylabel('wcss')\n",
    "plt.show()"
   ]
  },
  {
   "cell_type": "code",
   "execution_count": 26,
   "metadata": {
    "id": "A-9VyoiFkWYn"
   },
   "outputs": [],
   "source": [
    "tweet_data = df_train\n",
    "kmeans = KMeans(n_clusters=3,init='k-means++',max_iter=300,random_state=42)\n",
    "kmeans.fit(X_train)\n",
    "tweet_data['cluster_label'] = kmeans.labels_"
   ]
  },
  {
   "cell_type": "code",
   "execution_count": 11,
   "metadata": {},
   "outputs": [],
   "source": [
    "stop_words = set(stopwords.words('english'))\n",
    "wv = api.load('word2vec-google-news-300')\n",
    "\n",
    "def create_mean_vectors(df_train,wv):\n",
    "    # Create an empty list to store the mean vectors\n",
    "    mean_vectors = []\n",
    "\n",
    "    # Iterate over each row of the DataFrame\n",
    "    for index, row in df_train.iterrows():\n",
    "        # Convert each list of words into a numpy array of word embeddings\n",
    "        word_embeddings = []\n",
    "        for word in row['text_split']:\n",
    "            try:\n",
    "                word_embeddings.append(wv[word])\n",
    "            except KeyError:\n",
    "                pass\n",
    "        if word_embeddings == []:\n",
    "          mean_vector = np.array(wv['unk'])\n",
    "        else:\n",
    "          # Calculate the mean vector of the word embeddings along the first axis\n",
    "          mean_vector = np.array(np.mean(np.array(word_embeddings), axis=0))\n",
    "        # Append the mean vector to the list\n",
    "        mean_vectors.append(mean_vector)\n",
    "    return mean_vectors\n",
    "def preprocess_tweet_text(tweet):\n",
    "    # Removing URLs\n",
    "    tweet = re.sub(r\"http\\S+|www\\S+|https\\S+\", '', tweet, flags=re.MULTILINE)\n",
    "    # Removing user mentions\n",
    "    tweet = re.sub(r'\\@\\w+|\\#', '', tweet)\n",
    "    # Removing punctuation\n",
    "    tweet = re.sub(r'[^\\w\\s]', '', tweet)\n",
    "    # Converting to lowercase\n",
    "    tweet = tweet.lower()\n",
    "    # Tokenizing the tweet\n",
    "    tweet = nltk.word_tokenize(tweet)\n",
    "    # Removing stop words\n",
    "    tweet = [word for word in tweet if not word in stop_words]\n",
    "    return tweet\n",
    "\n",
    "def extract_tweets_in_cluster(tweet_data, cluster_label):\n",
    "    return tweet_data[tweet_data['cluster_label'] == cluster_label]['tweet_text']\n",
    "\n",
    "\n",
    "def analyze_sentiment(cluster_tweets):\n",
    "    sentiment_scores = []\n",
    "    for tweet in cluster_tweets:\n",
    "        blob = TextBlob(tweet)\n",
    "        sentiment_scores.append(blob.sentiment.polarity)\n",
    "    return sentiment_scores\n",
    "\n",
    "\n",
    "def calculate_avg_sentiment_score(sentiment_scores):\n",
    "    return np.mean(sentiment_scores)\n",
    "\n",
    "\n",
    "def get_top_words(cluster_tweets, stop_words=None, n=10):\n",
    "    words = []\n",
    "    for tweet in cluster_tweets:\n",
    "        words.extend(preprocess_tweet_text(tweet))\n",
    "    word_freq = nltk.FreqDist(words)\n",
    "    top_words = word_freq.most_common(n)\n",
    "    unique_words = []\n",
    "    for word in top_words:\n",
    "        if stop_words is None or word[0] not in stop_words:\n",
    "            unique_words.append(word[0])\n",
    "        if len(unique_words) == n:\n",
    "            break\n",
    "    return unique_words, [word_freq[word] for word in unique_words]\n",
    "\n",
    "def elbow_method(df,wv):\n",
    "    wcss = []\n",
    "    X= create_mean_vectors(df,wv)\n",
    "    for i in range(1, 15):\n",
    "        kmeans = KMeans(n_clusters=i, init='k-means++', n_init=10, max_iter=300, random_state=42)\n",
    "        kmeans.fit(X)\n",
    "        wcss.append(kmeans.inertia_)\n",
    "    plt.plot(range(1,15), wcss)\n",
    "    plt.title('Elbow Method')\n",
    "    plt.xlabel('Number of Clusters')\n",
    "    plt.ylabel('wcss')\n",
    "    plt.show()\n",
    "\n",
    "def analyze_cluster(tweet_data, X_train,k=3, max_iter=100, random_state=42):\n",
    "    # perform clustering\n",
    "    model = KMeans(n_clusters=k,init='k-means++', max_iter=max_iter, random_state=random_state)\n",
    "    model.fit(X_train)\n",
    "    tweet_data['cluster_label'] = model.labels_\n",
    "    # get cluster labels and centroids\n",
    "    cluster_labels = model.labels_\n",
    "    centroids = model.cluster_centers_\n",
    "\n",
    "    # analyze clusters\n",
    "    for i in range(k):\n",
    "        # Extracting tweets in the current cluster\n",
    "        cluster_tweets = extract_tweets_in_cluster(tweet_data, i)\n",
    "        \n",
    "        # Analyzing sentiment\n",
    "        sentiment_scores = analyze_sentiment(cluster_tweets)\n",
    "        \n",
    "        # Calculating average sentiment score\n",
    "        avg_sentiment_score = calculate_avg_sentiment_score(sentiment_scores)\n",
    "        \n",
    "        # Calculating severity score\n",
    "        #severity_scores = model.transform(vectorizer.transform(cluster_tweets))\n",
    "        #avg_severity_score = np.mean(severity_scores[:, i])\n",
    "        mean_vectors = []\n",
    "        for tweet in cluster_tweets:\n",
    "            # Convert each list of words into a numpy array of word embeddings\n",
    "            word_embeddings = []\n",
    "            for word in preprocess_tweet_text(tweet):\n",
    "                try:\n",
    "                    word_embeddings.append(wv[word])\n",
    "                except KeyError:\n",
    "                    pass\n",
    "            if word_embeddings == []:\n",
    "                mean_vector = np.array(wv['unk'])\n",
    "            else:\n",
    "                # Calculate the mean vector of the word embeddings along the first axis\n",
    "                mean_vector = np.array(np.mean(np.array(word_embeddings), axis=0))\n",
    "            # Append the mean vector to the list\n",
    "            mean_vectors.append(mean_vector)\n",
    "        severity_scores = model.transform(mean_vectors)\n",
    "        avg_severity_score = np.mean(severity_scores[:, i])\n",
    "        # Getting top words\n",
    "        top_words, top_word_freq = get_top_words(cluster_tweets, n=10)\n",
    "        \n",
    "        # Plotting frequency of top words\n",
    "        plt.barh(top_words, top_word_freq)\n",
    "        plt.title('Cluster {} Top Words'.format(i))\n",
    "        plt.show()\n",
    "        \n",
    "        # Printing statistics for the cluster\n",
    "        print('Cluster {}:'.format(i))\n",
    "        print('Number of tweets:', len(cluster_tweets))\n",
    "        print('Average sentiment score:', avg_sentiment_score)\n",
    "        print('Average severity score:', avg_severity_score)\n",
    "        print('Top words that influence sentiment score:', top_words)\n",
    "        print('\\n')\n",
    "def tweet_cluster_analysis(df,wv,k):\n",
    "    X_train= create_mean_vectors(df,wv)\n",
    "    analyze_cluster(tweet_data=df,X_train=X_train,k=k)"
   ]
  },
  {
   "cell_type": "code",
   "execution_count": 41,
   "metadata": {},
   "outputs": [
    {
     "data": {
      "image/png": "[encoded data removed]",
      "text/plain": [
       "<Figure size 432x288 with 1 Axes>"
      ]
     },
     "metadata": {
      "needs_background": "light"
     },
     "output_type": "display_data"
    },
    {
     "name": "stdout",
     "output_type": "stream",
     "text": [
      "Cluster 0:\n",
      "Number of tweets: 11871\n",
      "Average sentiment score: 0.06881947442062128\n",
      "Average severity score: 0.9523193246701875\n",
      "Top words that influence sentiment score: ['help', 'amp', 'cycloneidai', 'people', 'affected', 'victims', 'relief', 'please', 'need', 'harvey']\n",
      "\n",
      "\n"
     ]
    },
    {
     "data": {
      "image/png": "[encoded data removed]",
      "text/plain": [
       "<Figure size 432x288 with 1 Axes>"
      ]
     },
     "metadata": {
      "needs_background": "light"
     },
     "output_type": "display_data"
    },
    {
     "name": "stdout",
     "output_type": "stream",
     "text": [
      "Cluster 1:\n",
      "Number of tweets: 10996\n",
      "Average sentiment score: -0.0044442640263620626\n",
      "Average severity score: 1.0221986381160266\n",
      "Top words that influence sentiment score: ['hurricane', 'irma', 'damage', 'harvey', 'flooding', 'flood', 'people', 'maria', 'water', 'wildfire']\n",
      "\n",
      "\n"
     ]
    },
    {
     "data": {
      "image/png": "[encoded data removed]",
      "text/plain": [
       "<Figure size 432x288 with 1 Axes>"
      ]
     },
     "metadata": {
      "needs_background": "light"
     },
     "output_type": "display_data"
    },
    {
     "name": "stdout",
     "output_type": "stream",
     "text": [
      "Cluster 2:\n",
      "Number of tweets: 8318\n",
      "Average sentiment score: 0.012853551558844297\n",
      "Average severity score: 1.0100495704699217\n",
      "Top words that influence sentiment score: ['hurricane', 'harvey', 'maria', 'mexico', 'irma', 'amp', 'relief', 'pueo', 'haiti', 'help']\n",
      "\n",
      "\n"
     ]
    }
   ],
   "source": [
    "analyze_cluster(tweet_data=df_train,X_train=X_train,k=3)"
   ]
  },
  {
   "cell_type": "code",
   "execution_count": null,
   "metadata": {},
   "outputs": [],
   "source": [
    "tweet_data"
   ]
  },
  {
   "cell_type": "code",
   "execution_count": null,
   "metadata": {},
   "outputs": [],
   "source": [
    "len(X_train)"
   ]
  },
  {
   "cell_type": "code",
   "execution_count": 5,
   "metadata": {},
   "outputs": [],
   "source": [
    "df_train_all = pd.read_csv('../data/cleaned/all.csv')\n",
    "df_train_all['text_split'] = df_train_all['tweet_text'].str.split()\n",
    "df_train_all = df_train_all.dropna()"
   ]
  },
  {
   "cell_type": "code",
   "execution_count": 6,
   "metadata": {},
   "outputs": [
    {
     "data": {
      "text/html": [
       "<div>\n",
       "<style scoped>\n",
       "    .dataframe tbody tr th:only-of-type {\n",
       "        vertical-align: middle;\n",
       "    }\n",
       "\n",
       "    .dataframe tbody tr th {\n",
       "        vertical-align: top;\n",
       "    }\n",
       "\n",
       "    .dataframe thead th {\n",
       "        text-align: right;\n",
       "    }\n",
       "</style>\n",
       "<table border=\"1\" class=\"dataframe\">\n",
       "  <thead>\n",
       "    <tr style=\"text-align: right;\">\n",
       "      <th></th>\n",
       "      <th>tweet_text</th>\n",
       "      <th>location</th>\n",
       "      <th>type</th>\n",
       "      <th>target</th>\n",
       "      <th>datetime</th>\n",
       "      <th>year</th>\n",
       "      <th>date</th>\n",
       "      <th>time</th>\n",
       "      <th>text_split</th>\n",
       "    </tr>\n",
       "  </thead>\n",
       "  <tbody>\n",
       "    <tr>\n",
       "      <th>0</th>\n",
       "      <td>donbradshawntv marshallampsuk came assistance ...</td>\n",
       "      <td>Canada</td>\n",
       "      <td>wildfire</td>\n",
       "      <td>0</td>\n",
       "      <td>2016-05-06 16:54:00</td>\n",
       "      <td>2016</td>\n",
       "      <td>2016-05-06</td>\n",
       "      <td>16:54:00</td>\n",
       "      <td>[donbradshawntv, marshallampsuk, came, assista...</td>\n",
       "    </tr>\n",
       "    <tr>\n",
       "      <th>1</th>\n",
       "      <td>red cross distributes fo mcmurray wildfire eva...</td>\n",
       "      <td>Canada</td>\n",
       "      <td>wildfire</td>\n",
       "      <td>1</td>\n",
       "      <td>2016-05-30 17:30:57</td>\n",
       "      <td>2016</td>\n",
       "      <td>2016-05-30</td>\n",
       "      <td>17:30:57</td>\n",
       "      <td>[red, cross, distributes, fo, mcmurray, wildfi...</td>\n",
       "    </tr>\n",
       "    <tr>\n",
       "      <th>2</th>\n",
       "      <td>interesting insights shifting communications l...</td>\n",
       "      <td>Canada</td>\n",
       "      <td>wildfire</td>\n",
       "      <td>0</td>\n",
       "      <td>2016-04-30 23:18:34</td>\n",
       "      <td>2016</td>\n",
       "      <td>2016-04-30</td>\n",
       "      <td>23:18:34</td>\n",
       "      <td>[interesting, insights, shifting, communicatio...</td>\n",
       "    </tr>\n",
       "    <tr>\n",
       "      <th>3</th>\n",
       "      <td>globeandmail oil sands producers helping worke...</td>\n",
       "      <td>Canada</td>\n",
       "      <td>wildfire</td>\n",
       "      <td>0</td>\n",
       "      <td>2016-05-30 08:00:05</td>\n",
       "      <td>2016</td>\n",
       "      <td>2016-05-30</td>\n",
       "      <td>08:00:05</td>\n",
       "      <td>[globeandmail, oil, sands, producers, helping,...</td>\n",
       "    </tr>\n",
       "    <tr>\n",
       "      <th>4</th>\n",
       "      <td>ottawa match red cross donations fo mcmurray w...</td>\n",
       "      <td>Canada</td>\n",
       "      <td>wildfire</td>\n",
       "      <td>0</td>\n",
       "      <td>2016-05-06 21:06:11</td>\n",
       "      <td>2016</td>\n",
       "      <td>2016-05-06</td>\n",
       "      <td>21:06:11</td>\n",
       "      <td>[ottawa, match, red, cross, donations, fo, mcm...</td>\n",
       "    </tr>\n",
       "    <tr>\n",
       "      <th>...</th>\n",
       "      <td>...</td>\n",
       "      <td>...</td>\n",
       "      <td>...</td>\n",
       "      <td>...</td>\n",
       "      <td>...</td>\n",
       "      <td>...</td>\n",
       "      <td>...</td>\n",
       "      <td>...</td>\n",
       "      <td>...</td>\n",
       "    </tr>\n",
       "    <tr>\n",
       "      <th>44494</th>\n",
       "      <td>remove negative people situations life sta att...</td>\n",
       "      <td>Dallas, TX</td>\n",
       "      <td>flood</td>\n",
       "      <td>0</td>\n",
       "      <td>2017-08-11 03:07:32+00:00</td>\n",
       "      <td>2017</td>\n",
       "      <td>2017-08-11</td>\n",
       "      <td>03:07:32</td>\n",
       "      <td>[remove, negative, people, situations, life, s...</td>\n",
       "    </tr>\n",
       "    <tr>\n",
       "      <th>44495</th>\n",
       "      <td>italian kills traps https co mjnay egp trendin...</td>\n",
       "      <td>United States</td>\n",
       "      <td>earthquake</td>\n",
       "      <td>0</td>\n",
       "      <td>2017-08-22 03:48:23+00:00</td>\n",
       "      <td>2017</td>\n",
       "      <td>2017-08-22</td>\n",
       "      <td>03:48:23</td>\n",
       "      <td>[italian, kills, traps, https, co, mjnay, egp,...</td>\n",
       "    </tr>\n",
       "    <tr>\n",
       "      <th>44496</th>\n",
       "      <td>finally gets sleep mins later</td>\n",
       "      <td>Tokyo, Japan</td>\n",
       "      <td>earthquake</td>\n",
       "      <td>1</td>\n",
       "      <td>2017-08-01 17:08:10+00:00</td>\n",
       "      <td>2017</td>\n",
       "      <td>2017-08-01</td>\n",
       "      <td>17:08:10</td>\n",
       "      <td>[finally, gets, sleep, mins, later]</td>\n",
       "    </tr>\n",
       "    <tr>\n",
       "      <th>44497</th>\n",
       "      <td>bhushantuladhar safe</td>\n",
       "      <td>Kathmandu</td>\n",
       "      <td>earthquake</td>\n",
       "      <td>0</td>\n",
       "      <td>2017-08-18 11:01:12+00:00</td>\n",
       "      <td>2017</td>\n",
       "      <td>2017-08-18</td>\n",
       "      <td>11:01:12</td>\n",
       "      <td>[bhushantuladhar, safe]</td>\n",
       "    </tr>\n",
       "    <tr>\n",
       "      <th>44498</th>\n",
       "      <td>adamcarolla awesome pretty typical stuff expec...</td>\n",
       "      <td>Los Angeles</td>\n",
       "      <td>earthquake</td>\n",
       "      <td>0</td>\n",
       "      <td>2017-08-03 01:06:04+00:00</td>\n",
       "      <td>2017</td>\n",
       "      <td>2017-08-03</td>\n",
       "      <td>01:06:04</td>\n",
       "      <td>[adamcarolla, awesome, pretty, typical, stuff,...</td>\n",
       "    </tr>\n",
       "  </tbody>\n",
       "</table>\n",
       "<p>44497 rows × 9 columns</p>\n",
       "</div>"
      ],
      "text/plain": [
       "                                              tweet_text       location  \\\n",
       "0      donbradshawntv marshallampsuk came assistance ...         Canada   \n",
       "1      red cross distributes fo mcmurray wildfire eva...         Canada   \n",
       "2      interesting insights shifting communications l...         Canada   \n",
       "3      globeandmail oil sands producers helping worke...         Canada   \n",
       "4      ottawa match red cross donations fo mcmurray w...         Canada   \n",
       "...                                                  ...            ...   \n",
       "44494  remove negative people situations life sta att...     Dallas, TX   \n",
       "44495  italian kills traps https co mjnay egp trendin...  United States   \n",
       "44496                      finally gets sleep mins later   Tokyo, Japan   \n",
       "44497                               bhushantuladhar safe      Kathmandu   \n",
       "44498  adamcarolla awesome pretty typical stuff expec...    Los Angeles   \n",
       "\n",
       "             type  target                   datetime  year        date  \\\n",
       "0        wildfire       0        2016-05-06 16:54:00  2016  2016-05-06   \n",
       "1        wildfire       1        2016-05-30 17:30:57  2016  2016-05-30   \n",
       "2        wildfire       0        2016-04-30 23:18:34  2016  2016-04-30   \n",
       "3        wildfire       0        2016-05-30 08:00:05  2016  2016-05-30   \n",
       "4        wildfire       0        2016-05-06 21:06:11  2016  2016-05-06   \n",
       "...           ...     ...                        ...   ...         ...   \n",
       "44494       flood       0  2017-08-11 03:07:32+00:00  2017  2017-08-11   \n",
       "44495  earthquake       0  2017-08-22 03:48:23+00:00  2017  2017-08-22   \n",
       "44496  earthquake       1  2017-08-01 17:08:10+00:00  2017  2017-08-01   \n",
       "44497  earthquake       0  2017-08-18 11:01:12+00:00  2017  2017-08-18   \n",
       "44498  earthquake       0  2017-08-03 01:06:04+00:00  2017  2017-08-03   \n",
       "\n",
       "           time                                         text_split  \n",
       "0      16:54:00  [donbradshawntv, marshallampsuk, came, assista...  \n",
       "1      17:30:57  [red, cross, distributes, fo, mcmurray, wildfi...  \n",
       "2      23:18:34  [interesting, insights, shifting, communicatio...  \n",
       "3      08:00:05  [globeandmail, oil, sands, producers, helping,...  \n",
       "4      21:06:11  [ottawa, match, red, cross, donations, fo, mcm...  \n",
       "...         ...                                                ...  \n",
       "44494  03:07:32  [remove, negative, people, situations, life, s...  \n",
       "44495  03:48:23  [italian, kills, traps, https, co, mjnay, egp,...  \n",
       "44496  17:08:10                [finally, gets, sleep, mins, later]  \n",
       "44497  11:01:12                            [bhushantuladhar, safe]  \n",
       "44498  01:06:04  [adamcarolla, awesome, pretty, typical, stuff,...  \n",
       "\n",
       "[44497 rows x 9 columns]"
      ]
     },
     "execution_count": 6,
     "metadata": {},
     "output_type": "execute_result"
    }
   ],
   "source": [
    "df_train_all"
   ]
  },
  {
   "cell_type": "code",
   "execution_count": 7,
   "metadata": {},
   "outputs": [
    {
     "data": {
      "text/plain": [
       "hurricane     27923\n",
       "earthquake     7355\n",
       "cyclone        3933\n",
       "wildfire       3757\n",
       "flood          1529\n",
       "Name: type, dtype: int64"
      ]
     },
     "execution_count": 7,
     "metadata": {},
     "output_type": "execute_result"
    }
   ],
   "source": [
    "df_train_all['type'].value_counts()"
   ]
  },
  {
   "cell_type": "code",
   "execution_count": 8,
   "metadata": {},
   "outputs": [],
   "source": [
    "df_list = [y for x, y in df_train_all.groupby('type')]"
   ]
  },
  {
   "cell_type": "code",
   "execution_count": 12,
   "metadata": {},
   "outputs": [],
   "source": [
    "X_train_all= create_mean_vectors(df_train_all,wv)"
   ]
  },
  {
   "cell_type": "code",
   "execution_count": 13,
   "metadata": {},
   "outputs": [
    {
     "data": {
      "image/png": "[encoded data removed]",
      "text/plain": [
       "<Figure size 432x288 with 1 Axes>"
      ]
     },
     "metadata": {
      "needs_background": "light"
     },
     "output_type": "display_data"
    }
   ],
   "source": [
    "elbow_method(df_train_all,wv)"
   ]
  },
  {
   "cell_type": "code",
   "execution_count": 14,
   "metadata": {},
   "outputs": [
    {
     "data": {
      "image/png": "[encoded data removed]",
      "text/plain": [
       "<Figure size 432x288 with 1 Axes>"
      ]
     },
     "metadata": {
      "needs_background": "light"
     },
     "output_type": "display_data"
    },
    {
     "name": "stdout",
     "output_type": "stream",
     "text": [
      "Cluster 0:\n",
      "Number of tweets: 12916\n",
      "Average sentiment score: -0.0031886856616165217\n",
      "Average severity score: 0.9990719701096963\n",
      "Top words that influence sentiment score: ['damage', 'irma', 'people', 'water', 'flood', 'harvey', 'amp', 'wildfire', 'flooding', 'cycloneidai']\n",
      "\n",
      "\n"
     ]
    },
    {
     "data": {
      "image/png": "[encoded data removed]",
      "text/plain": [
       "<Figure size 432x288 with 1 Axes>"
      ]
     },
     "metadata": {
      "needs_background": "light"
     },
     "output_type": "display_data"
    },
    {
     "name": "stdout",
     "output_type": "stream",
     "text": [
      "Cluster 1:\n",
      "Number of tweets: 6726\n",
      "Average sentiment score: 0.060283237985624245\n",
      "Average severity score: 0.9650485110471012\n",
      "Top words that influence sentiment score: ['help', 'relief', 'donate', 'victims', 'hurricane', 'please', 'harvey', 'donations', 'cycloneidai', 'amp']\n",
      "\n",
      "\n"
     ]
    },
    {
     "data": {
      "image/png": "[encoded data removed]",
      "text/plain": [
       "<Figure size 432x288 with 1 Axes>"
      ]
     },
     "metadata": {
      "needs_background": "light"
     },
     "output_type": "display_data"
    },
    {
     "name": "stdout",
     "output_type": "stream",
     "text": [
      "Cluster 2:\n",
      "Number of tweets: 9018\n",
      "Average sentiment score: 0.07382641926624399\n",
      "Average severity score: 0.9190326567096593\n",
      "Top words that influence sentiment score: ['help', 'people', 'amp', 'affected', 'need', 'thoughts', 'us', 'cycloneidai', 'prayers', 'please']\n",
      "\n",
      "\n"
     ]
    },
    {
     "data": {
      "image/png": "[encoded data removed]",
      "text/plain": [
       "<Figure size 432x288 with 1 Axes>"
      ]
     },
     "metadata": {
      "needs_background": "light"
     },
     "output_type": "display_data"
    },
    {
     "name": "stdout",
     "output_type": "stream",
     "text": [
      "Cluster 3:\n",
      "Number of tweets: 7798\n",
      "Average sentiment score: 0.006945612529159593\n",
      "Average severity score: 0.9630248225621512\n",
      "Top words that influence sentiment score: ['hurricane', 'maria', 'irma', 'harvey', 'pueo', 'damage', 'rico', 'haiti', 'storm', 'relief']\n",
      "\n",
      "\n"
     ]
    },
    {
     "data": {
      "image/png": "[encoded data removed]",
      "text/plain": [
       "<Figure size 432x288 with 1 Axes>"
      ]
     },
     "metadata": {
      "needs_background": "light"
     },
     "output_type": "display_data"
    },
    {
     "name": "stdout",
     "output_type": "stream",
     "text": [
      "Cluster 4:\n",
      "Number of tweets: 8039\n",
      "Average sentiment score: 0.0191189747972308\n",
      "Average severity score: 1.0103904802928256\n",
      "Top words that influence sentiment score: ['harvey', 'mexico', 'hurricane', 'amp', 'help', 'houston', 'texas', 'irma', 'victims', 'italy']\n",
      "\n",
      "\n"
     ]
    }
   ],
   "source": [
    "analyze_cluster(tweet_data=df_train_all,X_train=X_train_all,k=5)"
   ]
  },
  {
   "cell_type": "code",
   "execution_count": 15,
   "metadata": {},
   "outputs": [],
   "source": [
    "df_cyclone = df_list[0]\n",
    "df_earthquake = df_list[1]\n",
    "df_flood = df_list[2]\n",
    "df_hurricane = df_list[3]\n",
    "df_wildfire = df_list[4]"
   ]
  },
  {
   "cell_type": "markdown",
   "metadata": {},
   "source": [
    "# Cluster analysis on each disaster"
   ]
  },
  {
   "cell_type": "markdown",
   "metadata": {},
   "source": [
    "## Earthquake Dataset"
   ]
  },
  {
   "cell_type": "code",
   "execution_count": 16,
   "metadata": {
    "scrolled": true
   },
   "outputs": [
    {
     "data": {
      "image/png": "[encoded data removed]",
      "text/plain": [
       "<Figure size 432x288 with 1 Axes>"
      ]
     },
     "metadata": {
      "needs_background": "light"
     },
     "output_type": "display_data"
    },
    {
     "name": "stdout",
     "output_type": "stream",
     "text": [
      "Cluster 0:\n",
      "Number of tweets: 2798\n",
      "Average sentiment score: 0.012368598585315882\n",
      "Average severity score: 1.0465835506783416\n",
      "Top words that influence sentiment score: ['eqnz', 'ecuador', 'tsunami', 'new', 'magnitude', 'quake', 'zealand', 'damage', 'toll', 'death']\n",
      "\n",
      "\n"
     ]
    },
    {
     "data": {
      "image/png": "[encoded data removed]",
      "text/plain": [
       "<Figure size 432x288 with 1 Axes>"
      ]
     },
     "metadata": {
      "needs_background": "light"
     },
     "output_type": "display_data"
    },
    {
     "name": "stdout",
     "output_type": "stream",
     "text": [
      "Cluster 1:\n",
      "Number of tweets: 2019\n",
      "Average sentiment score: 0.011156722178267497\n",
      "Average severity score: 1.0673142869103327\n",
      "Top words that influence sentiment score: ['mexico', 'italy', 'victims', 'city', 'help', 'f', 'co', 'relief', 'ecuador', 'people']\n",
      "\n",
      "\n"
     ]
    },
    {
     "data": {
      "image/png": "[encoded data removed]",
      "text/plain": [
       "<Figure size 432x288 with 1 Axes>"
      ]
     },
     "metadata": {
      "needs_background": "light"
     },
     "output_type": "display_data"
    },
    {
     "name": "stdout",
     "output_type": "stream",
     "text": [
      "Cluster 2:\n",
      "Number of tweets: 2538\n",
      "Average sentiment score: 0.07380448140643175\n",
      "Average severity score: 0.9881854548167173\n",
      "Top words that influence sentiment score: ['help', 'ecuador', 'affected', 'mexico', 'thoughts', 'please', 'eqnz', 'people', 'victims', 'prayers']\n",
      "\n",
      "\n"
     ]
    }
   ],
   "source": [
    "tweet_cluster_analysis(df_earthquake,wv,k=3)"
   ]
  },
  {
   "cell_type": "markdown",
   "metadata": {},
   "source": [
    "## Clyclone Dataset"
   ]
  },
  {
   "cell_type": "code",
   "execution_count": 17,
   "metadata": {
    "scrolled": true
   },
   "outputs": [
    {
     "data": {
      "image/png": "[encoded data removed]",
      "text/plain": [
       "<Figure size 432x288 with 1 Axes>"
      ]
     },
     "metadata": {
      "needs_background": "light"
     },
     "output_type": "display_data"
    },
    {
     "name": "stdout",
     "output_type": "stream",
     "text": [
      "Cluster 0:\n",
      "Number of tweets: 1901\n",
      "Average sentiment score: 0.04487057864607275\n",
      "Average severity score: 0.8100220566136571\n",
      "Top words that influence sentiment score: ['cycloneidai', 'mozambique', 'amp', 'affected', 'people', 'zimbabwe', 'aid', 'food', 'relief', 'beira']\n",
      "\n",
      "\n"
     ]
    },
    {
     "data": {
      "image/png": "[encoded data removed]",
      "text/plain": [
       "<Figure size 432x288 with 1 Axes>"
      ]
     },
     "metadata": {
      "needs_background": "light"
     },
     "output_type": "display_data"
    },
    {
     "name": "stdout",
     "output_type": "stream",
     "text": [
      "Cluster 1:\n",
      "Number of tweets: 804\n",
      "Average sentiment score: -0.045963042381885665\n",
      "Average severity score: 0.9060001800948326\n",
      "Top words that influence sentiment score: ['cyclone', 'mozambique', 'idai', 'zimbabwe', 'cycloneidai', 'people', 'malawi', 'death', 'affected', 'toll']\n",
      "\n",
      "\n"
     ]
    },
    {
     "data": {
      "image/png": "[encoded data removed]",
      "text/plain": [
       "<Figure size 432x288 with 1 Axes>"
      ]
     },
     "metadata": {
      "needs_background": "light"
     },
     "output_type": "display_data"
    },
    {
     "name": "stdout",
     "output_type": "stream",
     "text": [
      "Cluster 2:\n",
      "Number of tweets: 1228\n",
      "Average sentiment score: 0.0908950144363418\n",
      "Average severity score: 0.8690821273047404\n",
      "Top words that influence sentiment score: ['cycloneidai', 'help', 'victims', 'affected', 'us', 'donations', 'zimbabwe', 'donate', 'people', 'amp']\n",
      "\n",
      "\n"
     ]
    }
   ],
   "source": [
    "tweet_cluster_analysis(df_cyclone,wv,k=3)"
   ]
  },
  {
   "cell_type": "markdown",
   "metadata": {},
   "source": [
    "## Flood Dataset"
   ]
  },
  {
   "cell_type": "code",
   "execution_count": 18,
   "metadata": {
    "scrolled": true
   },
   "outputs": [
    {
     "data": {
      "image/png": "[encoded data removed]",
      "text/plain": [
       "<Figure size 432x288 with 1 Axes>"
      ]
     },
     "metadata": {
      "needs_background": "light"
     },
     "output_type": "display_data"
    },
    {
     "name": "stdout",
     "output_type": "stream",
     "text": [
      "Cluster 0:\n",
      "Number of tweets: 503\n",
      "Average sentiment score: 0.041743587178229326\n",
      "Average severity score: 0.907450167610425\n",
      "Top words that influence sentiment score: ['flood', 'maryland', 'co', 'floodsl', 'floods', 'flooding', 'amp', 'people', 'help', 'city']\n",
      "\n",
      "\n"
     ]
    },
    {
     "data": {
      "image/png": "[encoded data removed]",
      "text/plain": [
       "<Figure size 432x288 with 1 Axes>"
      ]
     },
     "metadata": {
      "needs_background": "light"
     },
     "output_type": "display_data"
    },
    {
     "name": "stdout",
     "output_type": "stream",
     "text": [
      "Cluster 1:\n",
      "Number of tweets: 448\n",
      "Average sentiment score: -0.012591556508967221\n",
      "Average severity score: 0.906506652538174\n",
      "Top words that influence sentiment score: ['srilanka', 'flood', 'floodsl', 'relief', 'sri', 'lanka', 'lka', 'floods', 'affected', 'amp']\n",
      "\n",
      "\n"
     ]
    },
    {
     "data": {
      "image/png": "[encoded data removed]",
      "text/plain": [
       "<Figure size 432x288 with 1 Axes>"
      ]
     },
     "metadata": {
      "needs_background": "light"
     },
     "output_type": "display_data"
    },
    {
     "name": "stdout",
     "output_type": "stream",
     "text": [
      "Cluster 2:\n",
      "Number of tweets: 578\n",
      "Average sentiment score: -0.0895832599974036\n",
      "Average severity score: 0.8341583890661417\n",
      "Top words that influence sentiment score: ['maryland', 'flooding', 'city', 'ellicott', 'flash', 'floods', 'flood', 'missing', 'national', 'rain']\n",
      "\n",
      "\n"
     ]
    }
   ],
   "source": [
    "tweet_cluster_analysis(df_flood,wv,k=3)"
   ]
  },
  {
   "cell_type": "markdown",
   "metadata": {},
   "source": [
    "## Hurricane Dataset"
   ]
  },
  {
   "cell_type": "code",
   "execution_count": 19,
   "metadata": {
    "scrolled": true
   },
   "outputs": [
    {
     "data": {
      "image/png": "[encoded data removed]",
      "text/plain": [
       "<Figure size 432x288 with 1 Axes>"
      ]
     },
     "metadata": {
      "needs_background": "light"
     },
     "output_type": "display_data"
    },
    {
     "name": "stdout",
     "output_type": "stream",
     "text": [
      "Cluster 0:\n",
      "Number of tweets: 9764\n",
      "Average sentiment score: 0.011528736105830533\n",
      "Average severity score: 0.9945034255004969\n",
      "Top words that influence sentiment score: ['irma', 'harvey', 'damage', 'hurricane', 'water', 'flood', 'flooding', 'hurricaneharvey', 'amp', 'people']\n",
      "\n",
      "\n"
     ]
    },
    {
     "data": {
      "image/png": "[encoded data removed]",
      "text/plain": [
       "<Figure size 432x288 with 1 Axes>"
      ]
     },
     "metadata": {
      "needs_background": "light"
     },
     "output_type": "display_data"
    },
    {
     "name": "stdout",
     "output_type": "stream",
     "text": [
      "Cluster 1:\n",
      "Number of tweets: 9258\n",
      "Average sentiment score: 0.07207245532295488\n",
      "Average severity score: 0.9742382970154118\n",
      "Top words that influence sentiment score: ['help', 'harvey', 'hurricane', 'amp', 'relief', 'please', 'need', 'hurricaneharvey', 'irma', 'hurricanemaria']\n",
      "\n",
      "\n"
     ]
    },
    {
     "data": {
      "image/png": "[encoded data removed]",
      "text/plain": [
       "<Figure size 432x288 with 1 Axes>"
      ]
     },
     "metadata": {
      "needs_background": "light"
     },
     "output_type": "display_data"
    },
    {
     "name": "stdout",
     "output_type": "stream",
     "text": [
      "Cluster 2:\n",
      "Number of tweets: 8901\n",
      "Average sentiment score: 0.00626812755520204\n",
      "Average severity score: 0.9736289986861023\n",
      "Top words that influence sentiment score: ['hurricane', 'maria', 'harvey', 'irma', 'pueo', 'rico', 'haiti', 'damage', 'relief', 'matthew']\n",
      "\n",
      "\n"
     ]
    }
   ],
   "source": [
    "tweet_cluster_analysis(df_hurricane,wv,k=3)"
   ]
  },
  {
   "cell_type": "markdown",
   "metadata": {},
   "source": [
    "## Wildfire Dataset"
   ]
  },
  {
   "cell_type": "code",
   "execution_count": 20,
   "metadata": {
    "scrolled": true
   },
   "outputs": [
    {
     "data": {
      "image/png": "[encoded data removed]",
      "text/plain": [
       "<Figure size 432x288 with 1 Axes>"
      ]
     },
     "metadata": {
      "needs_background": "light"
     },
     "output_type": "display_data"
    },
    {
     "name": "stdout",
     "output_type": "stream",
     "text": [
      "Cluster 0:\n",
      "Number of tweets: 860\n",
      "Average sentiment score: 0.0438094650827209\n",
      "Average severity score: 0.9351524764614412\n",
      "Top words that influence sentiment score: ['wildfire', 'fo', 'relief', 'mcmurray', 'help', 'victims', 'donate', 'albea', 'donations', 'cross']\n",
      "\n",
      "\n"
     ]
    },
    {
     "data": {
      "image/png": "[encoded data removed]",
      "text/plain": [
       "<Figure size 432x288 with 1 Axes>"
      ]
     },
     "metadata": {
      "needs_background": "light"
     },
     "output_type": "display_data"
    },
    {
     "name": "stdout",
     "output_type": "stream",
     "text": [
      "Cluster 1:\n",
      "Number of tweets: 1445\n",
      "Average sentiment score: 0.011443091942659415\n",
      "Average severity score: 0.8978716089016799\n",
      "Top words that influence sentiment score: ['greece', 'people', 'wildfires', 'fire', 'victims', 'help', 'athens', 'greecefires', 'wildfire', 'prayforgreece']\n",
      "\n",
      "\n"
     ]
    },
    {
     "data": {
      "image/png": "[encoded data removed]",
      "text/plain": [
       "<Figure size 432x288 with 1 Axes>"
      ]
     },
     "metadata": {
      "needs_background": "light"
     },
     "output_type": "display_data"
    },
    {
     "name": "stdout",
     "output_type": "stream",
     "text": [
      "Cluster 2:\n",
      "Number of tweets: 1452\n",
      "Average sentiment score: -0.013705642239991413\n",
      "Average severity score: 0.9789457963256633\n",
      "Top words that influence sentiment score: ['wildfire', 'wildfires', 'greece', 'fo', 'mcmurray', 'albea', 'news', 'evacuation', 'ymmfire', 'fires']\n",
      "\n",
      "\n"
     ]
    }
   ],
   "source": [
    "tweet_cluster_analysis(df_wildfire,wv,k=3)"
   ]
  },
  {
   "cell_type": "markdown",
   "metadata": {},
   "source": [
    "## Topic modeling using LDA"
   ]
  },
  {
   "cell_type": "code",
   "execution_count": 21,
   "metadata": {},
   "outputs": [],
   "source": [
    "def create_id2word_corpus(df):\n",
    "    id2word = gensim.corpora.Dictionary(df['text_split'])\n",
    "\n",
    "    corpus = [id2word.doc2bow(text) for text in df['text_split']]\n",
    "    return (id2word,corpus)\n",
    "\n",
    "def find_number_of_topics(corpus,id2word,df):\n",
    "    # Compute coherence score\n",
    "    number_of_topics = []\n",
    "    coherence_score = []\n",
    "    for i in range(1,15):\n",
    "      lda_model = gensim.models.ldamodel.LdaModel(corpus=corpus,\n",
    "                                               id2word=id2word,\n",
    "                                               iterations=50,\n",
    "                                               num_topics=i)\n",
    "      coherence_model_lda = CoherenceModel(model=lda_model, \n",
    "                                           texts=df['text_split'], \n",
    "                                           dictionary=id2word, \n",
    "                                           coherence='c_v')\n",
    "      coherence_lda = coherence_model_lda.get_coherence()\n",
    "      number_of_topics.append(i)\n",
    "      coherence_score.append(coherence_lda)\n",
    "\n",
    "    # Create a dataframe of coherence score by number of topics \n",
    "    topic_coherence = pd.DataFrame({'number_of_topics':number_of_topics,\n",
    "                                    'coherence_score':coherence_score})\n",
    "\n",
    "    # Print a line plot\n",
    "    sns.lineplot(data=topic_coherence, x='number_of_topics', y='coherence_score')\n",
    "\n",
    "def lda_modelling(corpus,id2word,n_topics):\n",
    "    lda_model = gensim.models.ldamodel.LdaModel(corpus=corpus,\n",
    "                                           id2word=id2word,\n",
    "                                           num_topics=n_topics, \n",
    "                                           random_state=100,\n",
    "                                           update_every=1,\n",
    "                                           chunksize=10,\n",
    "                                           passes=10,\n",
    "                                           alpha='symmetric',\n",
    "                                           iterations=100,\n",
    "                                           per_word_topics=True)\n",
    "    return lda_model\n",
    "def print_topicwords(lda_model):\n",
    "    for idx, topic in lda_model.print_topics(-1):\n",
    "        print(\"Topic: {} Word: {}\".format(idx, topic))"
   ]
  },
  {
   "cell_type": "code",
   "execution_count": 24,
   "metadata": {
    "scrolled": true
   },
   "outputs": [
    {
     "data": {
      "image/png": "[encoded data removed]",
      "text/plain": [
       "<Figure size 432x288 with 1 Axes>"
      ]
     },
     "metadata": {
      "needs_background": "light"
     },
     "output_type": "display_data"
    }
   ],
   "source": [
    "(id2word,corpus)= create_id2word_corpus(df_train_all)\n",
    "\n",
    "find_number_of_topics(corpus,id2word,df_train_all)"
   ]
  },
  {
   "cell_type": "code",
   "execution_count": 25,
   "metadata": {},
   "outputs": [
    {
     "name": "stdout",
     "output_type": "stream",
     "text": [
      "Topic: 0 Word: 0.043*\"people\" + 0.035*\"relief\" + 0.031*\"haiti\" + 0.023*\"thoughts\" + 0.019*\"f\" + 0.019*\"prayers\" + 0.014*\"e\" + 0.013*\"effos\" + 0.012*\"pueorico\" + 0.011*\"go\"\n",
      "Topic: 1 Word: 0.044*\"amp\" + 0.032*\"eqnz\" + 0.029*\"co\" + 0.028*\"https\" + 0.026*\"pueo\" + 0.023*\"rico\" + 0.018*\"tsunami\" + 0.013*\"floodsl\" + 0.011*\"safe\" + 0.011*\"warning\"\n",
      "Topic: 2 Word: 0.073*\"mexico\" + 0.046*\"help\" + 0.027*\"affected\" + 0.023*\"italy\" + 0.022*\"victims\" + 0.021*\"please\" + 0.016*\"donate\" + 0.014*\"rescue\" + 0.014*\"need\" + 0.014*\"us\"\n",
      "Topic: 3 Word: 0.061*\"hurricane\" + 0.028*\"flood\" + 0.024*\"city\" + 0.022*\"maria\" + 0.019*\"damage\" + 0.015*\"new\" + 0.014*\"maryland\" + 0.013*\"flooding\" + 0.013*\"floods\" + 0.013*\"water\"\n"
     ]
    }
   ],
   "source": [
    "n_topics = 4\n",
    "lda_model = lda_modelling(corpus,id2word,n_topics)\n",
    "print_topicwords(lda_model)"
   ]
  },
  {
   "cell_type": "code",
   "execution_count": 26,
   "metadata": {
    "scrolled": true
   },
   "outputs": [
    {
     "name": "stderr",
     "output_type": "stream",
     "text": [
      "/Users/allupraveen/opt/anaconda3/lib/python3.9/site-packages/numexpr/expressions.py:21: DeprecationWarning: distutils Version classes are deprecated. Use packaging.version instead.\n",
      "  _np_version_forbids_neg_powint = LooseVersion(numpy.__version__) >= LooseVersion('1.12.0b1')\n",
      "/Users/allupraveen/opt/anaconda3/lib/python3.9/site-packages/numexpr/expressions.py:21: DeprecationWarning: distutils Version classes are deprecated. Use packaging.version instead.\n",
      "  _np_version_forbids_neg_powint = LooseVersion(numpy.__version__) >= LooseVersion('1.12.0b1')\n",
      "/Users/allupraveen/opt/anaconda3/lib/python3.9/site-packages/numexpr/expressions.py:21: DeprecationWarning: distutils Version classes are deprecated. Use packaging.version instead.\n",
      "  _np_version_forbids_neg_powint = LooseVersion(numpy.__version__) >= LooseVersion('1.12.0b1')\n",
      "/Users/allupraveen/opt/anaconda3/lib/python3.9/site-packages/numexpr/expressions.py:21: DeprecationWarning: distutils Version classes are deprecated. Use packaging.version instead.\n",
      "  _np_version_forbids_neg_powint = LooseVersion(numpy.__version__) >= LooseVersion('1.12.0b1')\n",
      "/Users/allupraveen/opt/anaconda3/lib/python3.9/site-packages/numexpr/expressions.py:21: DeprecationWarning: distutils Version classes are deprecated. Use packaging.version instead.\n",
      "  _np_version_forbids_neg_powint = LooseVersion(numpy.__version__) >= LooseVersion('1.12.0b1')\n",
      "/Users/allupraveen/opt/anaconda3/lib/python3.9/site-packages/numexpr/expressions.py:21: DeprecationWarning: distutils Version classes are deprecated. Use packaging.version instead.\n",
      "  _np_version_forbids_neg_powint = LooseVersion(numpy.__version__) >= LooseVersion('1.12.0b1')\n",
      "/Users/allupraveen/opt/anaconda3/lib/python3.9/site-packages/numexpr/expressions.py:21: DeprecationWarning: distutils Version classes are deprecated. Use packaging.version instead.\n",
      "  _np_version_forbids_neg_powint = LooseVersion(numpy.__version__) >= LooseVersion('1.12.0b1')\n",
      "/Users/allupraveen/opt/anaconda3/lib/python3.9/site-packages/numexpr/expressions.py:21: DeprecationWarning: distutils Version classes are deprecated. Use packaging.version instead.\n",
      "  _np_version_forbids_neg_powint = LooseVersion(numpy.__version__) >= LooseVersion('1.12.0b1')\n",
      "/Users/allupraveen/opt/anaconda3/lib/python3.9/site-packages/numexpr/expressions.py:21: DeprecationWarning: distutils Version classes are deprecated. Use packaging.version instead.\n",
      "  _np_version_forbids_neg_powint = LooseVersion(numpy.__version__) >= LooseVersion('1.12.0b1')\n",
      "/Users/allupraveen/opt/anaconda3/lib/python3.9/site-packages/numexpr/expressions.py:21: DeprecationWarning: distutils Version classes are deprecated. Use packaging.version instead.\n",
      "  _np_version_forbids_neg_powint = LooseVersion(numpy.__version__) >= LooseVersion('1.12.0b1')\n",
      "/Users/allupraveen/opt/anaconda3/lib/python3.9/site-packages/numexpr/expressions.py:21: DeprecationWarning: distutils Version classes are deprecated. Use packaging.version instead.\n",
      "  _np_version_forbids_neg_powint = LooseVersion(numpy.__version__) >= LooseVersion('1.12.0b1')\n",
      "/Users/allupraveen/opt/anaconda3/lib/python3.9/site-packages/numexpr/expressions.py:21: DeprecationWarning: distutils Version classes are deprecated. Use packaging.version instead.\n",
      "  _np_version_forbids_neg_powint = LooseVersion(numpy.__version__) >= LooseVersion('1.12.0b1')\n",
      "/Users/allupraveen/opt/anaconda3/lib/python3.9/site-packages/numexpr/expressions.py:21: DeprecationWarning: distutils Version classes are deprecated. Use packaging.version instead.\n",
      "  _np_version_forbids_neg_powint = LooseVersion(numpy.__version__) >= LooseVersion('1.12.0b1')\n",
      "/Users/allupraveen/opt/anaconda3/lib/python3.9/site-packages/numexpr/expressions.py:21: DeprecationWarning: distutils Version classes are deprecated. Use packaging.version instead.\n",
      "  _np_version_forbids_neg_powint = LooseVersion(numpy.__version__) >= LooseVersion('1.12.0b1')\n",
      "/Users/allupraveen/opt/anaconda3/lib/python3.9/site-packages/numexpr/expressions.py:21: DeprecationWarning: distutils Version classes are deprecated. Use packaging.version instead.\n",
      "  _np_version_forbids_neg_powint = LooseVersion(numpy.__version__) >= LooseVersion('1.12.0b1')\n",
      "/Users/allupraveen/opt/anaconda3/lib/python3.9/site-packages/numexpr/expressions.py:21: DeprecationWarning: distutils Version classes are deprecated. Use packaging.version instead.\n",
      "  _np_version_forbids_neg_powint = LooseVersion(numpy.__version__) >= LooseVersion('1.12.0b1')\n"
     ]
    }
   ],
   "source": [
    "pyLDAvis.enable_notebook()\n",
    "warnings.filterwarnings(\"ignore\")\n",
    "vis = pyLDAvis.gensim_models.prepare(lda_model, \n",
    "                                     corpus, \n",
    "                                     dictionary=lda_model.id2word)"
   ]
  },
  {
   "cell_type": "code",
   "execution_count": 27,
   "metadata": {},
   "outputs": [
    {
     "data": {
      "text/html": [
       "\n",
       "<link rel=\"stylesheet\" type=\"text/css\" href=\"https://cdn.jsdelivr.net/gh/bmabey/pyLDAvis@3.4.0/pyLDAvis/js/ldavis.v1.0.0.css\">\n",
       "\n",
       "\n",
       "<div id=\"ldavis_el9671401560213337923587785706\" style=\"background-color:white;\"></div>\n",
       "<script type=\"text/javascript\">\n",
       "\n",
       "var ldavis_el9671401560213337923587785706_data = {\"mdsDat\": {\"x\": [0.3143730477288779, -0.2593436212890311, -0.07383785432844528, 0.01880842788859848], \"y\": [0.16292667084616527, 0.21939592931210353, -0.13891618185769863, -0.24340641830056992], \"topics\": [1, 2, 3, 4], \"cluster\": [1, 1, 1, 1], \"Freq\": [31.741740323745404, 26.064661295586262, 21.8347574139771, 20.35884096669123]}, \"tinfo\": {\"Term\": [\"mexico\", \"hurricane\", \"help\", \"people\", \"amp\", \"relief\", \"haiti\", \"flood\", \"eqnz\", \"affected\", \"co\", \"https\", \"city\", \"pueo\", \"maria\", \"italy\", \"thoughts\", \"victims\", \"rico\", \"please\", \"damage\", \"f\", \"prayers\", \"tsunami\", \"donate\", \"new\", \"maryland\", \"rescue\", \"need\", \"flooding\", \"hurricane\", \"flood\", \"city\", \"maria\", \"damage\", \"new\", \"flooding\", \"water\", \"floods\", \"irma\", \"rain\", \"maryland\", \"news\", \"toll\", \"death\", \"via\", \"hit\", \"dead\", \"matthew\", \"missing\", \"killed\", \"quake\", \"storm\", \"heavy\", \"least\", \"island\", \"devastating\", \"days\", \"flash\", \"following\", \"zealand\", \"harvey\", \"magnitude\", \"ellicott\", \"mexico\", \"help\", \"affected\", \"victims\", \"please\", \"donate\", \"need\", \"us\", \"rescue\", \"italy\", \"everyone\", \"pray\", \"food\", \"suppo\", \"helping\", \"families\", \"friends\", \"donations\", \"like\", \"survivors\", \"today\", \"praying\", \"hea\", \"family\", \"recovery\", \"donating\", \"donation\", \"thank\", \"community\", \"another\", \"mexicos\", \"terremoto\", \"prayforitaly\", \"hurricanemaria\", \"people\", \"relief\", \"thoughts\", \"haiti\", \"f\", \"prayers\", \"e\", \"effos\", \"go\", \"one\", \"emergency\", \"trump\", \"going\", \"team\", \"get\", \"many\", \"stay\", \"supplies\", \"realdonaldtrump\", \"pueorico\", \"b\", \"know\", \"time\", \"much\", \"massive\", \"teams\", \"way\", \"homes\", \"morning\", \"see\", \"residents\", \"send\", \"srilanka\", \"amp\", \"pueo\", \"co\", \"rico\", \"tsunami\", \"warning\", \"safe\", \"aid\", \"still\", \"areas\", \"destroyed\", \"hope\", \"disaster\", \"buildings\", \"weather\", \"near\", \"damaged\", \"sending\", \"w\", \"cannot\", \"utc\", \"keep\", \"occurred\", \"wellington\", \"live\", \"km\", \"noh\", \"work\", \"roads\", \"information\", \"https\", \"central\", \"eqnz\", \"floodsl\", \"nz\", \"newzealand\"], \"Freq\": [9855.0, 9998.0, 6166.0, 4888.0, 4671.0, 3961.0, 3514.0, 4530.0, 3478.0, 3700.0, 3029.0, 2939.0, 3915.0, 2741.0, 3621.0, 3043.0, 2650.0, 2912.0, 2432.0, 2782.0, 3179.0, 2172.0, 2120.0, 1877.0, 2195.0, 2511.0, 2315.0, 1890.0, 1886.0, 2207.0, 9997.648001099895, 4530.027115817334, 3914.4862481201344, 3620.289742066698, 3178.6388773282333, 2510.631775973317, 2206.4110791980634, 2070.6453380682174, 2196.3815346540637, 1986.3139196119992, 1400.045916012535, 2314.2196197899375, 1391.639497387921, 1296.4442559253214, 1246.9050333379507, 1200.0578655102893, 1166.164041003665, 1093.9742499424428, 1849.2257844030757, 1205.7749827694593, 957.8621930005631, 972.988270329607, 867.9969874533385, 856.0272942335747, 795.0794589911663, 784.5806136912835, 839.8289228045502, 760.695147889451, 726.3964214594816, 762.6884523711699, 1677.7694760421584, 1175.8269252113375, 1185.2098045188654, 1000.4666861981152, 9854.63477884912, 6165.902562270269, 3699.2129468726066, 2911.7712114671785, 2781.699118365595, 2194.2147444931843, 1885.4369048921478, 1869.6233619743302, 1890.068448134258, 3042.1620976354634, 1281.4350809522762, 1055.8810729580632, 976.3988520174719, 958.2648899831429, 845.980394896413, 863.2795662604125, 782.7477021906292, 695.9011478756638, 743.5048157940413, 704.8942399954733, 750.3157831891591, 693.0058210104166, 683.835935651292, 669.9121648723711, 674.0748763093345, 616.6236679511178, 542.7350218120789, 525.4762648173511, 514.795252591028, 500.2485290089926, 671.4176393802309, 523.212023872267, 979.2729511332027, 1791.9581861491447, 4887.636698428253, 3960.609659799013, 2649.8050901712722, 3512.9327270027434, 2172.1366693814657, 2119.4924145588516, 1599.2343888212579, 1493.2132066096713, 1269.4379796503385, 815.9334957401279, 767.2253435585861, 751.573845514202, 762.4482931722404, 707.5100040317359, 663.9322433937756, 667.4802810593011, 651.8557728918769, 621.7286515595441, 599.1925778047297, 1354.7714474781665, 618.8129030583516, 628.7724833275911, 608.0925028851832, 584.2323994158071, 579.4773933929041, 590.9192598092493, 528.8498032364615, 503.29728190735307, 557.7169234707238, 502.4639102678928, 525.2323179343143, 503.5548168931585, 597.2571458286675, 4670.717797679441, 2740.4783361852137, 3028.561416198714, 2432.0071776873087, 1876.2555861459184, 1200.4057855774874, 1203.7075189501313, 1165.8676314484278, 1104.9139424492514, 1008.1663751526957, 701.6993814683195, 714.0034474177623, 680.4364461662803, 625.682153282872, 622.4153474673748, 611.2062996789305, 561.5131668038784, 626.4230393721812, 552.704358402563, 540.9451525334987, 483.15049428935396, 496.6523988489239, 525.3449455450001, 547.5952220586877, 447.5348348334272, 481.2216788125913, 444.15834079071055, 403.76307570036585, 365.04600124203245, 392.4309965729831, 2927.0623275745756, 477.2824194109026, 3385.3138395629044, 1351.748068027959, 602.6775985125985, 521.0231018481037], \"Total\": [9855.0, 9998.0, 6166.0, 4888.0, 4671.0, 3961.0, 3514.0, 4530.0, 3478.0, 3700.0, 3029.0, 2939.0, 3915.0, 2741.0, 3621.0, 3043.0, 2650.0, 2912.0, 2432.0, 2782.0, 3179.0, 2172.0, 2120.0, 1877.0, 2195.0, 2511.0, 2315.0, 1890.0, 1886.0, 2207.0, 9998.484455185171, 4530.911244900532, 3915.40685481889, 3621.1916095513557, 3179.4602322559404, 2511.492068988033, 2207.2428514611065, 2071.491022852536, 2197.302027352901, 1987.3932710168256, 1400.8754644172343, 2315.610316676098, 1392.4763490384419, 1297.2586033499254, 1247.719521776174, 1200.90787910372, 1167.008784154361, 1094.8081633011707, 1850.7123052629227, 1206.7556828339452, 958.7368607471793, 973.8777256324216, 868.8162329562418, 856.8741420289075, 795.9130750097058, 785.4119239782647, 840.8073930447945, 761.5825571110615, 727.2602928987611, 763.6096838890973, 1680.8259624397483, 1178.5250024861732, 1189.8567815465399, 1004.1369710393424, 9855.569394316413, 6166.718945043995, 3700.0755478726737, 2912.5921752638683, 2782.5220625735183, 2195.0296095949507, 1886.256762053383, 1870.4756344030816, 1890.9385571206262, 3043.687960279738, 1282.3351839414456, 1056.717658515851, 977.2245786344786, 959.128203414679, 846.8059332977426, 864.1428908012772, 783.600725013845, 696.712102031113, 744.379438574821, 705.726801877644, 751.2113469327653, 693.8419466400626, 684.6767398651339, 670.7444240814121, 674.9126116540396, 617.4363768782375, 543.5431068904322, 526.2970307739691, 515.6331570456617, 501.10688470115093, 672.8677678276295, 524.4114367333739, 1011.7490404344892, 2187.168335235482, 4888.45817639571, 3961.4408803174124, 2650.612074262649, 3514.0506308343315, 2172.9605616599624, 2120.301580418117, 1600.0894034737903, 1494.0187675670456, 1270.2432730947269, 816.7369248428711, 768.0274239158573, 752.3619895080577, 763.2556761896113, 708.3511263725414, 664.7301757238172, 668.2869140391391, 652.6824325654345, 622.5214858279663, 599.9862362214219, 1356.58671491249, 619.6451126466922, 629.6232420823443, 608.9213155151751, 585.0489784487899, 580.3185186956596, 591.8133685291134, 529.6677185971113, 504.0944330793519, 558.6019320322429, 503.2725917592037, 526.0785481687423, 504.36681266476273, 1493.0502063205158, 4671.606995381674, 2741.3596504575175, 3029.6319255981325, 2432.894139001121, 1877.1281579322726, 1201.2690640796086, 1204.6040346478828, 1166.7580513881599, 1105.8007220991271, 1009.0539940842174, 702.5446988591603, 714.9301193688109, 681.3605347980027, 626.5485181175547, 623.326634473592, 612.1222525087651, 562.3630332870255, 627.3883117463163, 553.5952358936106, 541.8846396701849, 484.0507303695907, 497.58628469882086, 526.3432875521137, 548.6393015508875, 448.4187326325204, 482.18102897981197, 445.05967364519415, 404.6360381165737, 365.894497737325, 393.35209474078096, 2939.3980358906715, 478.9516780140044, 3478.717300106235, 1407.3552636618224, 612.6080281463228, 562.047573495528], \"Category\": [\"Default\", \"Default\", \"Default\", \"Default\", \"Default\", \"Default\", \"Default\", \"Default\", \"Default\", \"Default\", \"Default\", \"Default\", \"Default\", \"Default\", \"Default\", \"Default\", \"Default\", \"Default\", \"Default\", \"Default\", \"Default\", \"Default\", \"Default\", \"Default\", \"Default\", \"Default\", \"Default\", \"Default\", \"Default\", \"Default\", \"Topic1\", \"Topic1\", \"Topic1\", \"Topic1\", \"Topic1\", \"Topic1\", \"Topic1\", \"Topic1\", \"Topic1\", \"Topic1\", \"Topic1\", \"Topic1\", \"Topic1\", \"Topic1\", \"Topic1\", \"Topic1\", \"Topic1\", \"Topic1\", \"Topic1\", \"Topic1\", \"Topic1\", \"Topic1\", \"Topic1\", \"Topic1\", \"Topic1\", \"Topic1\", \"Topic1\", \"Topic1\", \"Topic1\", \"Topic1\", \"Topic1\", \"Topic1\", \"Topic1\", \"Topic1\", \"Topic2\", \"Topic2\", \"Topic2\", \"Topic2\", \"Topic2\", \"Topic2\", \"Topic2\", \"Topic2\", \"Topic2\", \"Topic2\", \"Topic2\", \"Topic2\", \"Topic2\", \"Topic2\", \"Topic2\", \"Topic2\", \"Topic2\", \"Topic2\", \"Topic2\", \"Topic2\", \"Topic2\", \"Topic2\", \"Topic2\", \"Topic2\", \"Topic2\", \"Topic2\", \"Topic2\", \"Topic2\", \"Topic2\", \"Topic2\", \"Topic2\", \"Topic2\", \"Topic2\", \"Topic2\", \"Topic3\", \"Topic3\", \"Topic3\", \"Topic3\", \"Topic3\", \"Topic3\", \"Topic3\", \"Topic3\", \"Topic3\", \"Topic3\", \"Topic3\", \"Topic3\", \"Topic3\", \"Topic3\", \"Topic3\", \"Topic3\", \"Topic3\", \"Topic3\", \"Topic3\", \"Topic3\", \"Topic3\", \"Topic3\", \"Topic3\", \"Topic3\", \"Topic3\", \"Topic3\", \"Topic3\", \"Topic3\", \"Topic3\", \"Topic3\", \"Topic3\", \"Topic3\", \"Topic3\", \"Topic4\", \"Topic4\", \"Topic4\", \"Topic4\", \"Topic4\", \"Topic4\", \"Topic4\", \"Topic4\", \"Topic4\", \"Topic4\", \"Topic4\", \"Topic4\", \"Topic4\", \"Topic4\", \"Topic4\", \"Topic4\", \"Topic4\", \"Topic4\", \"Topic4\", \"Topic4\", \"Topic4\", \"Topic4\", \"Topic4\", \"Topic4\", \"Topic4\", \"Topic4\", \"Topic4\", \"Topic4\", \"Topic4\", \"Topic4\", \"Topic4\", \"Topic4\", \"Topic4\", \"Topic4\", \"Topic4\", \"Topic4\"], \"logprob\": [30.0, 29.0, 28.0, 27.0, 26.0, 25.0, 24.0, 23.0, 22.0, 21.0, 20.0, 19.0, 18.0, 17.0, 16.0, 15.0, 14.0, 13.0, 12.0, 11.0, 10.0, 9.0, 8.0, 7.0, 6.0, 5.0, 4.0, 3.0, 2.0, 1.0, -2.799, -3.5906, -3.7367, -3.8148, -3.9449, -4.1808, -4.31, -4.3735, -4.3146, -4.4151, -4.7649, -4.2623, -4.7709, -4.8417, -4.8807, -4.919, -4.9476, -5.0116, -4.4866, -4.9142, -5.1444, -5.1288, -5.2429, -5.2568, -5.3307, -5.344, -5.2759, -5.3749, -5.421, -5.3723, -4.5839, -4.9394, -4.9314, -5.1009, -2.6164, -3.0853, -3.5962, -3.8356, -3.8813, -4.1185, -4.2702, -4.2786, -4.2677, -3.7917, -4.6563, -4.8499, -4.9282, -4.9469, -5.0716, -5.0513, -5.1493, -5.2669, -5.2007, -5.254, -5.1916, -5.271, -5.2844, -5.3049, -5.2987, -5.3878, -5.5154, -5.5478, -5.5683, -5.597, -5.3027, -5.5521, -4.9253, -4.321, -3.1405, -3.3508, -3.7528, -3.4708, -3.9515, -3.9761, -4.2577, -4.3263, -4.4887, -4.9307, -4.9922, -5.0128, -4.9985, -5.0732, -5.1368, -5.1315, -5.1552, -5.2025, -5.2394, -4.4236, -5.2072, -5.1912, -5.2247, -5.2647, -5.2729, -5.2533, -5.3643, -5.4138, -5.3111, -5.4155, -5.3712, -5.4133, -5.2426, -3.1159, -3.6491, -3.5492, -3.7685, -4.028, -4.4746, -4.4718, -4.5038, -4.5575, -4.6491, -5.0115, -4.9941, -5.0423, -5.1262, -5.1314, -5.1496, -5.2344, -5.125, -5.2502, -5.2717, -5.3847, -5.3571, -5.301, -5.2595, -5.4613, -5.3887, -5.4688, -5.5642, -5.665, -5.5926, -3.5833, -5.3969, -3.4378, -4.3559, -5.1636, -5.3092], \"loglift\": [30.0, 29.0, 28.0, 27.0, 26.0, 25.0, 24.0, 23.0, 22.0, 21.0, 20.0, 19.0, 18.0, 17.0, 16.0, 15.0, 14.0, 13.0, 12.0, 11.0, 10.0, 9.0, 8.0, 7.0, 6.0, 5.0, 4.0, 3.0, 2.0, 1.0, 1.1475, 1.1473, 1.1473, 1.1473, 1.1473, 1.1472, 1.1472, 1.1471, 1.1471, 1.147, 1.1469, 1.1469, 1.1469, 1.1469, 1.1469, 1.1468, 1.1468, 1.1468, 1.1467, 1.1467, 1.1466, 1.1466, 1.1466, 1.1465, 1.1465, 1.1465, 1.1464, 1.1464, 1.1463, 1.1463, 1.1457, 1.1452, 1.1436, 1.1439, 1.3445, 1.3445, 1.3444, 1.3443, 1.3443, 1.3442, 1.3442, 1.3441, 1.3441, 1.3441, 1.3439, 1.3438, 1.3437, 1.3437, 1.3436, 1.3436, 1.3435, 1.3434, 1.3434, 1.3434, 1.3434, 1.3434, 1.3434, 1.3433, 1.3433, 1.3433, 1.3431, 1.343, 1.343, 1.3429, 1.3424, 1.3423, 1.312, 1.1453, 1.5215, 1.5215, 1.5214, 1.5213, 1.5213, 1.5213, 1.5211, 1.5211, 1.521, 1.5207, 1.5206, 1.5206, 1.5206, 1.5205, 1.5205, 1.5205, 1.5204, 1.5204, 1.5203, 1.5203, 1.5203, 1.5203, 1.5203, 1.5203, 1.5202, 1.5202, 1.5201, 1.5201, 1.5201, 1.5201, 1.5201, 1.5201, 0.6054, 1.5915, 1.5913, 1.5913, 1.5913, 1.5912, 1.5909, 1.5909, 1.5909, 1.5909, 1.5908, 1.5905, 1.5904, 1.5903, 1.5903, 1.5902, 1.5902, 1.5901, 1.5901, 1.59, 1.5899, 1.5898, 1.5898, 1.5898, 1.5898, 1.5897, 1.5897, 1.5896, 1.5895, 1.5893, 1.5893, 1.5874, 1.5882, 1.5644, 1.5513, 1.5753, 1.5159]}, \"token.table\": {\"Topic\": [2, 4, 4, 2, 4, 3, 4, 4, 1, 4, 1, 4, 2, 1, 4, 1, 1, 1, 4, 1, 4, 2, 2, 2, 2, 3, 3, 1, 2, 3, 4, 3, 1, 2, 3, 4, 2, 3, 2, 2, 1, 1, 1, 1, 1, 2, 3, 4, 1, 2, 2, 3, 3, 3, 1, 3, 1, 2, 2, 1, 2, 2, 1, 3, 4, 1, 2, 3, 4, 1, 1, 2, 3, 4, 4, 1, 1, 2, 3, 4, 1, 4, 3, 1, 2, 4, 1, 4, 3, 1, 1, 4, 3, 1, 3, 2, 2, 3, 1, 3, 3, 4, 2, 1, 1, 1, 4, 4, 1, 3, 4, 4, 3, 3, 2, 2, 3, 2, 3, 2, 4, 2, 3, 1, 1, 3, 2, 3, 2, 3, 4, 4, 4, 3, 3, 4, 1, 2, 3, 4, 3, 4, 1, 3, 2, 2, 3, 3, 2, 3, 2, 3, 3, 2, 1, 3, 4, 2, 4, 1, 2, 4, 4, 1, 3, 4, 4, 4, 1, 3, 4], \"Freq\": [0.9997093173210228, 0.9993502925587203, 0.9998700671134635, 0.9977911205474436, 0.9989554631462769, 0.9989588998064768, 0.9991245400767961, 0.9983674760171771, 0.0020878933009412285, 0.9959251045489659, 0.9996406874506135, 0.9997914183591765, 0.9987720784883396, 0.9998552483055861, 0.9993544503007185, 0.9992350703077137, 0.999261821999268, 0.9994233305132955, 0.9992246772909327, 0.9990397407878745, 0.9980032086853899, 0.9995309358969692, 0.9992932439769036, 0.9990008025425264, 0.9989779106333347, 0.9993191608722455, 0.9993181025639292, 0.9958800729794259, 0.0009958800729794259, 0.0019917601459588517, 0.0009958800729794259, 0.9986622562113487, 0.0034495473373572314, 0.002299698224904821, 0.021272208580369593, 0.9730598114128524, 0.9989587870954755, 0.999557947955011, 0.9986774284514249, 0.9988901524117302, 0.998267067635801, 0.9997988826416412, 0.9994369212883468, 0.9994074427016892, 0.009237184338356096, 0.025579895090832267, 0.004973868489884052, 0.960667171189034, 0.9992015765358133, 0.9987468810534936, 0.9992333786906151, 0.9989015456940523, 0.9990212322937969, 0.9983548419896724, 0.0002845718815845783, 0.9997010200066235, 0.9978574892506764, 0.0016970365463446879, 0.999011592148921, 0.9989798478142453, 0.9998834153055455, 0.9990482668270827, 0.9991355813528928, 0.997828912585552, 0.9986990065971314, 0.0030618514029430847, 0.0003402057114381205, 0.0010206171343143616, 0.9957821173793787, 0.9999515471382345, 0.0018288487152815966, 0.8193242244461553, 0.115674681241561, 0.06309528067721508, 0.9965626349551489, 0.999298945489479, 0.999475531290411, 0.999445422690576, 0.0003285487911540355, 0.9988217426467537, 0.999231425454316, 0.9975506523300787, 0.999010134885931, 0.9988527955647736, 0.9994902618810273, 0.999066201739472, 0.9959181797155224, 0.003361749129841426, 0.9980743090847598, 0.9996709344105922, 0.9993045821809908, 0.00043185159126231235, 0.9977279396517914, 0.9990747858227055, 0.0005403324963886996, 0.9999422261369555, 0.9972241680803651, 0.0014861761074223027, 0.9993737897035043, 0.9989224311665859, 0.9982070245613092, 0.9981666203047421, 0.9993337269460522, 0.99980407304721, 0.9996579122950484, 0.0711683527983744, 0.9269677951988265, 0.9976190301931536, 0.0016323651569273064, 0.013058921255418451, 0.9843161896271658, 0.9974478869895711, 0.9990977206730149, 0.9999062738435766, 0.9998123779212607, 0.9993208606763901, 0.9993861342979992, 0.9676312611866423, 0.03162839668842958, 0.9987865440477622, 0.9995040233202197, 0.0007371441788477986, 0.9988303623387671, 0.9990987311760811, 0.9993750590687956, 0.9983562352569403, 0.9986478076742366, 0.9998887070814049, 0.9995036554111756, 0.9979498343498387, 0.9996324792818614, 0.9975553124114832, 0.9994985616596749, 0.9974713668496127, 0.9992727264055604, 0.9977871571396477, 0.44874579378757334, 0.04621411906170531, 0.39985259535997203, 0.10515386511141643, 0.9989544186707277, 0.9992758893323861, 0.9990605228985369, 0.9991623006758189, 0.9988237199045317, 0.9989701370619477, 0.9995043046316033, 0.9986256333966653, 0.9973085317471986, 0.0019068996782929226, 0.997535553692823, 0.9997690819156103, 0.9984869711542358, 0.998387475192286, 0.9990297976466102, 0.9995188625779801, 0.9993989979173743, 0.9997457147292734, 0.9978292970061455, 0.9992440060394994, 0.9997966844555521, 0.9989247814016141, 0.9989435638379809, 0.9997629616314437, 0.9987393632391269, 0.9978716865280234, 0.9988347507204091, 0.9984281229137815, 0.9983187060987287, 0.0005949455936226036, 0.0011898911872452072], \"Term\": [\"affected\", \"aid\", \"amp\", \"another\", \"areas\", \"b\", \"buildings\", \"cannot\", \"central\", \"central\", \"city\", \"co\", \"community\", \"damage\", \"damaged\", \"days\", \"dead\", \"death\", \"destroyed\", \"devastating\", \"disaster\", \"donate\", \"donating\", \"donation\", \"donations\", \"e\", \"effos\", \"ellicott\", \"ellicott\", \"ellicott\", \"ellicott\", \"emergency\", \"eqnz\", \"eqnz\", \"eqnz\", \"eqnz\", \"everyone\", \"f\", \"families\", \"family\", \"flash\", \"flood\", \"flooding\", \"floods\", \"floodsl\", \"floodsl\", \"floodsl\", \"floodsl\", \"following\", \"food\", \"friends\", \"get\", \"go\", \"going\", \"haiti\", \"haiti\", \"harvey\", \"harvey\", \"hea\", \"heavy\", \"help\", \"helping\", \"hit\", \"homes\", \"hope\", \"https\", \"https\", \"https\", \"https\", \"hurricane\", \"hurricanemaria\", \"hurricanemaria\", \"hurricanemaria\", \"hurricanemaria\", \"information\", \"irma\", \"island\", \"italy\", \"italy\", \"keep\", \"killed\", \"km\", \"know\", \"least\", \"like\", \"live\", \"magnitude\", \"magnitude\", \"many\", \"maria\", \"maryland\", \"maryland\", \"massive\", \"matthew\", \"matthew\", \"mexico\", \"mexicos\", \"mexicos\", \"missing\", \"morning\", \"much\", \"near\", \"need\", \"new\", \"news\", \"newzealand\", \"newzealand\", \"noh\", \"nz\", \"nz\", \"nz\", \"occurred\", \"one\", \"people\", \"please\", \"pray\", \"prayers\", \"prayforitaly\", \"prayforitaly\", \"praying\", \"pueo\", \"pueorico\", \"pueorico\", \"quake\", \"rain\", \"realdonaldtrump\", \"recovery\", \"relief\", \"rescue\", \"residents\", \"rico\", \"roads\", \"safe\", \"see\", \"send\", \"sending\", \"srilanka\", \"srilanka\", \"srilanka\", \"srilanka\", \"stay\", \"still\", \"storm\", \"supplies\", \"suppo\", \"survivors\", \"team\", \"teams\", \"terremoto\", \"terremoto\", \"thank\", \"thoughts\", \"time\", \"today\", \"toll\", \"trump\", \"tsunami\", \"us\", \"utc\", \"via\", \"victims\", \"w\", \"warning\", \"water\", \"way\", \"weather\", \"wellington\", \"work\", \"zealand\", \"zealand\", \"zealand\"]}, \"R\": 30, \"lambda.step\": 0.01, \"plot.opts\": {\"xlab\": \"PC1\", \"ylab\": \"PC2\"}, \"topic.order\": [4, 3, 1, 2]};\n",
       "\n",
       "function LDAvis_load_lib(url, callback){\n",
       "  var s = document.createElement('script');\n",
       "  s.src = url;\n",
       "  s.async = true;\n",
       "  s.onreadystatechange = s.onload = callback;\n",
       "  s.onerror = function(){console.warn(\"failed to load library \" + url);};\n",
       "  document.getElementsByTagName(\"head\")[0].appendChild(s);\n",
       "}\n",
       "\n",
       "if(typeof(LDAvis) !== \"undefined\"){\n",
       "   // already loaded: just create the visualization\n",
       "   !function(LDAvis){\n",
       "       new LDAvis(\"#\" + \"ldavis_el9671401560213337923587785706\", ldavis_el9671401560213337923587785706_data);\n",
       "   }(LDAvis);\n",
       "}else if(typeof define === \"function\" && define.amd){\n",
       "   // require.js is available: use it to load d3/LDAvis\n",
       "   require.config({paths: {d3: \"https://d3js.org/d3.v5\"}});\n",
       "   require([\"d3\"], function(d3){\n",
       "      window.d3 = d3;\n",
       "      LDAvis_load_lib(\"https://cdn.jsdelivr.net/gh/bmabey/pyLDAvis@3.4.0/pyLDAvis/js/ldavis.v3.0.0.js\", function(){\n",
       "        new LDAvis(\"#\" + \"ldavis_el9671401560213337923587785706\", ldavis_el9671401560213337923587785706_data);\n",
       "      });\n",
       "    });\n",
       "}else{\n",
       "    // require.js not available: dynamically load d3 & LDAvis\n",
       "    LDAvis_load_lib(\"https://d3js.org/d3.v5.js\", function(){\n",
       "         LDAvis_load_lib(\"https://cdn.jsdelivr.net/gh/bmabey/pyLDAvis@3.4.0/pyLDAvis/js/ldavis.v3.0.0.js\", function(){\n",
       "                 new LDAvis(\"#\" + \"ldavis_el9671401560213337923587785706\", ldavis_el9671401560213337923587785706_data);\n",
       "            })\n",
       "         });\n",
       "}\n",
       "</script>"
      ],
      "text/plain": [
       "PreparedData(topic_coordinates=              x         y  topics  cluster       Freq\n",
       "topic                                                \n",
       "3      0.314373  0.162927       1        1  31.741740\n",
       "2     -0.259344  0.219396       2        1  26.064661\n",
       "0     -0.073838 -0.138916       3        1  21.834757\n",
       "1      0.018808 -0.243406       4        1  20.358841, topic_info=             Term         Freq        Total Category  logprob  loglift\n",
       "3845       mexico  9855.000000  9855.000000  Default  30.0000  30.0000\n",
       "8539    hurricane  9998.000000  9998.000000  Default  29.0000  29.0000\n",
       "67           help  6166.000000  6166.000000  Default  28.0000  28.0000\n",
       "391        people  4888.000000  4888.000000  Default  27.0000  27.0000\n",
       "241           amp  4671.000000  4671.000000  Default  26.0000  26.0000\n",
       "...           ...          ...          ...      ...      ...      ...\n",
       "2444      central   477.282419   478.951678   Topic4  -5.3969   1.5882\n",
       "31024        eqnz  3385.313840  3478.717300   Topic4  -3.4378   1.5644\n",
       "33924     floodsl  1351.748068  1407.355264   Topic4  -4.3559   1.5513\n",
       "15828          nz   602.677599   612.608028   Topic4  -5.1636   1.5753\n",
       "31055  newzealand   521.023102   562.047573   Topic4  -5.3092   1.5159\n",
       "\n",
       "[167 rows x 6 columns], token_table=       Topic      Freq        Term\n",
       "term                              \n",
       "25         2  0.999709    affected\n",
       "174        4  0.999350         aid\n",
       "241        4  0.999870         amp\n",
       "946        2  0.997791     another\n",
       "144        4  0.998955       areas\n",
       "...      ...       ...         ...\n",
       "22043      4  0.998835  wellington\n",
       "664        4  0.998428        work\n",
       "5410       1  0.998319     zealand\n",
       "5410       3  0.000595     zealand\n",
       "5410       4  0.001190     zealand\n",
       "\n",
       "[171 rows x 3 columns], R=30, lambda_step=0.01, plot_opts={'xlab': 'PC1', 'ylab': 'PC2'}, topic_order=[4, 3, 1, 2])"
      ]
     },
     "execution_count": 27,
     "metadata": {},
     "output_type": "execute_result"
    }
   ],
   "source": [
    "warnings.filterwarnings(\"ignore\")\n",
    "vis"
   ]
  },
  {
   "cell_type": "markdown",
   "metadata": {},
   "source": [
    "## LDA on Earthquake dataset"
   ]
  },
  {
   "cell_type": "code",
   "execution_count": 28,
   "metadata": {
    "scrolled": false
   },
   "outputs": [
    {
     "data": {
      "text/plain": [
       "<AxesSubplot:xlabel='words', ylabel='count'>"
      ]
     },
     "execution_count": 28,
     "metadata": {},
     "output_type": "execute_result"
    },
    {
     "data": {
      "image/png": "[encoded data removed]",
      "text/plain": [
       "<Figure size 1440x720 with 1 Axes>"
      ]
     },
     "metadata": {
      "needs_background": "light"
     },
     "output_type": "display_data"
    }
   ],
   "source": [
    "review_words = ','.join(list(df_earthquake['tweet_text'].values))\n",
    "\n",
    "# Count and find the 30 most frequent\n",
    "Counter = Counter(review_words.split())\n",
    "most_frequent = Counter.most_common(15)\n",
    "fig = plt.figure(1, figsize = (20,10))\n",
    "sns.barplot(x = 'words', y = 'count', data = pd.DataFrame(most_frequent, columns=(\"words\",\"count\")), palette = 'winter')\n",
    "# plt.xticks(rotation=45)"
   ]
  },
  {
   "cell_type": "markdown",
   "metadata": {},
   "source": [
    "### Using coherence score to find optimal number of topics"
   ]
  },
  {
   "cell_type": "code",
   "execution_count": 29,
   "metadata": {},
   "outputs": [
    {
     "data": {
      "image/png": "[encoded data removed]",
      "text/plain": [
       "<Figure size 432x288 with 1 Axes>"
      ]
     },
     "metadata": {
      "needs_background": "light"
     },
     "output_type": "display_data"
    }
   ],
   "source": [
    "(id2word_eq,corpus_eq)= create_id2word_corpus(df_earthquake)\n",
    "\n",
    "find_number_of_topics(corpus_eq,id2word_eq,df_earthquake)"
   ]
  },
  {
   "cell_type": "code",
   "execution_count": 30,
   "metadata": {},
   "outputs": [
    {
     "name": "stdout",
     "output_type": "stream",
     "text": [
      "Topic: 0 Word: 0.056*\"help\" + 0.049*\"eqnz\" + 0.026*\"tsunami\" + 0.022*\"please\" + 0.013*\"warning\" + 0.012*\"need\" + 0.008*\"nz\" + 0.008*\"like\" + 0.008*\"donating\" + 0.008*\"wellington\"\n",
      "Topic: 1 Word: 0.044*\"mexico\" + 0.027*\"amp\" + 0.026*\"affected\" + 0.023*\"thoughts\" + 0.018*\"f\" + 0.018*\"relief\" + 0.016*\"prayers\" + 0.014*\"e\" + 0.013*\"safe\" + 0.013*\"italy\"\n",
      "Topic: 2 Word: 0.103*\"mexico\" + 0.036*\"city\" + 0.028*\"co\" + 0.027*\"https\" + 0.025*\"victims\" + 0.017*\"rescue\" + 0.017*\"donate\" + 0.011*\"occurred\" + 0.010*\"utc\" + 0.010*\"mexicos\"\n",
      "Topic: 3 Word: 0.042*\"people\" + 0.030*\"new\" + 0.024*\"zealand\" + 0.024*\"magnitude\" + 0.021*\"damage\" + 0.017*\"quake\" + 0.013*\"dead\" + 0.012*\"ecuador\" + 0.011*\"kills\" + 0.011*\"toll\"\n"
     ]
    }
   ],
   "source": [
    "n_topics = 4\n",
    "lda_model_eq = lda_modelling(corpus_eq,id2word_eq,n_topics)\n",
    "print_topicwords(lda_model_eq)"
   ]
  },
  {
   "cell_type": "code",
   "execution_count": 31,
   "metadata": {
    "scrolled": true
   },
   "outputs": [
    {
     "name": "stderr",
     "output_type": "stream",
     "text": [
      "/Users/allupraveen/opt/anaconda3/lib/python3.9/site-packages/numexpr/expressions.py:21: DeprecationWarning: distutils Version classes are deprecated. Use packaging.version instead.\n",
      "  _np_version_forbids_neg_powint = LooseVersion(numpy.__version__) >= LooseVersion('1.12.0b1')\n",
      "/Users/allupraveen/opt/anaconda3/lib/python3.9/site-packages/numexpr/expressions.py:21: DeprecationWarning: distutils Version classes are deprecated. Use packaging.version instead.\n",
      "  _np_version_forbids_neg_powint = LooseVersion(numpy.__version__) >= LooseVersion('1.12.0b1')\n",
      "/Users/allupraveen/opt/anaconda3/lib/python3.9/site-packages/numexpr/expressions.py:21: DeprecationWarning: distutils Version classes are deprecated. Use packaging.version instead.\n",
      "  _np_version_forbids_neg_powint = LooseVersion(numpy.__version__) >= LooseVersion('1.12.0b1')\n",
      "/Users/allupraveen/opt/anaconda3/lib/python3.9/site-packages/numexpr/expressions.py:21: DeprecationWarning: distutils Version classes are deprecated. Use packaging.version instead.\n",
      "  _np_version_forbids_neg_powint = LooseVersion(numpy.__version__) >= LooseVersion('1.12.0b1')\n",
      "/Users/allupraveen/opt/anaconda3/lib/python3.9/site-packages/numexpr/expressions.py:21: DeprecationWarning: distutils Version classes are deprecated. Use packaging.version instead.\n",
      "  _np_version_forbids_neg_powint = LooseVersion(numpy.__version__) >= LooseVersion('1.12.0b1')\n",
      "/Users/allupraveen/opt/anaconda3/lib/python3.9/site-packages/numexpr/expressions.py:21: DeprecationWarning: distutils Version classes are deprecated. Use packaging.version instead.\n",
      "  _np_version_forbids_neg_powint = LooseVersion(numpy.__version__) >= LooseVersion('1.12.0b1')\n",
      "/Users/allupraveen/opt/anaconda3/lib/python3.9/site-packages/numexpr/expressions.py:21: DeprecationWarning: distutils Version classes are deprecated. Use packaging.version instead.\n",
      "  _np_version_forbids_neg_powint = LooseVersion(numpy.__version__) >= LooseVersion('1.12.0b1')\n",
      "/Users/allupraveen/opt/anaconda3/lib/python3.9/site-packages/numexpr/expressions.py:21: DeprecationWarning: distutils Version classes are deprecated. Use packaging.version instead.\n",
      "  _np_version_forbids_neg_powint = LooseVersion(numpy.__version__) >= LooseVersion('1.12.0b1')\n",
      "/Users/allupraveen/opt/anaconda3/lib/python3.9/site-packages/numexpr/expressions.py:21: DeprecationWarning: distutils Version classes are deprecated. Use packaging.version instead.\n",
      "  _np_version_forbids_neg_powint = LooseVersion(numpy.__version__) >= LooseVersion('1.12.0b1')\n",
      "/Users/allupraveen/opt/anaconda3/lib/python3.9/site-packages/numexpr/expressions.py:21: DeprecationWarning: distutils Version classes are deprecated. Use packaging.version instead.\n",
      "  _np_version_forbids_neg_powint = LooseVersion(numpy.__version__) >= LooseVersion('1.12.0b1')\n",
      "/Users/allupraveen/opt/anaconda3/lib/python3.9/site-packages/numexpr/expressions.py:21: DeprecationWarning: distutils Version classes are deprecated. Use packaging.version instead.\n",
      "  _np_version_forbids_neg_powint = LooseVersion(numpy.__version__) >= LooseVersion('1.12.0b1')\n",
      "/Users/allupraveen/opt/anaconda3/lib/python3.9/site-packages/numexpr/expressions.py:21: DeprecationWarning: distutils Version classes are deprecated. Use packaging.version instead.\n",
      "  _np_version_forbids_neg_powint = LooseVersion(numpy.__version__) >= LooseVersion('1.12.0b1')\n",
      "/Users/allupraveen/opt/anaconda3/lib/python3.9/site-packages/numexpr/expressions.py:21: DeprecationWarning: distutils Version classes are deprecated. Use packaging.version instead.\n",
      "  _np_version_forbids_neg_powint = LooseVersion(numpy.__version__) >= LooseVersion('1.12.0b1')\n",
      "/Users/allupraveen/opt/anaconda3/lib/python3.9/site-packages/numexpr/expressions.py:21: DeprecationWarning: distutils Version classes are deprecated. Use packaging.version instead.\n",
      "  _np_version_forbids_neg_powint = LooseVersion(numpy.__version__) >= LooseVersion('1.12.0b1')\n",
      "/Users/allupraveen/opt/anaconda3/lib/python3.9/site-packages/numexpr/expressions.py:21: DeprecationWarning: distutils Version classes are deprecated. Use packaging.version instead.\n",
      "  _np_version_forbids_neg_powint = LooseVersion(numpy.__version__) >= LooseVersion('1.12.0b1')\n",
      "/Users/allupraveen/opt/anaconda3/lib/python3.9/site-packages/numexpr/expressions.py:21: DeprecationWarning: distutils Version classes are deprecated. Use packaging.version instead.\n",
      "  _np_version_forbids_neg_powint = LooseVersion(numpy.__version__) >= LooseVersion('1.12.0b1')\n"
     ]
    }
   ],
   "source": [
    "pyLDAvis.enable_notebook()\n",
    "\n",
    "vis = pyLDAvis.gensim_models.prepare(lda_model_eq, \n",
    "                                     corpus_eq, \n",
    "                                     dictionary=lda_model_eq.id2word)"
   ]
  },
  {
   "cell_type": "code",
   "execution_count": 32,
   "metadata": {},
   "outputs": [
    {
     "data": {
      "text/html": [
       "\n",
       "<link rel=\"stylesheet\" type=\"text/css\" href=\"https://cdn.jsdelivr.net/gh/bmabey/pyLDAvis@3.4.0/pyLDAvis/js/ldavis.v1.0.0.css\">\n",
       "\n",
       "\n",
       "<div id=\"ldavis_el9671401560213322245658273501\" style=\"background-color:white;\"></div>\n",
       "<script type=\"text/javascript\">\n",
       "\n",
       "var ldavis_el9671401560213322245658273501_data = {\"mdsDat\": {\"x\": [-0.19232234388425434, 0.12912398194493888, 0.21881715518553457, -0.15561879324621886], \"y\": [0.05954630708501055, -0.2586664126824967, 0.20254185905758623, -0.003421753460100105], \"topics\": [1, 2, 3, 4], \"cluster\": [1, 1, 1, 1], \"Freq\": [26.564242888312815, 26.061018178108764, 25.10409365831972, 22.2706452752587]}, \"tinfo\": {\"Term\": [\"mexico\", \"help\", \"eqnz\", \"people\", \"city\", \"new\", \"amp\", \"affected\", \"co\", \"tsunami\", \"victims\", \"zealand\", \"magnitude\", \"thoughts\", \"https\", \"please\", \"damage\", \"f\", \"relief\", \"quake\", \"rescue\", \"prayers\", \"donate\", \"e\", \"safe\", \"dead\", \"warning\", \"everyone\", \"need\", \"kills\", \"amp\", \"affected\", \"thoughts\", \"f\", \"relief\", \"prayers\", \"safe\", \"e\", \"everyone\", \"us\", \"friends\", \"sending\", \"pray\", \"devastating\", \"hope\", \"b\", \"aid\", \"praying\", \"recovery\", \"fund\", \"effos\", \"families\", \"go\", \"w\", \"morning\", \"helping\", \"love\", \"hea\", \"disaster\", \"keep\", \"may\", \"prayforitaly\", \"mexico\", \"italy\", \"ecuador\", \"people\", \"new\", \"zealand\", \"magnitude\", \"damage\", \"quake\", \"dead\", \"toll\", \"kills\", \"death\", \"killed\", \"least\", \"following\", \"still\", \"aftershocks\", \"hits\", \"newzealand\", \"powerful\", \"rubble\", \"massive\", \"missing\", \"two\", \"areas\", \"video\", \"live\", \"central\", \"rises\", \"major\", \"says\", \"breaking\", \"time\", \"dozens\", \"news\", \"ecuador\", \"italian\", \"help\", \"eqnz\", \"tsunami\", \"please\", \"warning\", \"need\", \"like\", \"water\", \"would\", \"donating\", \"donation\", \"donations\", \"work\", \"coast\", \"nz\", \"team\", \"feel\", \"many\", \"make\", \"way\", \"anyone\", \"information\", \"threat\", \"teams\", \"red\", \"sleep\", \"take\", \"want\", \"issued\", \"emergency\", \"wellington\", \"deadly\", \"cannot\", \"look\", \"kaikoura\", \"city\", \"victims\", \"rescue\", \"donate\", \"occurred\", \"km\", \"survivors\", \"via\", \"near\", \"hit\", \"building\", \"buildings\", \"one\", \"dog\", \"collapsed\", \"search\", \"another\", \"frida\", \"last\", \"today\", \"home\", \"damaged\", \"suppo\", \"school\", \"mexicos\", \"terremoto\", \"co\", \"island\", \"rescuers\", \"saved\", \"utc\", \"list\", \"https\", \"alaska\", \"mexico\", \"italy\"], \"Freq\": [2590.0, 1015.0, 889.0, 801.0, 585.0, 562.0, 514.0, 506.0, 452.0, 470.0, 409.0, 456.0, 453.0, 435.0, 462.0, 399.0, 393.0, 349.0, 342.0, 329.0, 282.0, 315.0, 276.0, 263.0, 258.0, 249.0, 229.0, 232.0, 221.0, 210.0, 513.9037930937515, 506.0392090767439, 434.7059367001463, 348.5126640239476, 341.53909062513407, 314.39798263222275, 257.9306188762488, 263.1500833795045, 232.1971594149384, 202.58155705780283, 160.314323663236, 150.0474610785015, 151.90638896019874, 139.00204291903384, 122.73804650446382, 126.90638488981668, 123.73199618847204, 120.06274979348966, 121.90136558367179, 118.34850416083046, 116.9886682695037, 111.41085514423384, 111.09626390579217, 107.83247156497576, 103.25106992414014, 167.26073668934927, 90.5630221444068, 87.82225944610342, 93.73377633312248, 82.01299232077922, 92.42039237783447, 140.91936470683646, 846.5039878999627, 256.02226699399847, 142.30587756277978, 800.8574925611931, 561.7158788175037, 456.08324297705246, 452.97205396633626, 392.57470045228393, 329.2782006188051, 249.03051060749905, 205.88902690373826, 209.4109871519047, 200.8590201592695, 202.28270275180577, 199.2013388313654, 198.0190497698425, 167.16239428388084, 157.53688212483326, 147.3019404415159, 175.81780059137725, 125.39109946686419, 140.64790659350612, 117.99599643670936, 98.52884560312603, 93.75492537436776, 96.10952667098445, 92.28338738815864, 91.7465445456114, 89.70126878038603, 82.04157785425363, 86.53404794518227, 80.70038851052797, 80.85307084104777, 87.51535137921334, 86.2494976139288, 148.0456355665327, 227.34099533957323, 91.03332440977515, 1015.2755689839053, 888.2906602013757, 469.4937450370261, 398.7275362599064, 229.08585330235613, 221.29805607804184, 145.04095746630992, 128.56503934573962, 128.67297125273848, 143.06713516269397, 111.48023400597907, 101.12163885354856, 98.02112181924534, 94.97254035298302, 151.44741578368158, 125.16597104964066, 79.89917866739682, 84.34081605668527, 79.74426871685158, 80.8744743223942, 74.7450282610792, 80.98555332685376, 72.12349607631835, 75.19510549765597, 66.98214978829849, 67.52651727957472, 64.82664182590314, 62.93788844302924, 66.268723097813, 58.48460171717256, 139.86805137431926, 139.60086956785761, 66.98596945094232, 70.15076087491664, 109.58200126099574, 585.0767070981276, 408.8029885220848, 281.30765710116157, 276.05067659638627, 178.9007378321382, 145.65476563949426, 138.385402166155, 139.5168835081107, 130.2047714998874, 121.0985614471738, 107.91465961114113, 109.73320879785892, 107.80797485453203, 95.76459048053651, 87.39351082491173, 85.2287071231804, 87.9511309959493, 77.77361535776903, 79.95694160465062, 72.57633028416282, 69.43648869819768, 66.60175876155972, 64.95779281847477, 62.84217743153881, 157.94523986518456, 63.044687089476426, 446.4289422361203, 59.45010876448043, 51.552254620162714, 51.061876241375515, 158.19850640029048, 66.52991260081271, 430.18181820773646, 68.08617414250942, 1663.746880532821, 103.08495099370403], \"Total\": [2590.0, 1015.0, 889.0, 801.0, 585.0, 562.0, 514.0, 506.0, 452.0, 470.0, 409.0, 456.0, 453.0, 435.0, 462.0, 399.0, 393.0, 349.0, 342.0, 329.0, 282.0, 315.0, 276.0, 263.0, 258.0, 249.0, 229.0, 232.0, 221.0, 210.0, 514.6019205284788, 506.72930832943996, 435.38468812309725, 349.20031302886247, 342.2410375595262, 315.0777797128281, 258.61591776116853, 263.86590972884756, 232.8778548726975, 203.29737947538237, 161.01815502186895, 150.7314463598733, 152.60329309873362, 139.686930435986, 123.4217245062108, 127.62258799371831, 124.44922688334862, 120.76045876171219, 122.61526428932088, 119.04910099343927, 117.6943567359457, 112.09249760031858, 111.77943665702304, 108.55671444204883, 104.00927752349108, 168.50618326796942, 91.25798635869629, 88.49805034141602, 94.471245019485, 82.6937645705544, 93.22070990598957, 151.2215429912166, 2590.627953000248, 439.97184987020603, 370.0674376101165, 801.5470400459637, 562.3650416459286, 456.72963038572703, 453.62490137614395, 393.24992785965014, 329.9357368115143, 249.67330441873187, 206.5257047407423, 210.06916669149672, 201.4957484709145, 202.92802078148134, 199.84860014831887, 198.70407366491744, 167.82825934871693, 158.19575618980392, 147.97146628972772, 176.7002059174006, 126.03149242205251, 141.3916341188164, 118.67606303137894, 99.19746374566179, 94.40703571898813, 96.78275654442024, 92.95879505703097, 92.42586250843452, 90.3790040978349, 82.67586921579411, 87.20877116083389, 81.3349219259048, 81.49734269004205, 88.23158075568386, 87.21524334688942, 192.5574101783088, 370.0674376101165, 104.2351182157156, 1015.9863118454878, 889.097788455497, 470.25824589384916, 399.44505523845504, 229.77673081090347, 221.99517590384005, 145.7418151061484, 129.25973683193592, 129.38617582114935, 143.87851668159337, 112.18195577418464, 101.83169372627987, 98.74341669349593, 95.7044327464359, 152.63728313124864, 126.15965175588414, 80.61514737049211, 85.0993867782295, 80.47950431420209, 81.63102316743995, 75.46027836895809, 81.76063185414937, 72.84465230829379, 75.95625374590321, 67.67103061407106, 68.26168795738194, 65.53512027019426, 63.63346448918236, 67.03294892602604, 59.16715225499247, 142.15225462814982, 142.45765156637296, 67.7845762763491, 71.10368625315068, 134.12717034742323, 585.8657886864593, 409.5918063246255, 282.081536538491, 276.8262051442141, 179.65507394259097, 146.43892898201915, 139.14660984509823, 140.2909283069891, 130.985458541255, 121.90094942793307, 108.67740268068835, 110.5164400426641, 108.6445134617976, 96.56447527612103, 88.15235891740194, 85.9981418709407, 88.75541392631959, 78.53629134448497, 80.74705030738052, 73.38452989653209, 70.21108579177586, 67.36625029613637, 65.73174707153723, 63.62336834177087, 159.95882528918887, 63.86481460795901, 452.35495617972686, 60.26941563893392, 52.307293315009666, 51.826326497075684, 161.60467510296684, 67.54150212814554, 462.5091419978106, 69.26488053547641, 2590.627953000248, 439.97184987020603], \"Category\": [\"Default\", \"Default\", \"Default\", \"Default\", \"Default\", \"Default\", \"Default\", \"Default\", \"Default\", \"Default\", \"Default\", \"Default\", \"Default\", \"Default\", \"Default\", \"Default\", \"Default\", \"Default\", \"Default\", \"Default\", \"Default\", \"Default\", \"Default\", \"Default\", \"Default\", \"Default\", \"Default\", \"Default\", \"Default\", \"Default\", \"Topic1\", \"Topic1\", \"Topic1\", \"Topic1\", \"Topic1\", \"Topic1\", \"Topic1\", \"Topic1\", \"Topic1\", \"Topic1\", \"Topic1\", \"Topic1\", \"Topic1\", \"Topic1\", \"Topic1\", \"Topic1\", \"Topic1\", \"Topic1\", \"Topic1\", \"Topic1\", \"Topic1\", \"Topic1\", \"Topic1\", \"Topic1\", \"Topic1\", \"Topic1\", \"Topic1\", \"Topic1\", \"Topic1\", \"Topic1\", \"Topic1\", \"Topic1\", \"Topic1\", \"Topic1\", \"Topic1\", \"Topic2\", \"Topic2\", \"Topic2\", \"Topic2\", \"Topic2\", \"Topic2\", \"Topic2\", \"Topic2\", \"Topic2\", \"Topic2\", \"Topic2\", \"Topic2\", \"Topic2\", \"Topic2\", \"Topic2\", \"Topic2\", \"Topic2\", \"Topic2\", \"Topic2\", \"Topic2\", \"Topic2\", \"Topic2\", \"Topic2\", \"Topic2\", \"Topic2\", \"Topic2\", \"Topic2\", \"Topic2\", \"Topic2\", \"Topic2\", \"Topic2\", \"Topic2\", \"Topic2\", \"Topic2\", \"Topic2\", \"Topic3\", \"Topic3\", \"Topic3\", \"Topic3\", \"Topic3\", \"Topic3\", \"Topic3\", \"Topic3\", \"Topic3\", \"Topic3\", \"Topic3\", \"Topic3\", \"Topic3\", \"Topic3\", \"Topic3\", \"Topic3\", \"Topic3\", \"Topic3\", \"Topic3\", \"Topic3\", \"Topic3\", \"Topic3\", \"Topic3\", \"Topic3\", \"Topic3\", \"Topic3\", \"Topic3\", \"Topic3\", \"Topic3\", \"Topic3\", \"Topic3\", \"Topic3\", \"Topic3\", \"Topic3\", \"Topic3\", \"Topic4\", \"Topic4\", \"Topic4\", \"Topic4\", \"Topic4\", \"Topic4\", \"Topic4\", \"Topic4\", \"Topic4\", \"Topic4\", \"Topic4\", \"Topic4\", \"Topic4\", \"Topic4\", \"Topic4\", \"Topic4\", \"Topic4\", \"Topic4\", \"Topic4\", \"Topic4\", \"Topic4\", \"Topic4\", \"Topic4\", \"Topic4\", \"Topic4\", \"Topic4\", \"Topic4\", \"Topic4\", \"Topic4\", \"Topic4\", \"Topic4\", \"Topic4\", \"Topic4\", \"Topic4\", \"Topic4\", \"Topic4\"], \"logprob\": [30.0, 29.0, 28.0, 27.0, 26.0, 25.0, 24.0, 23.0, 22.0, 21.0, 20.0, 19.0, 18.0, 17.0, 16.0, 15.0, 14.0, 13.0, 12.0, 11.0, 10.0, 9.0, 8.0, 7.0, 6.0, 5.0, 4.0, 3.0, 2.0, 1.0, -3.6219, -3.6373, -3.7893, -4.0103, -4.0305, -4.1133, -4.3112, -4.2912, -4.4163, -4.5528, -4.7868, -4.853, -4.8407, -4.9294, -5.0539, -5.0205, -5.0458, -5.0759, -5.0607, -5.0903, -5.1019, -5.1507, -5.1535, -5.1834, -5.2268, -4.7444, -5.3579, -5.3886, -5.3235, -5.4571, -5.3376, -4.9157, -3.1228, -4.3187, -4.906, -3.1591, -3.5138, -3.7221, -3.729, -3.8721, -4.0479, -4.3272, -4.5175, -4.5005, -4.5422, -4.5351, -4.5505, -4.5564, -4.7258, -4.7851, -4.8523, -4.6754, -5.0134, -4.8985, -5.0742, -5.2545, -5.3041, -5.2793, -5.3199, -5.3258, -5.3483, -5.4376, -5.3843, -5.4541, -5.4522, -5.373, -5.3876, -4.8473, -4.4184, -5.3336, -2.8845, -3.0181, -3.6557, -3.8191, -4.3733, -4.4079, -4.8304, -4.951, -4.9501, -4.8441, -5.0935, -5.1911, -5.2222, -5.2538, -4.7872, -4.9778, -5.4266, -5.3725, -5.4286, -5.4145, -5.4933, -5.4131, -5.529, -5.4873, -5.603, -5.5949, -5.6357, -5.6652, -5.6137, -5.7386, -4.8667, -4.8686, -5.6029, -5.5567, -5.1107, -3.3159, -3.6744, -4.0482, -4.067, -4.5008, -4.7064, -4.7576, -4.7494, -4.8185, -4.891, -5.0063, -4.9896, -5.0073, -5.1257, -5.2172, -5.2423, -5.2109, -5.3338, -5.3061, -5.403, -5.4472, -5.4889, -5.5139, -5.547, -4.6254, -5.5438, -3.5864, -5.6025, -5.745, -5.7546, -4.6238, -5.49, -3.6234, -5.4669, -2.2708, -5.0521], \"loglift\": [30.0, 29.0, 28.0, 27.0, 26.0, 25.0, 24.0, 23.0, 22.0, 21.0, 20.0, 19.0, 18.0, 17.0, 16.0, 15.0, 14.0, 13.0, 12.0, 11.0, 10.0, 9.0, 8.0, 7.0, 6.0, 5.0, 4.0, 3.0, 2.0, 1.0, 1.3242, 1.3242, 1.324, 1.3236, 1.3236, 1.3234, 1.323, 1.3229, 1.3227, 1.3221, 1.3212, 1.3211, 1.321, 1.3207, 1.32, 1.32, 1.3198, 1.3198, 1.3198, 1.3197, 1.3196, 1.3195, 1.3195, 1.3189, 1.3183, 1.3182, 1.318, 1.3179, 1.3178, 1.3173, 1.317, 1.255, 0.2071, 0.7842, 0.3699, 1.3439, 1.3436, 1.3433, 1.3433, 1.343, 1.3427, 1.3422, 1.3416, 1.3416, 1.3416, 1.3415, 1.3415, 1.3413, 1.3408, 1.3406, 1.3402, 1.3397, 1.3396, 1.3395, 1.339, 1.338, 1.3378, 1.3377, 1.3374, 1.3374, 1.3372, 1.337, 1.337, 1.3369, 1.3368, 1.3366, 1.3336, 1.0819, 0.8575, 1.2093, 1.3814, 1.3812, 1.3805, 1.3803, 1.3791, 1.379, 1.3773, 1.3768, 1.3766, 1.3765, 1.3759, 1.3751, 1.3748, 1.3745, 1.3743, 1.3742, 1.3732, 1.3732, 1.373, 1.3728, 1.3726, 1.3726, 1.3722, 1.3721, 1.3719, 1.3713, 1.3713, 1.3711, 1.3707, 1.3705, 1.3659, 1.3619, 1.3703, 1.3686, 1.18, 1.5006, 1.5, 1.4992, 1.4991, 1.4977, 1.4965, 1.4964, 1.4964, 1.4959, 1.4953, 1.4949, 1.4948, 1.4942, 1.4936, 1.4933, 1.4929, 1.4928, 1.4921, 1.4921, 1.4908, 1.4908, 1.4905, 1.4901, 1.4895, 1.4892, 1.489, 1.4887, 1.4882, 1.4874, 1.487, 1.4806, 1.4868, 1.4294, 1.4847, 1.0591, 0.0507]}, \"token.table\": {\"Topic\": [1, 2, 1, 2, 4, 1, 4, 3, 2, 1, 2, 4, 4, 3, 2, 4, 2, 3, 4, 3, 4, 2, 4, 2, 3, 4, 2, 1, 1, 4, 4, 3, 3, 3, 2, 1, 1, 2, 1, 3, 3, 1, 1, 1, 3, 2, 4, 1, 1, 1, 1, 3, 1, 3, 4, 2, 4, 1, 2, 3, 4, 3, 4, 3, 1, 2, 4, 1, 2, 4, 2, 3, 4, 1, 2, 2, 4, 4, 2, 3, 4, 2, 3, 1, 2, 2, 3, 3, 2, 1, 1, 2, 4, 1, 4, 2, 1, 4, 3, 2, 1, 2, 2, 1, 3, 4, 4, 2, 3, 2, 1, 1, 1, 3, 4, 1, 2, 1, 3, 1, 4, 4, 2, 2, 1, 4, 2, 4, 4, 1, 3, 2, 4, 4, 3, 3, 3, 4, 1, 3, 2, 4, 2, 3, 2, 1, 2, 4, 4, 4, 2, 1, 3, 3, 3, 3, 2, 3, 4, 3, 3, 2], \"Freq\": [0.9985607536066065, 0.9987625699037777, 0.9963902798386229, 0.014437330899427675, 0.9817385011610819, 0.998830318145994, 0.9914888129872652, 0.9939003886692865, 0.9919122313481433, 0.9951216473235212, 0.9938974367307462, 0.9937668488206453, 0.9953270296938199, 0.988425445441298, 0.9958065028308497, 0.9985222064452672, 0.0022106533516186044, 0.008842613406474418, 0.9859513948218974, 0.992639497187113, 0.9869276451412753, 0.9993644554214913, 0.9945632969843747, 0.9973032582706453, 0.9827481954156186, 0.014039259934508837, 0.9975396579100226, 0.9950823571407721, 0.9950117623686678, 0.9941544209243933, 0.9970154373796235, 0.9938940385134943, 0.9894639403812513, 0.9918326633305793, 0.9860661588473024, 0.9967183721090103, 0.3837138466357143, 0.6134017125796277, 0.9941003395982397, 0.980273644910906, 0.9987652781620298, 0.9962304063940413, 0.9994263664109433, 0.9902536064080396, 0.9923693326805568, 0.9964566722164703, 0.9931714200492022, 0.9936767687983341, 0.9911876613541409, 0.9930270121201754, 0.9943721885454584, 0.9990292075454282, 0.9910615549010793, 0.005934500328748977, 0.9926091680814536, 0.9934347728377201, 0.9827507895922938, 0.9965830609813787, 0.0583772244660362, 0.010810597123340036, 0.9297113526072431, 0.9906968447173178, 0.9789376481341909, 0.9845904298919336, 0.009593695648049155, 0.8730263039724732, 0.11512434777658986, 0.5818554075119154, 0.184102687533067, 0.23410588661612222, 0.178934662811673, 0.8201172045535012, 0.007455610950486375, 0.9916104367220762, 0.9954268475200837, 0.9949104063755017, 0.9970026482365694, 0.9907482650507143, 0.9957537848767063, 0.9949100736421588, 0.9919826756722385, 0.9953923880516056, 0.9844777913592099, 0.9971729996574519, 0.998622427088442, 0.9976060761084585, 0.9940419077094456, 0.9870811433565965, 0.9943032907048813, 0.9869051640218078, 0.32694775759640654, 0.03088054381075859, 0.6423153112637786, 0.006251608801153074, 0.9877541905821857, 0.9980093871536062, 0.9902962740678289, 0.99247658058971, 0.9955171282448447, 0.9993508813334837, 0.2285032809656915, 0.7686019450664169, 0.9960373225726294, 0.006551479294479628, 0.9892733734664237, 0.9963537131002473, 0.994067685138797, 0.9993175197229444, 0.998885816127604, 0.991815597814249, 0.9960466574050713, 0.9965793217350636, 0.9324068331202632, 0.01983844325787794, 0.04628970093504852, 0.993702750308255, 0.9971638816074997, 0.9949821558279309, 0.9900839309231456, 0.9992957081907973, 0.9961658726346898, 0.9941252300485315, 0.9918250727545421, 0.9972301464562797, 0.9976184073799459, 0.9840558543711889, 0.9958821878969786, 0.9902022109483064, 0.9883934484021918, 0.9951473539361723, 0.9961664007261977, 0.9950648397836508, 0.9888676765164807, 0.99175969974134, 0.9918346030649213, 0.9908080615335874, 0.9874104672262778, 0.9864586687792367, 0.9991164408542809, 0.9884047451456142, 0.9973753076426782, 0.9947600686810387, 0.9974545311858287, 0.997324351237143, 0.9956885022828202, 0.9985372193377515, 0.018563819382629507, 0.9776944874851541, 0.9979262500398282, 0.9985551314369886, 0.9896858058837494, 0.9948716719651088, 0.9900451045017351, 0.9966196280704216, 0.9979905820768177, 0.992269811856387, 0.01406942158766118, 0.9848595111362827, 0.00703471079383059, 0.992471227770014, 0.9970153239424654, 0.9984024894879038], \"Term\": [\"affected\", \"aftershocks\", \"aid\", \"alaska\", \"alaska\", \"amp\", \"another\", \"anyone\", \"areas\", \"b\", \"breaking\", \"building\", \"buildings\", \"cannot\", \"central\", \"city\", \"co\", \"co\", \"co\", \"coast\", \"collapsed\", \"damage\", \"damaged\", \"dead\", \"deadly\", \"deadly\", \"death\", \"devastating\", \"disaster\", \"dog\", \"donate\", \"donating\", \"donation\", \"donations\", \"dozens\", \"e\", \"ecuador\", \"ecuador\", \"effos\", \"emergency\", \"eqnz\", \"everyone\", \"f\", \"families\", \"feel\", \"following\", \"frida\", \"friends\", \"fund\", \"go\", \"hea\", \"help\", \"helping\", \"helping\", \"hit\", \"hits\", \"home\", \"hope\", \"https\", \"https\", \"https\", \"information\", \"island\", \"issued\", \"italian\", \"italian\", \"italian\", \"italy\", \"italy\", \"italy\", \"kaikoura\", \"kaikoura\", \"kaikoura\", \"keep\", \"killed\", \"kills\", \"km\", \"last\", \"least\", \"like\", \"list\", \"live\", \"look\", \"love\", \"magnitude\", \"major\", \"make\", \"many\", \"massive\", \"may\", \"mexico\", \"mexico\", \"mexico\", \"mexicos\", \"mexicos\", \"missing\", \"morning\", \"near\", \"need\", \"new\", \"news\", \"news\", \"newzealand\", \"nz\", \"nz\", \"occurred\", \"one\", \"people\", \"please\", \"powerful\", \"pray\", \"prayers\", \"prayforitaly\", \"prayforitaly\", \"prayforitaly\", \"praying\", \"quake\", \"recovery\", \"red\", \"relief\", \"rescue\", \"rescuers\", \"rises\", \"rubble\", \"safe\", \"saved\", \"says\", \"school\", \"search\", \"sending\", \"sleep\", \"still\", \"suppo\", \"survivors\", \"take\", \"team\", \"teams\", \"terremoto\", \"thoughts\", \"threat\", \"time\", \"today\", \"toll\", \"tsunami\", \"two\", \"us\", \"utc\", \"utc\", \"via\", \"victims\", \"video\", \"w\", \"want\", \"warning\", \"water\", \"way\", \"wellington\", \"wellington\", \"wellington\", \"work\", \"would\", \"zealand\"]}, \"R\": 30, \"lambda.step\": 0.01, \"plot.opts\": {\"xlab\": \"PC1\", \"ylab\": \"PC2\"}, \"topic.order\": [2, 4, 1, 3]};\n",
       "\n",
       "function LDAvis_load_lib(url, callback){\n",
       "  var s = document.createElement('script');\n",
       "  s.src = url;\n",
       "  s.async = true;\n",
       "  s.onreadystatechange = s.onload = callback;\n",
       "  s.onerror = function(){console.warn(\"failed to load library \" + url);};\n",
       "  document.getElementsByTagName(\"head\")[0].appendChild(s);\n",
       "}\n",
       "\n",
       "if(typeof(LDAvis) !== \"undefined\"){\n",
       "   // already loaded: just create the visualization\n",
       "   !function(LDAvis){\n",
       "       new LDAvis(\"#\" + \"ldavis_el9671401560213322245658273501\", ldavis_el9671401560213322245658273501_data);\n",
       "   }(LDAvis);\n",
       "}else if(typeof define === \"function\" && define.amd){\n",
       "   // require.js is available: use it to load d3/LDAvis\n",
       "   require.config({paths: {d3: \"https://d3js.org/d3.v5\"}});\n",
       "   require([\"d3\"], function(d3){\n",
       "      window.d3 = d3;\n",
       "      LDAvis_load_lib(\"https://cdn.jsdelivr.net/gh/bmabey/pyLDAvis@3.4.0/pyLDAvis/js/ldavis.v3.0.0.js\", function(){\n",
       "        new LDAvis(\"#\" + \"ldavis_el9671401560213322245658273501\", ldavis_el9671401560213322245658273501_data);\n",
       "      });\n",
       "    });\n",
       "}else{\n",
       "    // require.js not available: dynamically load d3 & LDAvis\n",
       "    LDAvis_load_lib(\"https://d3js.org/d3.v5.js\", function(){\n",
       "         LDAvis_load_lib(\"https://cdn.jsdelivr.net/gh/bmabey/pyLDAvis@3.4.0/pyLDAvis/js/ldavis.v3.0.0.js\", function(){\n",
       "                 new LDAvis(\"#\" + \"ldavis_el9671401560213322245658273501\", ldavis_el9671401560213322245658273501_data);\n",
       "            })\n",
       "         });\n",
       "}\n",
       "</script>"
      ],
      "text/plain": [
       "PreparedData(topic_coordinates=              x         y  topics  cluster       Freq\n",
       "topic                                                \n",
       "1     -0.192322  0.059546       1        1  26.564243\n",
       "3      0.129124 -0.258666       2        1  26.061018\n",
       "0      0.218817  0.202542       3        1  25.104094\n",
       "2     -0.155619 -0.003422       4        1  22.270645, topic_info=        Term         Freq        Total Category  logprob  loglift\n",
       "849   mexico  2590.000000  2590.000000  Default  30.0000  30.0000\n",
       "14      help  1015.000000  1015.000000  Default  29.0000  29.0000\n",
       "4085    eqnz   889.000000   889.000000  Default  28.0000  28.0000\n",
       "4     people   801.000000   801.000000  Default  27.0000  27.0000\n",
       "876     city   585.000000   585.000000  Default  26.0000  26.0000\n",
       "...      ...          ...          ...      ...      ...      ...\n",
       "2740    list    66.529913    67.541502   Topic4  -5.4900   1.4868\n",
       "8622   https   430.181818   462.509142   Topic4  -3.6234   1.4294\n",
       "8644  alaska    68.086174    69.264881   Topic4  -5.4669   1.4847\n",
       "849   mexico  1663.746881  2590.627953   Topic4  -2.2708   1.0591\n",
       "2607   italy   103.084951   439.971850   Topic4  -5.0521   0.0507\n",
       "\n",
       "[171 rows x 6 columns], token_table=      Topic      Freq         Term\n",
       "term                              \n",
       "18        1  0.998561     affected\n",
       "181       2  0.998763  aftershocks\n",
       "56        1  0.996390          aid\n",
       "8644      2  0.014437       alaska\n",
       "8644      4  0.981739       alaska\n",
       "...     ...       ...          ...\n",
       "4088      3  0.984860   wellington\n",
       "4088      4  0.007035   wellington\n",
       "818       3  0.992471         work\n",
       "984       3  0.997015        would\n",
       "4096      2  0.998402      zealand\n",
       "\n",
       "[162 rows x 3 columns], R=30, lambda_step=0.01, plot_opts={'xlab': 'PC1', 'ylab': 'PC2'}, topic_order=[2, 4, 1, 3])"
      ]
     },
     "execution_count": 32,
     "metadata": {},
     "output_type": "execute_result"
    }
   ],
   "source": [
    "vis"
   ]
  },
  {
   "cell_type": "markdown",
   "metadata": {},
   "source": [
    "## LDA on Hurricane dataset"
   ]
  },
  {
   "cell_type": "code",
   "execution_count": 35,
   "metadata": {
    "scrolled": false
   },
   "outputs": [
    {
     "data": {
      "text/plain": [
       "<AxesSubplot:xlabel='words', ylabel='count'>"
      ]
     },
     "execution_count": 35,
     "metadata": {},
     "output_type": "execute_result"
    },
    {
     "data": {
      "image/png": "[encoded data removed]",
      "text/plain": [
       "<Figure size 1440x720 with 1 Axes>"
      ]
     },
     "metadata": {
      "needs_background": "light"
     },
     "output_type": "display_data"
    }
   ],
   "source": [
    "from collections import Counter\n",
    "review_words = ','.join(list(df_hurricane['tweet_text'].values))\n",
    "\n",
    "# Count and find the 30 most frequent\n",
    "Counter = Counter(review_words.split())\n",
    "most_frequent = Counter.most_common(15)\n",
    "fig = plt.figure(1, figsize = (20,10))\n",
    "sns.barplot(x = 'words', y = 'count', data = pd.DataFrame(most_frequent, columns=(\"words\",\"count\")), palette = 'winter')\n",
    "# plt.xticks(rotation=45)"
   ]
  },
  {
   "cell_type": "code",
   "execution_count": 36,
   "metadata": {},
   "outputs": [
    {
     "data": {
      "image/png": "[encoded data removed]",
      "text/plain": [
       "<Figure size 432x288 with 1 Axes>"
      ]
     },
     "metadata": {
      "needs_background": "light"
     },
     "output_type": "display_data"
    }
   ],
   "source": [
    "(id2word_hu,corpus_hu)= create_id2word_corpus(df_hurricane)\n",
    "\n",
    "find_number_of_topics(corpus_hu,id2word_hu,df_hurricane)"
   ]
  },
  {
   "cell_type": "code",
   "execution_count": 37,
   "metadata": {},
   "outputs": [
    {
     "name": "stdout",
     "output_type": "stream",
     "text": [
      "Topic: 0 Word: 0.099*\"maria\" + 0.027*\"flood\" + 0.024*\"co\" + 0.023*\"https\" + 0.018*\"storm\" + 0.016*\"via\" + 0.014*\"flooding\" + 0.011*\"pr\" + 0.010*\"rain\" + 0.009*\"harvey\"\n",
      "Topic: 1 Word: 0.125*\"hurricane\" + 0.075*\"haiti\" + 0.044*\"matthew\" + 0.032*\"damage\" + 0.030*\"irma\" + 0.011*\"destroyed\" + 0.009*\"toll\" + 0.009*\"news\" + 0.009*\"island\" + 0.009*\"death\"\n",
      "Topic: 2 Word: 0.046*\"hurricane\" + 0.040*\"help\" + 0.038*\"hurricanemaria\" + 0.032*\"amp\" + 0.025*\"relief\" + 0.023*\"people\" + 0.020*\"pueorico\" + 0.020*\"please\" + 0.017*\"need\" + 0.015*\"us\"\n",
      "Topic: 3 Word: 0.078*\"pueo\" + 0.070*\"rico\" + 0.023*\"water\" + 0.021*\"aid\" + 0.012*\"hurricaneirma\" + 0.011*\"power\" + 0.010*\"texas\" + 0.009*\"emergency\" + 0.009*\"still\" + 0.008*\"hurricaneharvey\"\n"
     ]
    }
   ],
   "source": [
    "n_topics = 4\n",
    "lda_model_hu = lda_modelling(corpus_hu,id2word_hu,n_topics)\n",
    "print_topicwords(lda_model_hu)"
   ]
  },
  {
   "cell_type": "code",
   "execution_count": 38,
   "metadata": {},
   "outputs": [
    {
     "name": "stderr",
     "output_type": "stream",
     "text": [
      "/Users/allupraveen/opt/anaconda3/lib/python3.9/site-packages/numexpr/expressions.py:21: DeprecationWarning: distutils Version classes are deprecated. Use packaging.version instead.\n",
      "  _np_version_forbids_neg_powint = LooseVersion(numpy.__version__) >= LooseVersion('1.12.0b1')\n",
      "/Users/allupraveen/opt/anaconda3/lib/python3.9/site-packages/numexpr/expressions.py:21: DeprecationWarning: distutils Version classes are deprecated. Use packaging.version instead.\n",
      "  _np_version_forbids_neg_powint = LooseVersion(numpy.__version__) >= LooseVersion('1.12.0b1')\n",
      "/Users/allupraveen/opt/anaconda3/lib/python3.9/site-packages/numexpr/expressions.py:21: DeprecationWarning: distutils Version classes are deprecated. Use packaging.version instead.\n",
      "  _np_version_forbids_neg_powint = LooseVersion(numpy.__version__) >= LooseVersion('1.12.0b1')\n",
      "/Users/allupraveen/opt/anaconda3/lib/python3.9/site-packages/numexpr/expressions.py:21: DeprecationWarning: distutils Version classes are deprecated. Use packaging.version instead.\n",
      "  _np_version_forbids_neg_powint = LooseVersion(numpy.__version__) >= LooseVersion('1.12.0b1')\n",
      "/Users/allupraveen/opt/anaconda3/lib/python3.9/site-packages/numexpr/expressions.py:21: DeprecationWarning: distutils Version classes are deprecated. Use packaging.version instead.\n",
      "  _np_version_forbids_neg_powint = LooseVersion(numpy.__version__) >= LooseVersion('1.12.0b1')\n",
      "/Users/allupraveen/opt/anaconda3/lib/python3.9/site-packages/numexpr/expressions.py:21: DeprecationWarning: distutils Version classes are deprecated. Use packaging.version instead.\n",
      "  _np_version_forbids_neg_powint = LooseVersion(numpy.__version__) >= LooseVersion('1.12.0b1')\n",
      "/Users/allupraveen/opt/anaconda3/lib/python3.9/site-packages/numexpr/expressions.py:21: DeprecationWarning: distutils Version classes are deprecated. Use packaging.version instead.\n",
      "  _np_version_forbids_neg_powint = LooseVersion(numpy.__version__) >= LooseVersion('1.12.0b1')\n",
      "/Users/allupraveen/opt/anaconda3/lib/python3.9/site-packages/numexpr/expressions.py:21: DeprecationWarning: distutils Version classes are deprecated. Use packaging.version instead.\n",
      "  _np_version_forbids_neg_powint = LooseVersion(numpy.__version__) >= LooseVersion('1.12.0b1')\n",
      "/Users/allupraveen/opt/anaconda3/lib/python3.9/site-packages/numexpr/expressions.py:21: DeprecationWarning: distutils Version classes are deprecated. Use packaging.version instead.\n",
      "  _np_version_forbids_neg_powint = LooseVersion(numpy.__version__) >= LooseVersion('1.12.0b1')\n",
      "/Users/allupraveen/opt/anaconda3/lib/python3.9/site-packages/numexpr/expressions.py:21: DeprecationWarning: distutils Version classes are deprecated. Use packaging.version instead.\n",
      "  _np_version_forbids_neg_powint = LooseVersion(numpy.__version__) >= LooseVersion('1.12.0b1')\n",
      "/Users/allupraveen/opt/anaconda3/lib/python3.9/site-packages/numexpr/expressions.py:21: DeprecationWarning: distutils Version classes are deprecated. Use packaging.version instead.\n",
      "  _np_version_forbids_neg_powint = LooseVersion(numpy.__version__) >= LooseVersion('1.12.0b1')\n",
      "/Users/allupraveen/opt/anaconda3/lib/python3.9/site-packages/numexpr/expressions.py:21: DeprecationWarning: distutils Version classes are deprecated. Use packaging.version instead.\n",
      "  _np_version_forbids_neg_powint = LooseVersion(numpy.__version__) >= LooseVersion('1.12.0b1')\n",
      "/Users/allupraveen/opt/anaconda3/lib/python3.9/site-packages/numexpr/expressions.py:21: DeprecationWarning: distutils Version classes are deprecated. Use packaging.version instead.\n",
      "  _np_version_forbids_neg_powint = LooseVersion(numpy.__version__) >= LooseVersion('1.12.0b1')\n",
      "/Users/allupraveen/opt/anaconda3/lib/python3.9/site-packages/numexpr/expressions.py:21: DeprecationWarning: distutils Version classes are deprecated. Use packaging.version instead.\n",
      "  _np_version_forbids_neg_powint = LooseVersion(numpy.__version__) >= LooseVersion('1.12.0b1')\n",
      "/Users/allupraveen/opt/anaconda3/lib/python3.9/site-packages/numexpr/expressions.py:21: DeprecationWarning: distutils Version classes are deprecated. Use packaging.version instead.\n",
      "  _np_version_forbids_neg_powint = LooseVersion(numpy.__version__) >= LooseVersion('1.12.0b1')\n",
      "/Users/allupraveen/opt/anaconda3/lib/python3.9/site-packages/numexpr/expressions.py:21: DeprecationWarning: distutils Version classes are deprecated. Use packaging.version instead.\n",
      "  _np_version_forbids_neg_powint = LooseVersion(numpy.__version__) >= LooseVersion('1.12.0b1')\n"
     ]
    }
   ],
   "source": [
    "warnings.filterwarnings(\"ignore\")\n",
    "vis = pyLDAvis.gensim_models.prepare(lda_model_hu, \n",
    "                                     corpus_hu, \n",
    "                                     dictionary=lda_model_hu.id2word)"
   ]
  },
  {
   "cell_type": "code",
   "execution_count": 39,
   "metadata": {},
   "outputs": [
    {
     "data": {
      "text/html": [
       "\n",
       "<link rel=\"stylesheet\" type=\"text/css\" href=\"https://cdn.jsdelivr.net/gh/bmabey/pyLDAvis@3.4.0/pyLDAvis/js/ldavis.v1.0.0.css\">\n",
       "\n",
       "\n",
       "<div id=\"ldavis_el9671401559206115848285527751\" style=\"background-color:white;\"></div>\n",
       "<script type=\"text/javascript\">\n",
       "\n",
       "var ldavis_el9671401559206115848285527751_data = {\"mdsDat\": {\"x\": [-0.2162823975271476, -0.19399255618947187, 0.22011608649418343, 0.19015886722243605], \"y\": [-0.11853872342016511, 0.10656824111255013, -0.24170090985821197, 0.2536713921658268], \"topics\": [1, 2, 3, 4], \"cluster\": [1, 1, 1, 1], \"Freq\": [30.738735788183057, 25.669653215473183, 22.153916955408274, 21.437694040935487]}, \"tinfo\": {\"Term\": [\"hurricane\", \"maria\", \"haiti\", \"pueo\", \"rico\", \"matthew\", \"help\", \"hurricanemaria\", \"amp\", \"damage\", \"irma\", \"relief\", \"flood\", \"people\", \"co\", \"water\", \"https\", \"pueorico\", \"please\", \"aid\", \"need\", \"storm\", \"us\", \"via\", \"donate\", \"affected\", \"victims\", \"flooding\", \"food\", \"hurricaneirma\", \"help\", \"amp\", \"relief\", \"people\", \"please\", \"pueorico\", \"need\", \"us\", \"donate\", \"victims\", \"affected\", \"food\", \"effos\", \"prayers\", \"thoughts\", \"pray\", \"supplies\", \"realdonaldtrump\", \"trump\", \"suppo\", \"go\", \"f\", \"donations\", \"going\", \"everyone\", \"recovery\", \"send\", \"americans\", \"get\", \"cannot\", \"hurricanemaria\", \"hurricane\", \"haiti\", \"matthew\", \"damage\", \"irma\", \"destroyed\", \"toll\", \"news\", \"death\", \"island\", \"florida\", \"caribbean\", \"hit\", \"cuba\", \"dead\", \"bahamas\", \"homes\", \"killed\", \"new\", \"destruction\", \"home\", \"says\", \"assistance\", \"fema\", \"hits\", \"least\", \"heads\", \"left\", \"made\", \"landfall\", \"even\", \"hurricanematthew\", \"hurricane\", \"jamaica\", \"pueo\", \"rico\", \"water\", \"aid\", \"power\", \"texas\", \"emergency\", \"still\", \"hurricaneharvey\", \"without\", \"damaged\", \"rescue\", \"many\", \"see\", \"video\", \"hea\", \"floods\", \"thanks\", \"response\", \"residents\", \"crisis\", \"electricity\", \"team\", \"like\", \"humanitarian\", \"mexico\", \"hurricaneirma\", \"ricos\", \"medical\", \"would\", \"reach\", \"country\", \"maria\", \"flood\", \"co\", \"https\", \"storm\", \"via\", \"flooding\", \"rain\", \"pr\", \"areas\", \"winds\", \"days\", \"family\", \"devastated\", \"tropical\", \"san\", \"heavy\", \"across\", \"deaths\", \"coast\", \"roads\", \"juan\", \"city\", \"watch\", \"hurricanes\", \"weather\", \"wind\", \"warning\", \"st\", \"south\", \"workers\", \"hope\", \"harvey\"], \"Freq\": [14038.0, 6480.0, 5849.0, 5273.0, 4724.0, 3436.0, 3784.0, 3615.0, 2975.0, 2530.0, 2328.0, 2380.0, 1791.0, 2154.0, 1573.0, 1577.0, 1504.0, 1913.0, 1858.0, 1418.0, 1624.0, 1143.0, 1423.0, 1052.0, 1306.0, 1247.0, 1228.0, 919.0, 1099.0, 816.0, 3783.728301472971, 2974.462846860389, 2380.0758443017717, 2153.9381978322813, 1857.4015497447272, 1912.4711865921947, 1623.9320509221873, 1422.887713601356, 1305.387987016149, 1227.7377028511137, 1246.3283136358907, 1099.0949279344659, 1027.077118470268, 841.8027511474237, 823.9239275130908, 880.3962114390888, 784.4247544771329, 774.7041468887023, 806.5364576203667, 665.1340500435191, 662.2841111454283, 599.4462457603717, 537.6301520069338, 542.4555334988396, 506.9261673473933, 474.46224688594305, 481.958377934501, 474.72536310871226, 445.00949213149835, 442.15741691279186, 3562.9858673208364, 4270.212627226142, 5848.677846426511, 3435.7802854815336, 2529.6259625402267, 2327.8002499137083, 824.5929453493358, 728.9449227338067, 722.2372878011616, 676.4523418805328, 711.1237715967002, 671.2792579332818, 627.7774972715991, 639.5234313990059, 618.3384868306437, 514.1112435985891, 509.0891826533172, 495.93740205160515, 432.8258434306783, 413.3411819366708, 395.7356063045589, 326.28883663894356, 328.44561113056307, 345.6131909300306, 344.04660034923114, 304.88946343746755, 287.55209198666694, 320.5754486055378, 287.366116698791, 287.3605279739107, 282.8086844998441, 314.54159180081575, 666.5084165428931, 9767.468139751669, 314.6989863132448, 5272.97826858089, 4723.803336723127, 1576.3827020465449, 1417.3709100616347, 714.0992273259259, 678.3164586153702, 600.0519231520782, 598.1138723568138, 543.6367909863757, 482.6499353146223, 467.52331657064394, 478.34316275227377, 443.98579366922837, 482.35705014547517, 436.8619377392634, 407.14099021647695, 373.99689032677037, 355.75059362458575, 341.9541656182436, 334.8842928146165, 331.74199096178677, 327.66318555984617, 308.6950923529432, 312.5215470636038, 314.15247848935377, 304.18127973271345, 814.5204111446253, 315.0726739810902, 282.8131055270121, 289.2301532824468, 315.5076497773035, 325.3600730871703, 6479.669846024365, 1790.6550700251885, 1572.6312909885946, 1503.1039443411785, 1142.907739948121, 1052.129000408577, 919.2543711061629, 677.9442325710129, 695.1970252398346, 547.8858272635695, 529.153103108209, 567.2387166597139, 556.1943265793296, 497.8287988297083, 389.8607548064162, 389.344518021849, 327.720994322788, 346.31871486621066, 326.80105416982065, 317.9769870063091, 317.83952049064015, 311.7317928929967, 301.73161318224413, 312.2593407909964, 312.93642647357046, 297.9713977151524, 283.6629304415476, 279.90420487918226, 267.54757360951993, 279.084605248601, 302.4280068138228, 290.4345474227604, 568.3545032686476], \"Total\": [14038.0, 6480.0, 5849.0, 5273.0, 4724.0, 3436.0, 3784.0, 3615.0, 2975.0, 2530.0, 2328.0, 2380.0, 1791.0, 2154.0, 1573.0, 1577.0, 1504.0, 1913.0, 1858.0, 1418.0, 1624.0, 1143.0, 1423.0, 1052.0, 1306.0, 1247.0, 1228.0, 919.0, 1099.0, 816.0, 3784.472268062651, 2975.2448562131526, 2380.8319076165426, 2154.726881707325, 1858.1491441987862, 1913.2425585375822, 1624.681428039852, 1423.6731116781443, 1306.1352602547397, 1228.4848993254407, 1247.102020715589, 1099.8595944486838, 1027.8361015316923, 842.5596186569846, 824.6859317491468, 881.2383194178437, 785.1840620136248, 775.4782034502068, 807.3438500214233, 665.8913721429861, 663.0736215226051, 600.2035325106552, 538.3773954100903, 543.2328717034987, 507.6793657316593, 475.2187761963272, 482.7357800775276, 475.5136576748655, 445.7869219729675, 442.95763915483906, 3615.396739322609, 14038.274728843126, 5849.563801544298, 3436.5933920753637, 2530.3983084676515, 2328.596827785738, 825.3657257961822, 729.6984745309683, 723.009537456357, 677.2057761703952, 711.9242751698696, 672.0359769859456, 628.5417888426074, 640.3021345901435, 619.1180817206032, 514.8770554045952, 509.86815055168887, 496.70456308782593, 433.59319640052246, 414.12167005368997, 396.49798277502555, 327.0505166417912, 329.21522923792054, 346.4452164875654, 344.87819543938014, 305.6552013362704, 288.30826717049496, 321.4282413081824, 288.1441401564737, 288.1490769932421, 283.58679076350523, 315.4185112184456, 694.7753435931232, 14038.274728843126, 319.27326638339144, 5273.746316428139, 4724.5682338364295, 1577.1212769228737, 1418.1237739314947, 714.8371052354386, 679.1266906428257, 600.8023572165662, 598.9135025084931, 544.3920241513598, 483.43233610855424, 468.2904513358768, 479.13630814481735, 444.7459081612026, 483.18825160911433, 437.61762400706857, 407.9777857020456, 374.78286870459493, 356.52057283244596, 342.69583746164966, 335.6229122264797, 332.5072430093077, 328.43818928970404, 309.42880174428865, 313.26755379660995, 314.9204483737771, 304.9397516397459, 816.6105956824986, 315.8908249393609, 283.5504957802181, 290.00629739987, 316.3625937665295, 326.43287987529555, 6480.665732863175, 1791.3808258391791, 1573.4276387762625, 1504.0437927994221, 1143.6408818336363, 1052.8922776377474, 919.9772018045078, 678.6747196211655, 696.136565389756, 548.6328676860741, 529.8807777918338, 568.0327642940055, 557.0355941792589, 498.6740755318026, 390.56994173540653, 390.10789250097173, 328.4417161328759, 347.09399298643774, 327.55301434044014, 318.7202662889533, 318.5973735009152, 312.49383480574556, 302.4729259378721, 313.0315710261088, 313.7194313451358, 298.72190730332335, 284.3844343842646, 280.61967869284166, 268.2811337246485, 279.852038432908, 303.4181399435692, 291.31888084554237, 985.184072922709], \"Category\": [\"Default\", \"Default\", \"Default\", \"Default\", \"Default\", \"Default\", \"Default\", \"Default\", \"Default\", \"Default\", \"Default\", \"Default\", \"Default\", \"Default\", \"Default\", \"Default\", \"Default\", \"Default\", \"Default\", \"Default\", \"Default\", \"Default\", \"Default\", \"Default\", \"Default\", \"Default\", \"Default\", \"Default\", \"Default\", \"Default\", \"Topic1\", \"Topic1\", \"Topic1\", \"Topic1\", \"Topic1\", \"Topic1\", \"Topic1\", \"Topic1\", \"Topic1\", \"Topic1\", \"Topic1\", \"Topic1\", \"Topic1\", \"Topic1\", \"Topic1\", \"Topic1\", \"Topic1\", \"Topic1\", \"Topic1\", \"Topic1\", \"Topic1\", \"Topic1\", \"Topic1\", \"Topic1\", \"Topic1\", \"Topic1\", \"Topic1\", \"Topic1\", \"Topic1\", \"Topic1\", \"Topic1\", \"Topic1\", \"Topic2\", \"Topic2\", \"Topic2\", \"Topic2\", \"Topic2\", \"Topic2\", \"Topic2\", \"Topic2\", \"Topic2\", \"Topic2\", \"Topic2\", \"Topic2\", \"Topic2\", \"Topic2\", \"Topic2\", \"Topic2\", \"Topic2\", \"Topic2\", \"Topic2\", \"Topic2\", \"Topic2\", \"Topic2\", \"Topic2\", \"Topic2\", \"Topic2\", \"Topic2\", \"Topic2\", \"Topic2\", \"Topic2\", \"Topic2\", \"Topic2\", \"Topic2\", \"Topic2\", \"Topic3\", \"Topic3\", \"Topic3\", \"Topic3\", \"Topic3\", \"Topic3\", \"Topic3\", \"Topic3\", \"Topic3\", \"Topic3\", \"Topic3\", \"Topic3\", \"Topic3\", \"Topic3\", \"Topic3\", \"Topic3\", \"Topic3\", \"Topic3\", \"Topic3\", \"Topic3\", \"Topic3\", \"Topic3\", \"Topic3\", \"Topic3\", \"Topic3\", \"Topic3\", \"Topic3\", \"Topic3\", \"Topic3\", \"Topic3\", \"Topic3\", \"Topic3\", \"Topic4\", \"Topic4\", \"Topic4\", \"Topic4\", \"Topic4\", \"Topic4\", \"Topic4\", \"Topic4\", \"Topic4\", \"Topic4\", \"Topic4\", \"Topic4\", \"Topic4\", \"Topic4\", \"Topic4\", \"Topic4\", \"Topic4\", \"Topic4\", \"Topic4\", \"Topic4\", \"Topic4\", \"Topic4\", \"Topic4\", \"Topic4\", \"Topic4\", \"Topic4\", \"Topic4\", \"Topic4\", \"Topic4\", \"Topic4\", \"Topic4\", \"Topic4\", \"Topic4\"], \"logprob\": [30.0, 29.0, 28.0, 27.0, 26.0, 25.0, 24.0, 23.0, 22.0, 21.0, 20.0, 19.0, 18.0, 17.0, 16.0, 15.0, 14.0, 13.0, 12.0, 11.0, 10.0, 9.0, 8.0, 7.0, 6.0, 5.0, 4.0, 3.0, 2.0, 1.0, -3.2086, -3.4493, -3.6722, -3.772, -3.9201, -3.8909, -4.0545, -4.1866, -4.2728, -4.3341, -4.3191, -4.4448, -4.5126, -4.7115, -4.733, -4.6667, -4.7821, -4.7946, -4.7543, -4.9471, -4.9514, -5.0511, -5.1599, -5.151, -5.2187, -5.2849, -5.2692, -5.2843, -5.349, -5.3554, -3.2687, -3.0877, -2.5929, -3.1249, -3.431, -3.5142, -4.552, -4.6753, -4.6845, -4.75, -4.7, -4.7577, -4.8247, -4.8061, -4.8398, -5.0244, -5.0342, -5.0604, -5.1965, -5.2426, -5.2861, -5.4791, -5.4725, -5.4215, -5.4261, -5.5469, -5.6055, -5.4967, -5.6061, -5.6061, -5.6221, -5.5157, -4.7648, -2.08, -5.5152, -2.5492, -2.6592, -3.7567, -3.863, -4.5485, -4.5999, -4.7225, -4.7258, -4.8213, -4.9403, -4.9721, -4.9492, -5.0238, -4.9409, -5.0399, -5.1104, -5.1953, -5.2453, -5.2849, -5.3058, -5.3152, -5.3276, -5.3872, -5.3749, -5.3697, -5.4019, -4.417, -5.3668, -5.4748, -5.4523, -5.3654, -5.3346, -2.3103, -3.5964, -3.7262, -3.7714, -4.0454, -4.1281, -4.2631, -4.5676, -4.5425, -4.7806, -4.8154, -4.7459, -4.7656, -4.8764, -5.1209, -5.1222, -5.2945, -5.2393, -5.2973, -5.3247, -5.3252, -5.3446, -5.3772, -5.3429, -5.3407, -5.3897, -5.4389, -5.4523, -5.4974, -5.4552, -5.3749, -5.4153, -4.744], \"loglift\": [30.0, 29.0, 28.0, 27.0, 26.0, 25.0, 24.0, 23.0, 22.0, 21.0, 20.0, 19.0, 18.0, 17.0, 16.0, 15.0, 14.0, 13.0, 12.0, 11.0, 10.0, 9.0, 8.0, 7.0, 6.0, 5.0, 4.0, 3.0, 2.0, 1.0, 1.1794, 1.1794, 1.1793, 1.1793, 1.1792, 1.1792, 1.1792, 1.1791, 1.1791, 1.179, 1.179, 1.179, 1.1789, 1.1787, 1.1787, 1.1787, 1.1787, 1.1786, 1.1786, 1.1785, 1.1785, 1.1784, 1.1783, 1.1782, 1.1782, 1.1781, 1.178, 1.178, 1.1779, 1.1778, 1.165, -0.0105, 1.3597, 1.3596, 1.3596, 1.3595, 1.3589, 1.3588, 1.3588, 1.3587, 1.3587, 1.3587, 1.3586, 1.3586, 1.3586, 1.3584, 1.3583, 1.3583, 1.3581, 1.358, 1.3579, 1.3575, 1.3575, 1.3575, 1.3574, 1.3574, 1.3572, 1.3572, 1.3572, 1.3571, 1.3571, 1.3571, 1.3183, 0.9971, 1.3454, 1.507, 1.507, 1.5067, 1.5066, 1.5061, 1.506, 1.5059, 1.5058, 1.5058, 1.5055, 1.5055, 1.5055, 1.5054, 1.5054, 1.5054, 1.5051, 1.5051, 1.505, 1.505, 1.505, 1.5049, 1.5048, 1.5048, 1.5048, 1.5047, 1.5047, 1.5046, 1.5046, 1.5046, 1.5045, 1.5044, 1.5039, 1.5399, 1.5396, 1.5395, 1.5394, 1.5394, 1.5393, 1.5392, 1.5389, 1.5387, 1.5387, 1.5386, 1.5386, 1.5385, 1.5383, 1.5382, 1.5381, 1.5378, 1.5378, 1.5377, 1.5377, 1.5376, 1.5376, 1.5376, 1.5375, 1.5375, 1.5375, 1.5375, 1.5375, 1.5373, 1.5373, 1.5368, 1.537, 0.9899]}, \"token.table\": {\"Topic\": [4, 1, 3, 1, 1, 4, 2, 2, 1, 2, 4, 4, 4, 3, 3, 2, 2, 3, 4, 2, 2, 4, 2, 2, 4, 1, 1, 1, 3, 3, 2, 1, 1, 4, 2, 4, 4, 3, 2, 1, 1, 1, 1, 2, 1, 2, 4, 3, 2, 4, 1, 2, 2, 2, 2, 4, 4, 3, 1, 2, 3, 1, 3, 1, 2, 4, 1, 2, 3, 4, 2, 2, 1, 2, 4, 4, 2, 2, 2, 2, 3, 2, 3, 4, 2, 3, 3, 1, 2, 2, 1, 1, 3, 4, 1, 1, 3, 1, 4, 3, 1, 1, 1, 3, 3, 3, 3, 3, 4, 4, 2, 3, 1, 4, 4, 3, 4, 1, 1, 3, 3, 3, 1, 2, 4, 1, 1, 4, 1, 3, 4, 4, 3, 4, 4, 4, 3, 4, 3], \"Freq\": [0.9968481362151361, 0.9991163347526638, 0.9992075628713428, 0.9989197835507456, 0.9995815953733849, 0.9988464641414153, 0.9987149007508915, 0.9982973038210967, 0.9978380796035796, 0.9991380225591603, 0.9984364685321646, 0.9997282119840001, 0.9977401302485724, 0.9956104915784129, 0.9984744903457833, 0.9981940735481414, 0.9998425906046813, 0.9993797624208475, 0.9981818578805237, 0.9982965731422891, 0.9982194833345724, 0.9983116798923262, 0.9995568924359811, 0.9987440471410718, 0.9986482643376162, 0.9991308248928842, 0.9992990132696733, 0.9991865419686599, 0.9986658394060335, 0.9986645238539287, 0.9986731558118486, 0.9986618212645294, 0.9979947926903715, 0.9981408832934909, 0.9974536069516912, 0.999787412127178, 0.998937797803477, 0.9979111406364415, 0.9984584501106742, 0.9992184507431472, 0.9982347576068747, 0.9983808411498263, 0.997730491345944, 0.9999036164809162, 0.33090262922427066, 0.0923685253356093, 0.5765420042925943, 0.9976033359258445, 0.9986676923395421, 0.9986551156227146, 0.9998752090042682, 0.9995281374622671, 0.9978564037732517, 0.9967879071020035, 0.9985815248335028, 0.9954727244533057, 0.99930600903749, 0.9970772035333678, 0.30416843112685577, 0.6957407650622951, 0.9992798863062498, 0.002449147746274906, 0.9980277066070242, 0.9855073334683523, 0.00027659481713958805, 0.014106335674118993, 0.03886148270657664, 0.9600225542698747, 0.0014393141743176533, 0.9977067682991421, 0.999743696384614, 0.9987017226380586, 0.012528452649075537, 0.9866156461146985, 0.0031321131622688843, 0.998419697444423, 0.9986319056538551, 0.9979308247682291, 0.9989307723516903, 0.9960292784165161, 0.9991459256045915, 0.9960122135207498, 0.9983228442409138, 0.9998972740007559, 0.9998273313110791, 0.9980585617432853, 0.996918238325136, 0.9995805774423887, 0.9972914480578992, 0.998603701052259, 0.9996626571499637, 0.9993815651438025, 0.9988289566541697, 0.9983673241052642, 0.9985947962196403, 0.999335811206005, 0.999858484579394, 0.9993505483494304, 0.9990058276790652, 0.9988538665010531, 0.9993833437895749, 0.9974353366125759, 0.9996505811208758, 0.9976284240507319, 0.9981440116160504, 0.9979695187814251, 0.999879727880241, 0.997179959438417, 0.9981249892478682, 0.9971600356663664, 0.9963087089235404, 0.9975408102221914, 0.9984758120116777, 0.9969553967243577, 0.9989520928261134, 0.9984747338227189, 0.9994396126932706, 0.9984919943349483, 0.9986613850542657, 0.9986142151542732, 0.9983409713410627, 0.9985398519128639, 0.9991682509392491, 0.99904279019986, 0.9985407434763819, 0.9995740971812516, 0.9995272006806739, 0.999152546127749, 0.9996052867025822, 0.9985886674274832, 0.9977917489759514, 0.9967045783186427, 0.9992890357011343, 0.9975833466321895, 0.9986481876720963, 0.9983377811976795, 0.9991056946830773, 0.9953261201066194, 0.9965300843157814], \"Term\": [\"across\", \"affected\", \"aid\", \"americans\", \"amp\", \"areas\", \"assistance\", \"bahamas\", \"cannot\", \"caribbean\", \"city\", \"co\", \"coast\", \"country\", \"crisis\", \"cuba\", \"damage\", \"damaged\", \"days\", \"dead\", \"death\", \"deaths\", \"destroyed\", \"destruction\", \"devastated\", \"donate\", \"donations\", \"effos\", \"electricity\", \"emergency\", \"even\", \"everyone\", \"f\", \"family\", \"fema\", \"flood\", \"flooding\", \"floods\", \"florida\", \"food\", \"get\", \"go\", \"going\", \"haiti\", \"harvey\", \"harvey\", \"harvey\", \"hea\", \"heads\", \"heavy\", \"help\", \"hit\", \"hits\", \"home\", \"homes\", \"hope\", \"https\", \"humanitarian\", \"hurricane\", \"hurricane\", \"hurricaneharvey\", \"hurricaneirma\", \"hurricaneirma\", \"hurricanemaria\", \"hurricanemaria\", \"hurricanemaria\", \"hurricanematthew\", \"hurricanematthew\", \"hurricanematthew\", \"hurricanes\", \"irma\", \"island\", \"jamaica\", \"jamaica\", \"jamaica\", \"juan\", \"killed\", \"landfall\", \"least\", \"left\", \"like\", \"made\", \"many\", \"maria\", \"matthew\", \"medical\", \"mexico\", \"need\", \"new\", \"news\", \"people\", \"please\", \"power\", \"pr\", \"pray\", \"prayers\", \"pueo\", \"pueorico\", \"rain\", \"reach\", \"realdonaldtrump\", \"recovery\", \"relief\", \"rescue\", \"residents\", \"response\", \"rico\", \"ricos\", \"roads\", \"san\", \"says\", \"see\", \"send\", \"south\", \"st\", \"still\", \"storm\", \"supplies\", \"suppo\", \"team\", \"texas\", \"thanks\", \"thoughts\", \"toll\", \"tropical\", \"trump\", \"us\", \"via\", \"victims\", \"video\", \"warning\", \"watch\", \"water\", \"weather\", \"wind\", \"winds\", \"without\", \"workers\", \"would\"]}, \"R\": 30, \"lambda.step\": 0.01, \"plot.opts\": {\"xlab\": \"PC1\", \"ylab\": \"PC2\"}, \"topic.order\": [3, 2, 4, 1]};\n",
       "\n",
       "function LDAvis_load_lib(url, callback){\n",
       "  var s = document.createElement('script');\n",
       "  s.src = url;\n",
       "  s.async = true;\n",
       "  s.onreadystatechange = s.onload = callback;\n",
       "  s.onerror = function(){console.warn(\"failed to load library \" + url);};\n",
       "  document.getElementsByTagName(\"head\")[0].appendChild(s);\n",
       "}\n",
       "\n",
       "if(typeof(LDAvis) !== \"undefined\"){\n",
       "   // already loaded: just create the visualization\n",
       "   !function(LDAvis){\n",
       "       new LDAvis(\"#\" + \"ldavis_el9671401559206115848285527751\", ldavis_el9671401559206115848285527751_data);\n",
       "   }(LDAvis);\n",
       "}else if(typeof define === \"function\" && define.amd){\n",
       "   // require.js is available: use it to load d3/LDAvis\n",
       "   require.config({paths: {d3: \"https://d3js.org/d3.v5\"}});\n",
       "   require([\"d3\"], function(d3){\n",
       "      window.d3 = d3;\n",
       "      LDAvis_load_lib(\"https://cdn.jsdelivr.net/gh/bmabey/pyLDAvis@3.4.0/pyLDAvis/js/ldavis.v3.0.0.js\", function(){\n",
       "        new LDAvis(\"#\" + \"ldavis_el9671401559206115848285527751\", ldavis_el9671401559206115848285527751_data);\n",
       "      });\n",
       "    });\n",
       "}else{\n",
       "    // require.js not available: dynamically load d3 & LDAvis\n",
       "    LDAvis_load_lib(\"https://d3js.org/d3.v5.js\", function(){\n",
       "         LDAvis_load_lib(\"https://cdn.jsdelivr.net/gh/bmabey/pyLDAvis@3.4.0/pyLDAvis/js/ldavis.v3.0.0.js\", function(){\n",
       "                 new LDAvis(\"#\" + \"ldavis_el9671401559206115848285527751\", ldavis_el9671401559206115848285527751_data);\n",
       "            })\n",
       "         });\n",
       "}\n",
       "</script>"
      ],
      "text/plain": [
       "PreparedData(topic_coordinates=              x         y  topics  cluster       Freq\n",
       "topic                                                \n",
       "2     -0.216282 -0.118539       1        1  30.738736\n",
       "1     -0.193993  0.106568       2        1  25.669653\n",
       "3      0.220116 -0.241701       3        1  22.153917\n",
       "0      0.190159  0.253671       4        1  21.437694, topic_info=            Term          Freq         Total Category  logprob  loglift\n",
       "3      hurricane  14038.000000  14038.000000  Default  30.0000  30.0000\n",
       "6921       maria   6480.000000   6480.000000  Default  29.0000  29.0000\n",
       "6909       haiti   5849.000000   5849.000000  Default  28.0000  28.0000\n",
       "10735       pueo   5273.000000   5273.000000  Default  27.0000  27.0000\n",
       "10736       rico   4724.000000   4724.000000  Default  26.0000  26.0000\n",
       "...          ...           ...           ...      ...      ...      ...\n",
       "42            st    267.547574    268.281134   Topic4  -5.4974   1.5373\n",
       "987        south    279.084605    279.852038   Topic4  -5.4552   1.5373\n",
       "1633     workers    302.428007    303.418140   Topic4  -5.3749   1.5368\n",
       "1056        hope    290.434547    291.318881   Topic4  -5.4153   1.5370\n",
       "1         harvey    568.354503    985.184073   Topic4  -4.7440   0.9899\n",
       "\n",
       "[160 rows x 6 columns], token_table=      Topic      Freq       Term\n",
       "term                            \n",
       "1642      4  0.996848     across\n",
       "231       1  0.999116   affected\n",
       "95        3  0.999208        aid\n",
       "1870      1  0.998920  americans\n",
       "34        1  0.999582        amp\n",
       "...     ...       ...        ...\n",
       "1949      4  0.998648       wind\n",
       "17        4  0.998338      winds\n",
       "345       3  0.999106    without\n",
       "1633      4  0.995326    workers\n",
       "256       3  0.996530      would\n",
       "\n",
       "[139 rows x 3 columns], R=30, lambda_step=0.01, plot_opts={'xlab': 'PC1', 'ylab': 'PC2'}, topic_order=[3, 2, 4, 1])"
      ]
     },
     "execution_count": 39,
     "metadata": {},
     "output_type": "execute_result"
    }
   ],
   "source": [
    "vis"
   ]
  },
  {
   "cell_type": "code",
   "execution_count": null,
   "metadata": {},
   "outputs": [],
   "source": []
  }
 ],
 "metadata": {
  "colab": {
   "provenance": []
  },
  "kernelspec": {
   "display_name": "env1",
   "language": "python",
   "name": "env1"
  },
  "language_info": {
   "codemirror_mode": {
    "name": "ipython",
    "version": 3
   },
   "file_extension": ".py",
   "mimetype": "text/x-python",
   "name": "python",
   "nbconvert_exporter": "python",
   "pygments_lexer": "ipython3",
   "version": "3.9.7"
  }
 },
 "nbformat": 4,
 "nbformat_minor": 1
}
